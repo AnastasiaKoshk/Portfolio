{
 "cells": [
  {
   "cell_type": "markdown",
   "id": "60f206b7",
   "metadata": {},
   "source": [
    "# Приоритизация гипотез, запуск A/B-теста и анализ результатов. "
   ]
  },
  {
   "cell_type": "markdown",
   "id": "4d9780ec",
   "metadata": {},
   "source": [
    "# Описание проекта\n",
    "\n",
    "Вы — аналитик крупного интернет-магазина. Вместе с отделом маркетинга вы подготовили список гипотез для увеличения выручки.\n",
    "Приоритизируйте гипотезы, запустите A/B-тест и проанализируйте результаты. \n"
   ]
  },
  {
   "cell_type": "markdown",
   "id": "f39a1838",
   "metadata": {},
   "source": [
    "**Описание данных**"
   ]
  },
  {
   "cell_type": "markdown",
   "id": "bf511b35",
   "metadata": {},
   "source": [
    "Датасет `hypothesis`:\n",
    "- Hypothesis — краткое описание гипотезы;\n",
    "- Reach — охват пользователей по 10-балльной шкале;\n",
    "- Impact — влияние на пользователей по 10-балльной шкале;\n",
    "- Confidence — уверенность в гипотезе по 10-балльной шкале;\n",
    "- Efforts — затраты ресурсов на проверку гипотезы по 10-балльной шкале. Чем больше значение Efforts, тем дороже проверка гипотезы."
   ]
  },
  {
   "cell_type": "markdown",
   "id": "0774edda",
   "metadata": {},
   "source": [
    "Датасет `orders`:\n",
    "- transactionId — идентификатор заказа;\n",
    "- visitorId — идентификатор пользователя, совершившего заказ;\n",
    "- date — дата, когда был совершён заказ;\n",
    "- revenue — выручка заказа;\n",
    "- group — группа A/B-теста, в которую попал заказ."
   ]
  },
  {
   "cell_type": "markdown",
   "id": "2766e1e3",
   "metadata": {},
   "source": [
    "Датасет `visitors`:\n",
    "- date — дата;\n",
    "- group — группа A/B-теста;\n",
    "- visitors — количество пользователей в указанную дату в указанной группе A/B-теста\n",
    "\n",
    "\n",
    "**Инструменты и навыки:**\n",
    "- python\n",
    "- pandas\n",
    "- matplotlib\n",
    "- spicy\n",
    "- A/B тестирование\n",
    "- проверка статистических гипотез"
   ]
  },
  {
   "cell_type": "markdown",
   "id": "41046de1",
   "metadata": {},
   "source": [
    "## Загрузка данных и подготовка их к анализу"
   ]
  },
  {
   "cell_type": "markdown",
   "id": "721d21d3",
   "metadata": {},
   "source": [
    "### Загрузка данных"
   ]
  },
  {
   "cell_type": "code",
   "execution_count": 1,
   "id": "deeb2267",
   "metadata": {},
   "outputs": [],
   "source": [
    "import pandas as pd\n",
    "import matplotlib.pyplot as plt\n",
    "from pandas.plotting import register_matplotlib_converters\n",
    "import warnings\n",
    "import seaborn as sb\n",
    "import numpy as np\n",
    "import datetime as dt\n",
    "from scipy import stats as st\n",
    "from datetime import date\n",
    "%config InlineBackend.figure_format = 'retina'"
   ]
  },
  {
   "cell_type": "code",
   "execution_count": 2,
   "id": "f9f6672f",
   "metadata": {},
   "outputs": [],
   "source": [
    "try:\n",
    "    hypothesis = pd.read_csv('/datasets/hypothesis.csv', sep=',') \n",
    "except:\n",
    "    hypothesis = pd.read_csv('https://code.s3.yandex.net/datasets/hypothesis.csv', sep=',') \n",
    "try:\n",
    "    orders = pd.read_csv('/datasets/orders.csv', sep=',') \n",
    "except:\n",
    "    orders = pd.read_csv('https://code.s3.yandex.net/datasets/orders.csv', sep=',') \n",
    "    \n",
    "try:\n",
    "    visitors = pd.read_csv('/datasets/visitors.csv', sep=',') \n",
    "except:\n",
    "    visitors = pd.read_csv('https://code.s3.yandex.net/datasets/visitors.csv', sep=',') \n",
    "  "
   ]
  },
  {
   "cell_type": "markdown",
   "id": "17d14a1b",
   "metadata": {},
   "source": [
    "### Предобработка и изучение датасета orders."
   ]
  },
  {
   "cell_type": "code",
   "execution_count": 3,
   "id": "76611a8b",
   "metadata": {},
   "outputs": [
    {
     "data": {
      "text/html": [
       "<div>\n",
       "<style scoped>\n",
       "    .dataframe tbody tr th:only-of-type {\n",
       "        vertical-align: middle;\n",
       "    }\n",
       "\n",
       "    .dataframe tbody tr th {\n",
       "        vertical-align: top;\n",
       "    }\n",
       "\n",
       "    .dataframe thead th {\n",
       "        text-align: right;\n",
       "    }\n",
       "</style>\n",
       "<table border=\"1\" class=\"dataframe\">\n",
       "  <thead>\n",
       "    <tr style=\"text-align: right;\">\n",
       "      <th></th>\n",
       "      <th>transactionId</th>\n",
       "      <th>visitorId</th>\n",
       "      <th>date</th>\n",
       "      <th>revenue</th>\n",
       "      <th>group</th>\n",
       "    </tr>\n",
       "  </thead>\n",
       "  <tbody>\n",
       "    <tr>\n",
       "      <th>0</th>\n",
       "      <td>3667963787</td>\n",
       "      <td>3312258926</td>\n",
       "      <td>2019-08-15</td>\n",
       "      <td>1650</td>\n",
       "      <td>B</td>\n",
       "    </tr>\n",
       "    <tr>\n",
       "      <th>1</th>\n",
       "      <td>2804400009</td>\n",
       "      <td>3642806036</td>\n",
       "      <td>2019-08-15</td>\n",
       "      <td>730</td>\n",
       "      <td>B</td>\n",
       "    </tr>\n",
       "    <tr>\n",
       "      <th>2</th>\n",
       "      <td>2961555356</td>\n",
       "      <td>4069496402</td>\n",
       "      <td>2019-08-15</td>\n",
       "      <td>400</td>\n",
       "      <td>A</td>\n",
       "    </tr>\n",
       "    <tr>\n",
       "      <th>3</th>\n",
       "      <td>3797467345</td>\n",
       "      <td>1196621759</td>\n",
       "      <td>2019-08-15</td>\n",
       "      <td>9759</td>\n",
       "      <td>B</td>\n",
       "    </tr>\n",
       "    <tr>\n",
       "      <th>4</th>\n",
       "      <td>2282983706</td>\n",
       "      <td>2322279887</td>\n",
       "      <td>2019-08-15</td>\n",
       "      <td>2308</td>\n",
       "      <td>B</td>\n",
       "    </tr>\n",
       "  </tbody>\n",
       "</table>\n",
       "</div>"
      ],
      "text/plain": [
       "   transactionId   visitorId        date  revenue group\n",
       "0     3667963787  3312258926  2019-08-15     1650     B\n",
       "1     2804400009  3642806036  2019-08-15      730     B\n",
       "2     2961555356  4069496402  2019-08-15      400     A\n",
       "3     3797467345  1196621759  2019-08-15     9759     B\n",
       "4     2282983706  2322279887  2019-08-15     2308     B"
      ]
     },
     "execution_count": 3,
     "metadata": {},
     "output_type": "execute_result"
    }
   ],
   "source": [
    "orders.head(5)"
   ]
  },
  {
   "cell_type": "code",
   "execution_count": 4,
   "id": "1fc1b0c5",
   "metadata": {},
   "outputs": [
    {
     "name": "stdout",
     "output_type": "stream",
     "text": [
      "<class 'pandas.core.frame.DataFrame'>\n",
      "RangeIndex: 1197 entries, 0 to 1196\n",
      "Data columns (total 5 columns):\n",
      " #   Column         Non-Null Count  Dtype \n",
      "---  ------         --------------  ----- \n",
      " 0   transactionId  1197 non-null   int64 \n",
      " 1   visitorId      1197 non-null   int64 \n",
      " 2   date           1197 non-null   object\n",
      " 3   revenue        1197 non-null   int64 \n",
      " 4   group          1197 non-null   object\n",
      "dtypes: int64(3), object(2)\n",
      "memory usage: 46.9+ KB\n"
     ]
    }
   ],
   "source": [
    "orders.info() # Выведем общую информацию о датасете"
   ]
  },
  {
   "cell_type": "code",
   "execution_count": 5,
   "id": "3d33c72a",
   "metadata": {},
   "outputs": [],
   "source": [
    "orders.rename(columns = {'transactionId':'transaction_id', 'visitorId':'visitor_id'}, inplace = True )"
   ]
  },
  {
   "cell_type": "code",
   "execution_count": 6,
   "id": "fb286b13",
   "metadata": {},
   "outputs": [
    {
     "data": {
      "text/plain": [
       "transaction_id    0\n",
       "visitor_id        0\n",
       "date              0\n",
       "revenue           0\n",
       "group             0\n",
       "dtype: int64"
      ]
     },
     "execution_count": 6,
     "metadata": {},
     "output_type": "execute_result"
    }
   ],
   "source": [
    "orders.isna().sum() # Пропусков в датасете нет"
   ]
  },
  {
   "cell_type": "code",
   "execution_count": 7,
   "id": "a1cb0c3d",
   "metadata": {},
   "outputs": [
    {
     "data": {
      "text/plain": [
       "0"
      ]
     },
     "execution_count": 7,
     "metadata": {},
     "output_type": "execute_result"
    }
   ],
   "source": [
    "orders.duplicated().sum() # Дубликатов тоже нет"
   ]
  },
  {
   "cell_type": "code",
   "execution_count": 8,
   "id": "fcc7dfb4",
   "metadata": {},
   "outputs": [],
   "source": [
    "orders['date'] = orders['date'].map(\n",
    "    lambda x: dt.datetime.strptime(x, '%Y-%m-%d')\n",
    ")"
   ]
  },
  {
   "cell_type": "code",
   "execution_count": 9,
   "id": "aa5f95d8",
   "metadata": {},
   "outputs": [
    {
     "name": "stdout",
     "output_type": "stream",
     "text": [
      "<class 'pandas.core.frame.DataFrame'>\n",
      "RangeIndex: 1197 entries, 0 to 1196\n",
      "Data columns (total 5 columns):\n",
      " #   Column          Non-Null Count  Dtype         \n",
      "---  ------          --------------  -----         \n",
      " 0   transaction_id  1197 non-null   int64         \n",
      " 1   visitor_id      1197 non-null   int64         \n",
      " 2   date            1197 non-null   datetime64[ns]\n",
      " 3   revenue         1197 non-null   int64         \n",
      " 4   group           1197 non-null   object        \n",
      "dtypes: datetime64[ns](1), int64(3), object(1)\n",
      "memory usage: 46.9+ KB\n"
     ]
    }
   ],
   "source": [
    "orders.info() # Поменяем тип данных даты"
   ]
  },
  {
   "cell_type": "markdown",
   "id": "e81959dc",
   "metadata": {},
   "source": [
    "### Предобработка и изучение датасета visitors."
   ]
  },
  {
   "cell_type": "code",
   "execution_count": 10,
   "id": "404c471e",
   "metadata": {},
   "outputs": [
    {
     "data": {
      "text/html": [
       "<div>\n",
       "<style scoped>\n",
       "    .dataframe tbody tr th:only-of-type {\n",
       "        vertical-align: middle;\n",
       "    }\n",
       "\n",
       "    .dataframe tbody tr th {\n",
       "        vertical-align: top;\n",
       "    }\n",
       "\n",
       "    .dataframe thead th {\n",
       "        text-align: right;\n",
       "    }\n",
       "</style>\n",
       "<table border=\"1\" class=\"dataframe\">\n",
       "  <thead>\n",
       "    <tr style=\"text-align: right;\">\n",
       "      <th></th>\n",
       "      <th>date</th>\n",
       "      <th>group</th>\n",
       "      <th>visitors</th>\n",
       "    </tr>\n",
       "  </thead>\n",
       "  <tbody>\n",
       "    <tr>\n",
       "      <th>0</th>\n",
       "      <td>2019-08-01</td>\n",
       "      <td>A</td>\n",
       "      <td>719</td>\n",
       "    </tr>\n",
       "    <tr>\n",
       "      <th>1</th>\n",
       "      <td>2019-08-02</td>\n",
       "      <td>A</td>\n",
       "      <td>619</td>\n",
       "    </tr>\n",
       "    <tr>\n",
       "      <th>2</th>\n",
       "      <td>2019-08-03</td>\n",
       "      <td>A</td>\n",
       "      <td>507</td>\n",
       "    </tr>\n",
       "    <tr>\n",
       "      <th>3</th>\n",
       "      <td>2019-08-04</td>\n",
       "      <td>A</td>\n",
       "      <td>717</td>\n",
       "    </tr>\n",
       "    <tr>\n",
       "      <th>4</th>\n",
       "      <td>2019-08-05</td>\n",
       "      <td>A</td>\n",
       "      <td>756</td>\n",
       "    </tr>\n",
       "  </tbody>\n",
       "</table>\n",
       "</div>"
      ],
      "text/plain": [
       "         date group  visitors\n",
       "0  2019-08-01     A       719\n",
       "1  2019-08-02     A       619\n",
       "2  2019-08-03     A       507\n",
       "3  2019-08-04     A       717\n",
       "4  2019-08-05     A       756"
      ]
     },
     "execution_count": 10,
     "metadata": {},
     "output_type": "execute_result"
    }
   ],
   "source": [
    "visitors.head(5)"
   ]
  },
  {
   "cell_type": "code",
   "execution_count": 11,
   "id": "283ea03f",
   "metadata": {},
   "outputs": [
    {
     "name": "stdout",
     "output_type": "stream",
     "text": [
      "<class 'pandas.core.frame.DataFrame'>\n",
      "RangeIndex: 62 entries, 0 to 61\n",
      "Data columns (total 3 columns):\n",
      " #   Column    Non-Null Count  Dtype \n",
      "---  ------    --------------  ----- \n",
      " 0   date      62 non-null     object\n",
      " 1   group     62 non-null     object\n",
      " 2   visitors  62 non-null     int64 \n",
      "dtypes: int64(1), object(2)\n",
      "memory usage: 1.6+ KB\n"
     ]
    }
   ],
   "source": [
    "visitors.info() # Выведем общую информацию о датасете"
   ]
  },
  {
   "cell_type": "code",
   "execution_count": 12,
   "id": "a4a27ea7",
   "metadata": {},
   "outputs": [
    {
     "data": {
      "text/plain": [
       "date        0\n",
       "group       0\n",
       "visitors    0\n",
       "dtype: int64"
      ]
     },
     "execution_count": 12,
     "metadata": {},
     "output_type": "execute_result"
    }
   ],
   "source": [
    "visitors.isna().sum() # Пропусков в датасете нет"
   ]
  },
  {
   "cell_type": "code",
   "execution_count": 13,
   "id": "40a27e81",
   "metadata": {},
   "outputs": [
    {
     "data": {
      "text/plain": [
       "0"
      ]
     },
     "execution_count": 13,
     "metadata": {},
     "output_type": "execute_result"
    }
   ],
   "source": [
    "visitors.duplicated().sum() # Дубликатов тоже нет"
   ]
  },
  {
   "cell_type": "code",
   "execution_count": 14,
   "id": "d6ae9b77",
   "metadata": {},
   "outputs": [],
   "source": [
    "visitors['date'] = visitors['date'].map(\n",
    "    lambda x: dt.datetime.strptime(x, '%Y-%m-%d')\n",
    ")"
   ]
  },
  {
   "cell_type": "code",
   "execution_count": 15,
   "id": "6b4f60b1",
   "metadata": {},
   "outputs": [
    {
     "name": "stdout",
     "output_type": "stream",
     "text": [
      "<class 'pandas.core.frame.DataFrame'>\n",
      "RangeIndex: 62 entries, 0 to 61\n",
      "Data columns (total 3 columns):\n",
      " #   Column    Non-Null Count  Dtype         \n",
      "---  ------    --------------  -----         \n",
      " 0   date      62 non-null     datetime64[ns]\n",
      " 1   group     62 non-null     object        \n",
      " 2   visitors  62 non-null     int64         \n",
      "dtypes: datetime64[ns](1), int64(1), object(1)\n",
      "memory usage: 1.6+ KB\n"
     ]
    }
   ],
   "source": [
    "visitors.info() # Поменяем тип данных даты"
   ]
  },
  {
   "cell_type": "markdown",
   "id": "e1e91fe0",
   "metadata": {},
   "source": [
    "### Предобработка и изучение датасета hypothesis."
   ]
  },
  {
   "cell_type": "code",
   "execution_count": 16,
   "id": "6e81bee5",
   "metadata": {
    "scrolled": true
   },
   "outputs": [
    {
     "data": {
      "text/html": [
       "<div>\n",
       "<style scoped>\n",
       "    .dataframe tbody tr th:only-of-type {\n",
       "        vertical-align: middle;\n",
       "    }\n",
       "\n",
       "    .dataframe tbody tr th {\n",
       "        vertical-align: top;\n",
       "    }\n",
       "\n",
       "    .dataframe thead th {\n",
       "        text-align: right;\n",
       "    }\n",
       "</style>\n",
       "<table border=\"1\" class=\"dataframe\">\n",
       "  <thead>\n",
       "    <tr style=\"text-align: right;\">\n",
       "      <th></th>\n",
       "      <th>Hypothesis</th>\n",
       "      <th>Reach</th>\n",
       "      <th>Impact</th>\n",
       "      <th>Confidence</th>\n",
       "      <th>Efforts</th>\n",
       "    </tr>\n",
       "  </thead>\n",
       "  <tbody>\n",
       "    <tr>\n",
       "      <th>0</th>\n",
       "      <td>Добавить два новых канала привлечения трафика,...</td>\n",
       "      <td>3</td>\n",
       "      <td>10</td>\n",
       "      <td>8</td>\n",
       "      <td>6</td>\n",
       "    </tr>\n",
       "    <tr>\n",
       "      <th>1</th>\n",
       "      <td>Запустить собственную службу доставки, что сок...</td>\n",
       "      <td>2</td>\n",
       "      <td>5</td>\n",
       "      <td>4</td>\n",
       "      <td>10</td>\n",
       "    </tr>\n",
       "    <tr>\n",
       "      <th>2</th>\n",
       "      <td>Добавить блоки рекомендаций товаров на сайт ин...</td>\n",
       "      <td>8</td>\n",
       "      <td>3</td>\n",
       "      <td>7</td>\n",
       "      <td>3</td>\n",
       "    </tr>\n",
       "    <tr>\n",
       "      <th>3</th>\n",
       "      <td>Изменить структура категорий, что увеличит кон...</td>\n",
       "      <td>8</td>\n",
       "      <td>3</td>\n",
       "      <td>3</td>\n",
       "      <td>8</td>\n",
       "    </tr>\n",
       "    <tr>\n",
       "      <th>4</th>\n",
       "      <td>Изменить цвет фона главной страницы, чтобы уве...</td>\n",
       "      <td>3</td>\n",
       "      <td>1</td>\n",
       "      <td>1</td>\n",
       "      <td>1</td>\n",
       "    </tr>\n",
       "  </tbody>\n",
       "</table>\n",
       "</div>"
      ],
      "text/plain": [
       "                                          Hypothesis  Reach  Impact  \\\n",
       "0  Добавить два новых канала привлечения трафика,...      3      10   \n",
       "1  Запустить собственную службу доставки, что сок...      2       5   \n",
       "2  Добавить блоки рекомендаций товаров на сайт ин...      8       3   \n",
       "3  Изменить структура категорий, что увеличит кон...      8       3   \n",
       "4  Изменить цвет фона главной страницы, чтобы уве...      3       1   \n",
       "\n",
       "   Confidence  Efforts  \n",
       "0           8        6  \n",
       "1           4       10  \n",
       "2           7        3  \n",
       "3           3        8  \n",
       "4           1        1  "
      ]
     },
     "execution_count": 16,
     "metadata": {},
     "output_type": "execute_result"
    }
   ],
   "source": [
    "hypothesis.head(5)"
   ]
  },
  {
   "cell_type": "code",
   "execution_count": 17,
   "id": "a103b390",
   "metadata": {},
   "outputs": [],
   "source": [
    "hypothesis.columns = [x.lower() for x in hypothesis.columns] # Приведем названия столбцов к нижнему регистру"
   ]
  },
  {
   "cell_type": "code",
   "execution_count": 18,
   "id": "f2fc9251",
   "metadata": {},
   "outputs": [
    {
     "name": "stdout",
     "output_type": "stream",
     "text": [
      "<class 'pandas.core.frame.DataFrame'>\n",
      "RangeIndex: 9 entries, 0 to 8\n",
      "Data columns (total 5 columns):\n",
      " #   Column      Non-Null Count  Dtype \n",
      "---  ------      --------------  ----- \n",
      " 0   hypothesis  9 non-null      object\n",
      " 1   reach       9 non-null      int64 \n",
      " 2   impact      9 non-null      int64 \n",
      " 3   confidence  9 non-null      int64 \n",
      " 4   efforts     9 non-null      int64 \n",
      "dtypes: int64(4), object(1)\n",
      "memory usage: 488.0+ bytes\n"
     ]
    }
   ],
   "source": [
    "hypothesis.info() # Выведем общую информацию о датасете"
   ]
  },
  {
   "cell_type": "code",
   "execution_count": 19,
   "id": "f4923110",
   "metadata": {},
   "outputs": [
    {
     "data": {
      "text/plain": [
       "hypothesis    0\n",
       "reach         0\n",
       "impact        0\n",
       "confidence    0\n",
       "efforts       0\n",
       "dtype: int64"
      ]
     },
     "execution_count": 19,
     "metadata": {},
     "output_type": "execute_result"
    }
   ],
   "source": [
    "hypothesis.isna().sum() # Пропусков в датасете нет"
   ]
  },
  {
   "cell_type": "code",
   "execution_count": 20,
   "id": "fd1d003a",
   "metadata": {},
   "outputs": [
    {
     "data": {
      "text/plain": [
       "0"
      ]
     },
     "execution_count": 20,
     "metadata": {},
     "output_type": "execute_result"
    }
   ],
   "source": [
    "hypothesis.duplicated().sum() # Дубликатов тоже нет"
   ]
  },
  {
   "cell_type": "markdown",
   "id": "ce0e8a8e",
   "metadata": {},
   "source": [
    "**Вывод:**\n",
    "- Загрузили данные датасетов `orders`,`visitors`,`hypothesis`\n",
    "- Привели к нужным типам данные дат\n",
    "- Привели к нужнему регистру и изменили названия столбцов\n"
   ]
  },
  {
   "cell_type": "markdown",
   "id": "2e592e52",
   "metadata": {},
   "source": [
    "## Приоритизация гипотез."
   ]
  },
  {
   "cell_type": "markdown",
   "id": "a82c1c6d",
   "metadata": {},
   "source": [
    "### Фреймворк ICE "
   ]
  },
  {
   "cell_type": "markdown",
   "id": "90eb6666",
   "metadata": {},
   "source": [
    "Примените фреймворк ICE для приоритизации гипотез. Отсортируйте их по убыванию приоритета."
   ]
  },
  {
   "cell_type": "code",
   "execution_count": 21,
   "id": "873cb899",
   "metadata": {},
   "outputs": [
    {
     "data": {
      "text/html": [
       "<div>\n",
       "<style scoped>\n",
       "    .dataframe tbody tr th:only-of-type {\n",
       "        vertical-align: middle;\n",
       "    }\n",
       "\n",
       "    .dataframe tbody tr th {\n",
       "        vertical-align: top;\n",
       "    }\n",
       "\n",
       "    .dataframe thead th {\n",
       "        text-align: right;\n",
       "    }\n",
       "</style>\n",
       "<table border=\"1\" class=\"dataframe\">\n",
       "  <thead>\n",
       "    <tr style=\"text-align: right;\">\n",
       "      <th></th>\n",
       "      <th>hypothesis</th>\n",
       "      <th>ICE</th>\n",
       "    </tr>\n",
       "  </thead>\n",
       "  <tbody>\n",
       "    <tr>\n",
       "      <th>8</th>\n",
       "      <td>Запустить акцию, дающую скидку на товар в день рождения</td>\n",
       "      <td>16.20</td>\n",
       "    </tr>\n",
       "    <tr>\n",
       "      <th>0</th>\n",
       "      <td>Добавить два новых канала привлечения трафика, что позволит привлекать на 30% больше пользователей</td>\n",
       "      <td>13.33</td>\n",
       "    </tr>\n",
       "    <tr>\n",
       "      <th>7</th>\n",
       "      <td>Добавить форму подписки на все основные страницы, чтобы собрать базу клиентов для email-рассылок</td>\n",
       "      <td>11.20</td>\n",
       "    </tr>\n",
       "    <tr>\n",
       "      <th>6</th>\n",
       "      <td>Показать на главной странице баннеры с актуальными акциями и распродажами, чтобы увеличить конве...</td>\n",
       "      <td>8.00</td>\n",
       "    </tr>\n",
       "    <tr>\n",
       "      <th>2</th>\n",
       "      <td>Добавить блоки рекомендаций товаров на сайт интернет магазина, чтобы повысить конверсию и средни...</td>\n",
       "      <td>7.00</td>\n",
       "    </tr>\n",
       "    <tr>\n",
       "      <th>1</th>\n",
       "      <td>Запустить собственную службу доставки, что сократит срок доставки заказов</td>\n",
       "      <td>2.00</td>\n",
       "    </tr>\n",
       "    <tr>\n",
       "      <th>5</th>\n",
       "      <td>Добавить страницу отзывов клиентов о магазине, что позволит увеличить количество заказов</td>\n",
       "      <td>1.33</td>\n",
       "    </tr>\n",
       "    <tr>\n",
       "      <th>3</th>\n",
       "      <td>Изменить структура категорий, что увеличит конверсию, т.к. пользователи быстрее найдут нужный товар</td>\n",
       "      <td>1.12</td>\n",
       "    </tr>\n",
       "    <tr>\n",
       "      <th>4</th>\n",
       "      <td>Изменить цвет фона главной страницы, чтобы увеличить вовлеченность пользователей</td>\n",
       "      <td>1.00</td>\n",
       "    </tr>\n",
       "  </tbody>\n",
       "</table>\n",
       "</div>"
      ],
      "text/plain": [
       "                                                                                            hypothesis    ICE\n",
       "8                                              Запустить акцию, дающую скидку на товар в день рождения  16.20\n",
       "0   Добавить два новых канала привлечения трафика, что позволит привлекать на 30% больше пользователей  13.33\n",
       "7     Добавить форму подписки на все основные страницы, чтобы собрать базу клиентов для email-рассылок  11.20\n",
       "6  Показать на главной странице баннеры с актуальными акциями и распродажами, чтобы увеличить конве...   8.00\n",
       "2  Добавить блоки рекомендаций товаров на сайт интернет магазина, чтобы повысить конверсию и средни...   7.00\n",
       "1                            Запустить собственную службу доставки, что сократит срок доставки заказов   2.00\n",
       "5             Добавить страницу отзывов клиентов о магазине, что позволит увеличить количество заказов   1.33\n",
       "3  Изменить структура категорий, что увеличит конверсию, т.к. пользователи быстрее найдут нужный товар   1.12\n",
       "4                     Изменить цвет фона главной страницы, чтобы увеличить вовлеченность пользователей   1.00"
      ]
     },
     "execution_count": 21,
     "metadata": {},
     "output_type": "execute_result"
    }
   ],
   "source": [
    "pd.set_option('max_colwidth', 100)\n",
    "pd.set_option('display.width', 300)\n",
    "hypothesis['ICE']=round((hypothesis['impact']*hypothesis['confidence'])/hypothesis['efforts'],2)\n",
    "hypothesis[['hypothesis','ICE']].sort_values(by='ICE',ascending=False)\n"
   ]
  },
  {
   "cell_type": "markdown",
   "id": "36c0dee6",
   "metadata": {},
   "source": [
    "По данным анализа наиболее перспективными являются гипотезы:\n",
    "- 8 (Запустить акцию, дающую скидку на товар в день рождения)\n",
    "- 0 (Добавить два новых канала привлечения трафика, что позволит привлекать на 30% больше пользователей)\n",
    "- 7 (Добавить форму подписки на все основные страницы, чтобы собрать базу клиентов для email-рассылок)"
   ]
  },
  {
   "cell_type": "markdown",
   "id": "742b2c4d",
   "metadata": {},
   "source": [
    "### Фреймворк RICE "
   ]
  },
  {
   "cell_type": "markdown",
   "id": "ba012a32",
   "metadata": {},
   "source": [
    "Примените фреймворк RICE для приоритизации гипотез. Отсортируйте их по убыванию приоритета."
   ]
  },
  {
   "cell_type": "code",
   "execution_count": 22,
   "id": "096bce72",
   "metadata": {},
   "outputs": [
    {
     "data": {
      "text/html": [
       "<div>\n",
       "<style scoped>\n",
       "    .dataframe tbody tr th:only-of-type {\n",
       "        vertical-align: middle;\n",
       "    }\n",
       "\n",
       "    .dataframe tbody tr th {\n",
       "        vertical-align: top;\n",
       "    }\n",
       "\n",
       "    .dataframe thead th {\n",
       "        text-align: right;\n",
       "    }\n",
       "</style>\n",
       "<table border=\"1\" class=\"dataframe\">\n",
       "  <thead>\n",
       "    <tr style=\"text-align: right;\">\n",
       "      <th></th>\n",
       "      <th>hypothesis</th>\n",
       "      <th>RICE</th>\n",
       "    </tr>\n",
       "  </thead>\n",
       "  <tbody>\n",
       "    <tr>\n",
       "      <th>7</th>\n",
       "      <td>Добавить форму подписки на все основные страницы, чтобы собрать базу клиентов для email-рассылок</td>\n",
       "      <td>112.0</td>\n",
       "    </tr>\n",
       "    <tr>\n",
       "      <th>2</th>\n",
       "      <td>Добавить блоки рекомендаций товаров на сайт интернет магазина, чтобы повысить конверсию и средни...</td>\n",
       "      <td>56.0</td>\n",
       "    </tr>\n",
       "    <tr>\n",
       "      <th>0</th>\n",
       "      <td>Добавить два новых канала привлечения трафика, что позволит привлекать на 30% больше пользователей</td>\n",
       "      <td>40.0</td>\n",
       "    </tr>\n",
       "    <tr>\n",
       "      <th>6</th>\n",
       "      <td>Показать на главной странице баннеры с актуальными акциями и распродажами, чтобы увеличить конве...</td>\n",
       "      <td>40.0</td>\n",
       "    </tr>\n",
       "    <tr>\n",
       "      <th>8</th>\n",
       "      <td>Запустить акцию, дающую скидку на товар в день рождения</td>\n",
       "      <td>16.2</td>\n",
       "    </tr>\n",
       "    <tr>\n",
       "      <th>3</th>\n",
       "      <td>Изменить структура категорий, что увеличит конверсию, т.к. пользователи быстрее найдут нужный товар</td>\n",
       "      <td>9.0</td>\n",
       "    </tr>\n",
       "    <tr>\n",
       "      <th>1</th>\n",
       "      <td>Запустить собственную службу доставки, что сократит срок доставки заказов</td>\n",
       "      <td>4.0</td>\n",
       "    </tr>\n",
       "    <tr>\n",
       "      <th>5</th>\n",
       "      <td>Добавить страницу отзывов клиентов о магазине, что позволит увеличить количество заказов</td>\n",
       "      <td>4.0</td>\n",
       "    </tr>\n",
       "    <tr>\n",
       "      <th>4</th>\n",
       "      <td>Изменить цвет фона главной страницы, чтобы увеличить вовлеченность пользователей</td>\n",
       "      <td>3.0</td>\n",
       "    </tr>\n",
       "  </tbody>\n",
       "</table>\n",
       "</div>"
      ],
      "text/plain": [
       "                                                                                            hypothesis   RICE\n",
       "7     Добавить форму подписки на все основные страницы, чтобы собрать базу клиентов для email-рассылок  112.0\n",
       "2  Добавить блоки рекомендаций товаров на сайт интернет магазина, чтобы повысить конверсию и средни...   56.0\n",
       "0   Добавить два новых канала привлечения трафика, что позволит привлекать на 30% больше пользователей   40.0\n",
       "6  Показать на главной странице баннеры с актуальными акциями и распродажами, чтобы увеличить конве...   40.0\n",
       "8                                              Запустить акцию, дающую скидку на товар в день рождения   16.2\n",
       "3  Изменить структура категорий, что увеличит конверсию, т.к. пользователи быстрее найдут нужный товар    9.0\n",
       "1                            Запустить собственную службу доставки, что сократит срок доставки заказов    4.0\n",
       "5             Добавить страницу отзывов клиентов о магазине, что позволит увеличить количество заказов    4.0\n",
       "4                     Изменить цвет фона главной страницы, чтобы увеличить вовлеченность пользователей    3.0"
      ]
     },
     "execution_count": 22,
     "metadata": {},
     "output_type": "execute_result"
    }
   ],
   "source": [
    "hypothesis['RICE']=(hypothesis['reach']*hypothesis['impact']*hypothesis['confidence'])/hypothesis['efforts']\n",
    "hypothesis[['hypothesis','RICE']].sort_values(by='RICE',ascending=False)"
   ]
  },
  {
   "cell_type": "markdown",
   "id": "3cac7be3",
   "metadata": {},
   "source": [
    "Теперь же наиболее перспективными являются гипотезы:\n",
    "- 7 (Добавить форму подписки на все основные страницы, чтобы собрать базу клиентов для email-рассылок)\n",
    "- 2 (Добавить блоки рекомендаций товаров на сайт интернет магазина, чтобы повысить конверсию и средний чек заказа)\n",
    "- 0 (Добавить два новых канала привлечения трафика, что позволит привлекать на 30% больше пользователей)\n",
    "- 6 (Показать на главной странице баннеры с актуальными акциями и распродажами, чтобы увеличить конверсию)"
   ]
  },
  {
   "cell_type": "markdown",
   "id": "57b5fe88",
   "metadata": {},
   "source": [
    "### Различия после применения RICE вместо ICE."
   ]
  },
  {
   "cell_type": "markdown",
   "id": "d5c9af32",
   "metadata": {},
   "source": [
    "Укажите, как изменилась приоритизация гипотез при применении RICE вместо ICE. Объясните, почему так произошло."
   ]
  },
  {
   "cell_type": "code",
   "execution_count": 23,
   "id": "72e8b816",
   "metadata": {},
   "outputs": [
    {
     "data": {
      "text/html": [
       "<div>\n",
       "<style scoped>\n",
       "    .dataframe tbody tr th:only-of-type {\n",
       "        vertical-align: middle;\n",
       "    }\n",
       "\n",
       "    .dataframe tbody tr th {\n",
       "        vertical-align: top;\n",
       "    }\n",
       "\n",
       "    .dataframe thead th {\n",
       "        text-align: right;\n",
       "    }\n",
       "</style>\n",
       "<table border=\"1\" class=\"dataframe\">\n",
       "  <thead>\n",
       "    <tr style=\"text-align: right;\">\n",
       "      <th></th>\n",
       "      <th>hypothesis</th>\n",
       "      <th>reach</th>\n",
       "      <th>impact</th>\n",
       "      <th>confidence</th>\n",
       "      <th>efforts</th>\n",
       "      <th>ICE</th>\n",
       "      <th>RICE</th>\n",
       "    </tr>\n",
       "  </thead>\n",
       "  <tbody>\n",
       "    <tr>\n",
       "      <th>0</th>\n",
       "      <td>Добавить два новых канала привлечения трафика, что позволит привлекать на 30% больше пользователей</td>\n",
       "      <td>3</td>\n",
       "      <td>10</td>\n",
       "      <td>8</td>\n",
       "      <td>6</td>\n",
       "      <td>13.33</td>\n",
       "      <td>40.0</td>\n",
       "    </tr>\n",
       "    <tr>\n",
       "      <th>1</th>\n",
       "      <td>Запустить собственную службу доставки, что сократит срок доставки заказов</td>\n",
       "      <td>2</td>\n",
       "      <td>5</td>\n",
       "      <td>4</td>\n",
       "      <td>10</td>\n",
       "      <td>2.00</td>\n",
       "      <td>4.0</td>\n",
       "    </tr>\n",
       "    <tr>\n",
       "      <th>2</th>\n",
       "      <td>Добавить блоки рекомендаций товаров на сайт интернет магазина, чтобы повысить конверсию и средни...</td>\n",
       "      <td>8</td>\n",
       "      <td>3</td>\n",
       "      <td>7</td>\n",
       "      <td>3</td>\n",
       "      <td>7.00</td>\n",
       "      <td>56.0</td>\n",
       "    </tr>\n",
       "    <tr>\n",
       "      <th>3</th>\n",
       "      <td>Изменить структура категорий, что увеличит конверсию, т.к. пользователи быстрее найдут нужный товар</td>\n",
       "      <td>8</td>\n",
       "      <td>3</td>\n",
       "      <td>3</td>\n",
       "      <td>8</td>\n",
       "      <td>1.12</td>\n",
       "      <td>9.0</td>\n",
       "    </tr>\n",
       "    <tr>\n",
       "      <th>4</th>\n",
       "      <td>Изменить цвет фона главной страницы, чтобы увеличить вовлеченность пользователей</td>\n",
       "      <td>3</td>\n",
       "      <td>1</td>\n",
       "      <td>1</td>\n",
       "      <td>1</td>\n",
       "      <td>1.00</td>\n",
       "      <td>3.0</td>\n",
       "    </tr>\n",
       "    <tr>\n",
       "      <th>5</th>\n",
       "      <td>Добавить страницу отзывов клиентов о магазине, что позволит увеличить количество заказов</td>\n",
       "      <td>3</td>\n",
       "      <td>2</td>\n",
       "      <td>2</td>\n",
       "      <td>3</td>\n",
       "      <td>1.33</td>\n",
       "      <td>4.0</td>\n",
       "    </tr>\n",
       "    <tr>\n",
       "      <th>6</th>\n",
       "      <td>Показать на главной странице баннеры с актуальными акциями и распродажами, чтобы увеличить конве...</td>\n",
       "      <td>5</td>\n",
       "      <td>3</td>\n",
       "      <td>8</td>\n",
       "      <td>3</td>\n",
       "      <td>8.00</td>\n",
       "      <td>40.0</td>\n",
       "    </tr>\n",
       "    <tr>\n",
       "      <th>7</th>\n",
       "      <td>Добавить форму подписки на все основные страницы, чтобы собрать базу клиентов для email-рассылок</td>\n",
       "      <td>10</td>\n",
       "      <td>7</td>\n",
       "      <td>8</td>\n",
       "      <td>5</td>\n",
       "      <td>11.20</td>\n",
       "      <td>112.0</td>\n",
       "    </tr>\n",
       "    <tr>\n",
       "      <th>8</th>\n",
       "      <td>Запустить акцию, дающую скидку на товар в день рождения</td>\n",
       "      <td>1</td>\n",
       "      <td>9</td>\n",
       "      <td>9</td>\n",
       "      <td>5</td>\n",
       "      <td>16.20</td>\n",
       "      <td>16.2</td>\n",
       "    </tr>\n",
       "  </tbody>\n",
       "</table>\n",
       "</div>"
      ],
      "text/plain": [
       "                                                                                            hypothesis  reach  impact  confidence  efforts    ICE   RICE\n",
       "0   Добавить два новых канала привлечения трафика, что позволит привлекать на 30% больше пользователей      3      10           8        6  13.33   40.0\n",
       "1                            Запустить собственную службу доставки, что сократит срок доставки заказов      2       5           4       10   2.00    4.0\n",
       "2  Добавить блоки рекомендаций товаров на сайт интернет магазина, чтобы повысить конверсию и средни...      8       3           7        3   7.00   56.0\n",
       "3  Изменить структура категорий, что увеличит конверсию, т.к. пользователи быстрее найдут нужный товар      8       3           3        8   1.12    9.0\n",
       "4                     Изменить цвет фона главной страницы, чтобы увеличить вовлеченность пользователей      3       1           1        1   1.00    3.0\n",
       "5             Добавить страницу отзывов клиентов о магазине, что позволит увеличить количество заказов      3       2           2        3   1.33    4.0\n",
       "6  Показать на главной странице баннеры с актуальными акциями и распродажами, чтобы увеличить конве...      5       3           8        3   8.00   40.0\n",
       "7     Добавить форму подписки на все основные страницы, чтобы собрать базу клиентов для email-рассылок     10       7           8        5  11.20  112.0\n",
       "8                                              Запустить акцию, дающую скидку на товар в день рождения      1       9           9        5  16.20   16.2"
      ]
     },
     "execution_count": 23,
     "metadata": {},
     "output_type": "execute_result"
    }
   ],
   "source": [
    "hypothesis"
   ]
  },
  {
   "cell_type": "markdown",
   "id": "05762acf",
   "metadata": {},
   "source": [
    "- Reach — охват пользователей по 10-балльной шкале\n",
    "- Impact — влияние на пользователей по 10-балльной шкале\n",
    "- Confidence — уверенность в гипотезе по 10-балльной шкале;\n",
    "- Efforts — затраты ресурсов на проверку гипотезы по 10-балльной шкале. Чем больше значение Efforts, тем дороже проверка гипотезы.\n",
    "\n",
    "После применения RICE вместо ICE на первое место вышла гипотеза под номером 7, т.к у нее максимальная оценка охвата пользователей (Reach=10),\n",
    "На втором месте появилась новая гипотеза под номером 2, у которой reach =8, но impact= 3, зато confidence=7.\n",
    "\n",
    "Сохранилась гипотеза под номером 0, у нее reach=3, но impact =10.\n",
    "\n",
    "Также появилась гипотеза 6, у нее reach=5."
   ]
  },
  {
   "cell_type": "markdown",
   "id": "1b25676d",
   "metadata": {},
   "source": [
    "### Вывод:"
   ]
  },
  {
   "cell_type": "markdown",
   "id": "28eba99c",
   "metadata": {},
   "source": [
    "1. По результатам применения фреймоворка ICE наиболее наиболее перспективными являются гипотезы под номерами 8,0 и 7.\n",
    "2. После применения фреймворка RICE помимо гипотез 7 и 0, появились новые гипотезы 2 и 6.\n",
    "3. Основными различиями при приоритезации гипотез между фрейморками ICE и RICE является наличие параметра Reach, который показывает охват пользователей по 10-балльной шкале. Поэтому, после применения фреймоворка RICE. наиболее перспективными гипотезами стали гипотезы под номерами 7,2,0 и 6."
   ]
  },
  {
   "cell_type": "markdown",
   "id": "eeb9e29d",
   "metadata": {},
   "source": [
    "##  Анализ A/B-теста"
   ]
  },
  {
   "cell_type": "markdown",
   "id": "b55dc690",
   "metadata": {},
   "source": [
    "Посмотрим подробнее на результаты A/B тестирования."
   ]
  },
  {
   "cell_type": "code",
   "execution_count": 24,
   "id": "29426f94",
   "metadata": {
    "scrolled": true
   },
   "outputs": [
    {
     "data": {
      "text/plain": [
       "array(['B', 'A'], dtype=object)"
      ]
     },
     "execution_count": 24,
     "metadata": {},
     "output_type": "execute_result"
    }
   ],
   "source": [
    "orders['group'].unique()"
   ]
  },
  {
   "cell_type": "code",
   "execution_count": 25,
   "id": "aefb3c42",
   "metadata": {},
   "outputs": [
    {
     "data": {
      "text/plain": [
       "group\n",
       "1        973\n",
       "2         58\n",
       "dtype: int64"
      ]
     },
     "execution_count": 25,
     "metadata": {},
     "output_type": "execute_result"
    }
   ],
   "source": [
    "orders.groupby('visitor_id').agg({'group':'nunique'}).value_counts()"
   ]
  },
  {
   "cell_type": "markdown",
   "id": "36dc2cdf",
   "metadata": {},
   "source": [
    "Всего в тестировании участвуют 2 группы (A и B).  \n",
    "\n",
    "В обе группы попадают 58 человек, что составляет 4,8%. Доля маленькая, можем оставить эти данные, но иметь их в виду."
   ]
  },
  {
   "cell_type": "code",
   "execution_count": 26,
   "id": "379fa0c8",
   "metadata": {},
   "outputs": [
    {
     "data": {
      "text/plain": [
       "Timestamp('2019-08-01 00:00:00')"
      ]
     },
     "execution_count": 26,
     "metadata": {},
     "output_type": "execute_result"
    }
   ],
   "source": [
    "orders['date'].min()"
   ]
  },
  {
   "cell_type": "code",
   "execution_count": 27,
   "id": "5874e3ca",
   "metadata": {},
   "outputs": [
    {
     "data": {
      "text/plain": [
       "Timestamp('2019-08-31 00:00:00')"
      ]
     },
     "execution_count": 27,
     "metadata": {},
     "output_type": "execute_result"
    }
   ],
   "source": [
    "orders['date'].max()"
   ]
  },
  {
   "cell_type": "markdown",
   "id": "996b35e3",
   "metadata": {},
   "source": [
    "Всего тест проводился 30 дней."
   ]
  },
  {
   "cell_type": "markdown",
   "id": "7614ff56",
   "metadata": {},
   "source": [
    "### График кумулятивной выручки по группам."
   ]
  },
  {
   "cell_type": "markdown",
   "id": "e1dbcbff",
   "metadata": {},
   "source": [
    "Постройте график кумулятивной выручки по группам. Сделайте выводы и предположения."
   ]
  },
  {
   "cell_type": "code",
   "execution_count": 28,
   "id": "2c59041a",
   "metadata": {},
   "outputs": [],
   "source": [
    "#Создадим датафрейм datesGroups с уникальными парами значений 'date' и 'group'\n",
    "\n",
    "datesGroups=orders[['date','group']].drop_duplicates() "
   ]
  },
  {
   "cell_type": "code",
   "execution_count": 29,
   "id": "b50f566d",
   "metadata": {},
   "outputs": [],
   "source": [
    "#Объявим переменную ordersAggregated\n",
    "ordersAggregated = datesGroups.apply(lambda x: orders[np.logical_and(orders['date'] <= x['date'], orders['group'] == x['group'])]\\\n",
    ".agg({'date' : 'max', 'group' : 'max', 'transaction_id' : 'nunique', 'visitor_id' : 'nunique', 'revenue' : 'sum'}), axis=1).sort_values(by=['date','group'])"
   ]
  },
  {
   "cell_type": "code",
   "execution_count": 30,
   "id": "0347416e",
   "metadata": {},
   "outputs": [],
   "source": [
    "#Объявим переменную visitorsAggregated\n",
    "\n",
    "visitorsAggregated = datesGroups.apply(lambda x: visitors[np.logical_and(visitors['date'] <= x['date'], visitors['group'] == x['group'])].agg({'date' : 'max', 'group' : 'max', 'visitors' : 'sum'}), axis=1).sort_values(by=['date','group'])"
   ]
  },
  {
   "cell_type": "code",
   "execution_count": 31,
   "id": "11ddac2e",
   "metadata": {},
   "outputs": [
    {
     "data": {
      "text/html": [
       "<div>\n",
       "<style scoped>\n",
       "    .dataframe tbody tr th:only-of-type {\n",
       "        vertical-align: middle;\n",
       "    }\n",
       "\n",
       "    .dataframe tbody tr th {\n",
       "        vertical-align: top;\n",
       "    }\n",
       "\n",
       "    .dataframe thead th {\n",
       "        text-align: right;\n",
       "    }\n",
       "</style>\n",
       "<table border=\"1\" class=\"dataframe\">\n",
       "  <thead>\n",
       "    <tr style=\"text-align: right;\">\n",
       "      <th></th>\n",
       "      <th>date</th>\n",
       "      <th>group</th>\n",
       "      <th>orders</th>\n",
       "      <th>buyers</th>\n",
       "      <th>revenue</th>\n",
       "      <th>visitors</th>\n",
       "    </tr>\n",
       "  </thead>\n",
       "  <tbody>\n",
       "    <tr>\n",
       "      <th>0</th>\n",
       "      <td>2019-08-01</td>\n",
       "      <td>A</td>\n",
       "      <td>24</td>\n",
       "      <td>20</td>\n",
       "      <td>148579</td>\n",
       "      <td>719</td>\n",
       "    </tr>\n",
       "    <tr>\n",
       "      <th>1</th>\n",
       "      <td>2019-08-01</td>\n",
       "      <td>B</td>\n",
       "      <td>21</td>\n",
       "      <td>20</td>\n",
       "      <td>101217</td>\n",
       "      <td>713</td>\n",
       "    </tr>\n",
       "    <tr>\n",
       "      <th>2</th>\n",
       "      <td>2019-08-02</td>\n",
       "      <td>A</td>\n",
       "      <td>44</td>\n",
       "      <td>38</td>\n",
       "      <td>242401</td>\n",
       "      <td>1338</td>\n",
       "    </tr>\n",
       "    <tr>\n",
       "      <th>3</th>\n",
       "      <td>2019-08-02</td>\n",
       "      <td>B</td>\n",
       "      <td>45</td>\n",
       "      <td>43</td>\n",
       "      <td>266748</td>\n",
       "      <td>1294</td>\n",
       "    </tr>\n",
       "    <tr>\n",
       "      <th>4</th>\n",
       "      <td>2019-08-03</td>\n",
       "      <td>A</td>\n",
       "      <td>68</td>\n",
       "      <td>62</td>\n",
       "      <td>354874</td>\n",
       "      <td>1845</td>\n",
       "    </tr>\n",
       "  </tbody>\n",
       "</table>\n",
       "</div>"
      ],
      "text/plain": [
       "        date group  orders  buyers  revenue  visitors\n",
       "0 2019-08-01     A      24      20   148579       719\n",
       "1 2019-08-01     B      21      20   101217       713\n",
       "2 2019-08-02     A      44      38   242401      1338\n",
       "3 2019-08-02     B      45      43   266748      1294\n",
       "4 2019-08-03     A      68      62   354874      1845"
      ]
     },
     "execution_count": 31,
     "metadata": {},
     "output_type": "execute_result"
    }
   ],
   "source": [
    "#Определим переменную cumulativeData\n",
    "cumulativeData = ordersAggregated.merge(visitorsAggregated, left_on=['date', 'group'], right_on=['date', 'group'])\n",
    "cumulativeData.columns = ['date', 'group', 'orders', 'buyers', 'revenue', 'visitors']\n",
    "cumulativeData.head(5)"
   ]
  },
  {
   "cell_type": "code",
   "execution_count": 32,
   "id": "00edd0b5",
   "metadata": {},
   "outputs": [],
   "source": [
    "# Объявим переменнцю cumulativeRevenue с кумулятивным количеством заказов и кумулятивной выручкой по дням в группе А\n",
    "\n",
    "cumulativeRevenueA = cumulativeData[cumulativeData['group']=='A'][['date','revenue', 'orders']]"
   ]
  },
  {
   "cell_type": "code",
   "execution_count": 33,
   "id": "a7172e26",
   "metadata": {},
   "outputs": [],
   "source": [
    "# Объявим переменнцю cumulativeRevenueB с кумулятивным количеством заказов и кумулятивной выручкой по дням в группе B\n",
    "cumulativeRevenueB = cumulativeData[cumulativeData['group']=='B'][['date','revenue', 'orders']]"
   ]
  },
  {
   "cell_type": "code",
   "execution_count": 34,
   "id": "28170122",
   "metadata": {},
   "outputs": [
    {
     "data": {
      "image/png": "[encoded data removed]",
      "text/plain": [
       "<Figure size 432x288 with 1 Axes>"
      ]
     },
     "metadata": {
      "image/png": {
       "height": 315,
       "width": 395
      },
      "needs_background": "light"
     },
     "output_type": "display_data"
    }
   ],
   "source": [
    "# Построим график выручки по группам\n",
    "plt.plot(cumulativeRevenueA['date'], cumulativeRevenueA['revenue'], label='Кумулятивная выручка группы А')\n",
    "plt.plot(cumulativeRevenueB['date'], cumulativeRevenueB['revenue'], label='Кумулятивная выручка группы В')\n",
    "plt.title(\"Кумулятивная выручка по группам\")\n",
    "plt.xlabel ('Дата')\n",
    "plt.ylabel ('Выручка')\n",
    "plt.xticks(rotation = 45)\n",
    "plt.legend();"
   ]
  },
  {
   "cell_type": "markdown",
   "id": "f825b283",
   "metadata": {},
   "source": [
    "По данному графику мы можем заметить, что выручка у группы В с середины теста лидирует до конца теста. Нужно будет посмотреть на чистые данные."
   ]
  },
  {
   "cell_type": "markdown",
   "id": "79c6c5a0",
   "metadata": {},
   "source": [
    "### График кумулятивного среднего чека по группам. "
   ]
  },
  {
   "cell_type": "markdown",
   "id": "2e51b9f5",
   "metadata": {},
   "source": [
    "Постройте график кумулятивного среднего чека по группам. Сделайте выводы и предположения."
   ]
  },
  {
   "cell_type": "code",
   "execution_count": 35,
   "id": "ab647423",
   "metadata": {},
   "outputs": [
    {
     "data": {
      "image/png": "[encoded data removed]",
      "text/plain": [
       "<Figure size 432x288 with 1 Axes>"
      ]
     },
     "metadata": {
      "image/png": {
       "height": 315,
       "width": 420
      },
      "needs_background": "light"
     },
     "output_type": "display_data"
    }
   ],
   "source": [
    "plt.plot(cumulativeRevenueA['date'], cumulativeRevenueA['revenue']/cumulativeRevenueA['orders'], label='A')\n",
    "plt.plot(cumulativeRevenueB['date'], cumulativeRevenueB['revenue']/cumulativeRevenueB['orders'], label='B')\n",
    "plt.title(\"Кумулятивный средный чек по группам\")\n",
    "plt.xlabel ('Дата')\n",
    "plt.ylabel ('Средний чек')\n",
    "plt.xticks(rotation = 45)\n",
    "plt.legend();"
   ]
  },
  {
   "cell_type": "markdown",
   "id": "afd70e3e",
   "metadata": {},
   "source": [
    "Опять же лидирует группа В,но рост показателя слишком резкий, возможно это выбросы."
   ]
  },
  {
   "cell_type": "markdown",
   "id": "5fe86bb8",
   "metadata": {},
   "source": [
    "### График относительного изменения кумулятивного среднего чека группы B к группе A. "
   ]
  },
  {
   "cell_type": "markdown",
   "id": "20cc1a4f",
   "metadata": {},
   "source": [
    "Постройте график относительного изменения кумулятивного среднего чека группы B к группе A. Сделайте выводы и предположения."
   ]
  },
  {
   "cell_type": "code",
   "execution_count": 36,
   "id": "f24f77f0",
   "metadata": {},
   "outputs": [],
   "source": [
    "#Объединим таблицы cumulativeRevenueA и cumulativeRevenueB в переменной mergedCumulativeRevenue. \n",
    "\n",
    "mergedCumulativeRevenue = cumulativeRevenueA.merge(cumulativeRevenueB, left_on='date', right_on='date', how='left', suffixes=['A', 'B'])"
   ]
  },
  {
   "cell_type": "code",
   "execution_count": 37,
   "id": "d8353092",
   "metadata": {},
   "outputs": [
    {
     "data": {
      "image/png": "[encoded data removed]",
      "text/plain": [
       "<Figure size 432x288 with 1 Axes>"
      ]
     },
     "metadata": {
      "image/png": {
       "height": 315,
       "width": 512
      },
      "needs_background": "light"
     },
     "output_type": "display_data"
    }
   ],
   "source": [
    "# Поcтроим отношение средних чеков\n",
    "plt.plot(mergedCumulativeRevenue['date'], (mergedCumulativeRevenue['revenueB']/mergedCumulativeRevenue['ordersB'])/(mergedCumulativeRevenue['revenueA']/mergedCumulativeRevenue['ordersA'])-1);\n",
    "plt.title(\"Относительное изменение кумулятивного среднего чека группы B к группе A\")\n",
    "plt.xlabel ('Дата')\n",
    "plt.ylabel ('Относительное изменение')\n",
    "plt.xticks(rotation = 45)\n",
    "# добавляем ось X\n",
    "plt.axhline(y=0, color='black', linestyle='--');\n"
   ]
  },
  {
   "cell_type": "markdown",
   "id": "bdeb390c",
   "metadata": {},
   "source": [
    "По графику видим несколько пиковых значений, возможно, в эти даты были выбросы. В целом, пока нельзя сделать однозначные выводы, нужно продолжить тест."
   ]
  },
  {
   "cell_type": "markdown",
   "id": "d7192fd5",
   "metadata": {},
   "source": [
    "### График кумулятивного среднего количества заказов на посетителя по группам. "
   ]
  },
  {
   "cell_type": "markdown",
   "id": "7d783f63",
   "metadata": {},
   "source": [
    "Постройте график кумулятивного среднего количества заказов на посетителя по группам. Сделайте выводы и предположения."
   ]
  },
  {
   "cell_type": "code",
   "execution_count": 38,
   "id": "a5496edd",
   "metadata": {},
   "outputs": [
    {
     "data": {
      "image/png": "[encoded data removed]",
      "text/plain": [
       "<Figure size 432x288 with 1 Axes>"
      ]
     },
     "metadata": {
      "image/png": {
       "height": 315,
       "width": 433
      },
      "needs_background": "light"
     },
     "output_type": "display_data"
    }
   ],
   "source": [
    "# считаем среднее кол-во заказов\n",
    "cumulativeData['avg'] = cumulativeData['orders']/cumulativeData['visitors']\n",
    "\n",
    "# отделяем данные по группе A\n",
    "cumulativeDataA = cumulativeData[cumulativeData['group']=='A']\n",
    "\n",
    "# отделяем данные по группе B\n",
    "cumulativeDataB = cumulativeData[cumulativeData['group']=='B']\n",
    "\n",
    "# строим графики\n",
    "plt.plot(cumulativeDataA['date'], cumulativeDataA['avg'], label='Среднее кол-во заказов в группе А')\n",
    "plt.plot(cumulativeDataB['date'], cumulativeDataB['avg'], label='Среднее кол-во заказов в группе B')\n",
    "plt.legend()\n",
    "plt.title(\"Кумулятивное среднее кол-во заказов на посетителя по группам\")\n",
    "plt.xlabel ('Дата')\n",
    "plt.ylabel ('Кол-во заказов')\n",
    "plt.xticks(rotation = 45)\n",
    "\n",
    "# задаем масштаб осей \n",
    "plt.axis([dt.datetime(2019, 8, 1), dt.datetime(2019, 8, 31), 0, 0.05]);"
   ]
  },
  {
   "cell_type": "markdown",
   "id": "7584782b",
   "metadata": {},
   "source": [
    "По этому графику мы можем отметить, что больше заказов в группе В, но есть небольшие всплески в начале анализа. "
   ]
  },
  {
   "cell_type": "markdown",
   "id": "d146ad40",
   "metadata": {},
   "source": [
    "### График относительного изменения кумулятивного среднего количества заказов на посетителя группы B к группе A. "
   ]
  },
  {
   "cell_type": "markdown",
   "id": "e5e2afa0",
   "metadata": {},
   "source": [
    "Постройте график относительного изменения кумулятивного среднего количества заказов на посетителя группы B к группе A. Сделайте выводы и предположения."
   ]
  },
  {
   "cell_type": "code",
   "execution_count": 39,
   "id": "b931dc35",
   "metadata": {},
   "outputs": [
    {
     "data": {
      "image/png": "[encoded data removed]",
      "text/plain": [
       "<Figure size 432x288 with 1 Axes>"
      ]
     },
     "metadata": {
      "image/png": {
       "height": 315,
       "width": 546
      },
      "needs_background": "light"
     },
     "output_type": "display_data"
    }
   ],
   "source": [
    "# Объединим таблицы cumulativeDataA и cumulativeDataB\n",
    "mergedCumulativeAvg = cumulativeDataA[['date','avg']].merge(cumulativeDataB[['date','avg']], left_on='date', right_on='date', how='left', suffixes=['A', 'B'])\n",
    "\n",
    "#Построbv график относительного различия кумулятивной конверсии группы B к группе A. \n",
    "\n",
    "plt.plot(mergedCumulativeAvg['date'], mergedCumulativeAvg['avgB']/mergedCumulativeAvg['avgA']-1)\n",
    "plt.title(\"Относительный прирост среднего кол-ва заказов группы B относительно группы A\")\n",
    "plt.xlabel ('Дата')\n",
    "plt.ylabel ('Прирост среднего кол-ва заказов')\n",
    "\n",
    "\n",
    "plt.axhline(y=0, color='black', linestyle='--')\n",
    "plt.axhline(y=0.2, color='grey', linestyle='--')\n",
    "plt.axis([dt.datetime(2019, 8, 1), dt.datetime(2019, 8, 31), -0.5, 0.5]);\n",
    "plt.xticks(rotation = 45)\n",
    "plt.show()"
   ]
  },
  {
   "cell_type": "markdown",
   "id": "1da4bc6b",
   "metadata": {},
   "source": [
    "По графику мы видим, что группа В лидирует по среднему кол-ву заказов относительно группы А, прирост почти 20%."
   ]
  },
  {
   "cell_type": "markdown",
   "id": "67b2092c",
   "metadata": {},
   "source": [
    "### Точечный график количества заказов по пользователям. "
   ]
  },
  {
   "cell_type": "markdown",
   "id": "8b222e35",
   "metadata": {},
   "source": [
    "Постройте точечный график количества заказов по пользователям. Сделайте выводы и предположения."
   ]
  },
  {
   "cell_type": "code",
   "execution_count": 40,
   "id": "1ae2d4d6",
   "metadata": {},
   "outputs": [
    {
     "data": {
      "text/html": [
       "<div>\n",
       "<style scoped>\n",
       "    .dataframe tbody tr th:only-of-type {\n",
       "        vertical-align: middle;\n",
       "    }\n",
       "\n",
       "    .dataframe tbody tr th {\n",
       "        vertical-align: top;\n",
       "    }\n",
       "\n",
       "    .dataframe thead th {\n",
       "        text-align: right;\n",
       "    }\n",
       "</style>\n",
       "<table border=\"1\" class=\"dataframe\">\n",
       "  <thead>\n",
       "    <tr style=\"text-align: right;\">\n",
       "      <th></th>\n",
       "      <th>visitor_id</th>\n",
       "      <th>orders</th>\n",
       "    </tr>\n",
       "  </thead>\n",
       "  <tbody>\n",
       "    <tr>\n",
       "      <th>1023</th>\n",
       "      <td>4256040402</td>\n",
       "      <td>11</td>\n",
       "    </tr>\n",
       "    <tr>\n",
       "      <th>591</th>\n",
       "      <td>2458001652</td>\n",
       "      <td>11</td>\n",
       "    </tr>\n",
       "    <tr>\n",
       "      <th>569</th>\n",
       "      <td>2378935119</td>\n",
       "      <td>9</td>\n",
       "    </tr>\n",
       "    <tr>\n",
       "      <th>487</th>\n",
       "      <td>2038680547</td>\n",
       "      <td>8</td>\n",
       "    </tr>\n",
       "    <tr>\n",
       "      <th>44</th>\n",
       "      <td>199603092</td>\n",
       "      <td>5</td>\n",
       "    </tr>\n",
       "    <tr>\n",
       "      <th>744</th>\n",
       "      <td>3062433592</td>\n",
       "      <td>5</td>\n",
       "    </tr>\n",
       "    <tr>\n",
       "      <th>55</th>\n",
       "      <td>237748145</td>\n",
       "      <td>5</td>\n",
       "    </tr>\n",
       "    <tr>\n",
       "      <th>917</th>\n",
       "      <td>3803269165</td>\n",
       "      <td>5</td>\n",
       "    </tr>\n",
       "    <tr>\n",
       "      <th>299</th>\n",
       "      <td>1230306981</td>\n",
       "      <td>5</td>\n",
       "    </tr>\n",
       "    <tr>\n",
       "      <th>897</th>\n",
       "      <td>3717692402</td>\n",
       "      <td>5</td>\n",
       "    </tr>\n",
       "  </tbody>\n",
       "</table>\n",
       "</div>"
      ],
      "text/plain": [
       "      visitor_id  orders\n",
       "1023  4256040402      11\n",
       "591   2458001652      11\n",
       "569   2378935119       9\n",
       "487   2038680547       8\n",
       "44     199603092       5\n",
       "744   3062433592       5\n",
       "55     237748145       5\n",
       "917   3803269165       5\n",
       "299   1230306981       5\n",
       "897   3717692402       5"
      ]
     },
     "execution_count": 40,
     "metadata": {},
     "output_type": "execute_result"
    }
   ],
   "source": [
    "# Создадим датафрейм ordersByUsers с кол-вом заказов по пользователям\n",
    "ordersByUsers = (\n",
    "    orders.groupby('visitor_id', as_index=False)\n",
    "    .agg({'transaction_id': 'nunique'})\n",
    ")\n",
    "ordersByUsers.columns = ['visitor_id', 'orders']\n",
    "ordersByUsers.sort_values(by='orders', ascending=False).head(10)\n"
   ]
  },
  {
   "cell_type": "code",
   "execution_count": 41,
   "id": "6d72db96",
   "metadata": {},
   "outputs": [
    {
     "data": {
      "image/png": "[encoded data removed]",
      "text/plain": [
       "<Figure size 432x288 with 1 Axes>"
      ]
     },
     "metadata": {
      "image/png": {
       "height": 277,
       "width": 382
      },
      "needs_background": "light"
     },
     "output_type": "display_data"
    }
   ],
   "source": [
    "# Построим график кол-ва заказов по пользователям\n",
    "\n",
    "x_values = pd.Series(range(0, len(ordersByUsers)))\n",
    "plt.scatter(x_values, ordersByUsers['orders'])\n",
    "plt.title(\"Кол-во заказов по пользователям\")\n",
    "plt.xlabel ('Пользователи')\n",
    "plt.ylabel ('Кол-во заказов')\n",
    "plt.show;"
   ]
  },
  {
   "cell_type": "markdown",
   "id": "5d091d0f",
   "metadata": {},
   "source": [
    "По графику мы видим, что кол-во пользователей, заказавших более 2 заказов достаточно мало. Есть пользователи, которые сделали 9 и 11 заказов. Далее рассмотрим эти выбросы. "
   ]
  },
  {
   "cell_type": "markdown",
   "id": "72c92dcf",
   "metadata": {},
   "source": [
    "### Расчет 95-го и 99-го перцентилей количества заказов на пользователя. "
   ]
  },
  {
   "cell_type": "markdown",
   "id": "b513eeb0",
   "metadata": {},
   "source": [
    "Посчитайте 95-й и 99-й перцентили количества заказов на пользователя. Выберите границу для определения аномальных пользователей."
   ]
  },
  {
   "cell_type": "code",
   "execution_count": 42,
   "id": "d6930281",
   "metadata": {},
   "outputs": [
    {
     "data": {
      "text/plain": [
       "array([1., 2., 4.])"
      ]
     },
     "execution_count": 42,
     "metadata": {},
     "output_type": "execute_result"
    }
   ],
   "source": [
    "np.percentile(ordersByUsers['orders'], [90, 95, 99])"
   ]
  },
  {
   "cell_type": "markdown",
   "id": "ba0382d4",
   "metadata": {},
   "source": [
    "Около 5% пользователей сделали больше 2х заказов и около 1% сделали больше 4 заказов. Оставим в датафрейме пользователей, которые сделали  меньше 4 заказов."
   ]
  },
  {
   "cell_type": "markdown",
   "id": "82af20b0",
   "metadata": {},
   "source": [
    "### Точечный график стоимостей заказов."
   ]
  },
  {
   "cell_type": "markdown",
   "id": "cf152fe0",
   "metadata": {},
   "source": [
    "Постройте точечный график стоимостей заказов. Сделайте выводы и предположения."
   ]
  },
  {
   "cell_type": "code",
   "execution_count": 43,
   "id": "26bd610a",
   "metadata": {},
   "outputs": [
    {
     "data": {
      "image/png": "[encoded data removed]",
      "text/plain": [
       "<Figure size 432x288 with 1 Axes>"
      ]
     },
     "metadata": {
      "image/png": {
       "height": 277,
       "width": 385
      },
      "needs_background": "light"
     },
     "output_type": "display_data"
    }
   ],
   "source": [
    "x_values = pd.Series(range(0, len(orders['revenue'])))\n",
    "plt.scatter(x_values, orders['revenue'])\n",
    "plt.title(\"График стоимостей заказов\")\n",
    "plt.xlabel ('Стоимость заказа')\n",
    "plt.ylabel ('Кол-во пользователей');"
   ]
  },
  {
   "cell_type": "markdown",
   "id": "e470929b",
   "metadata": {},
   "source": [
    "Мы видим несколько выборосов, далее изучим их."
   ]
  },
  {
   "cell_type": "markdown",
   "id": "de0b134e",
   "metadata": {},
   "source": [
    "###  95-й и 99-й перцентили стоимости заказов. "
   ]
  },
  {
   "cell_type": "markdown",
   "id": "9567ccfd",
   "metadata": {},
   "source": [
    "Посчитайте 95-й и 99-й перцентили стоимости заказов. Выберите границу для определения аномальных заказов."
   ]
  },
  {
   "cell_type": "code",
   "execution_count": 44,
   "id": "6294fe00",
   "metadata": {},
   "outputs": [
    {
     "data": {
      "text/plain": [
       "array([18168. , 28000. , 58233.2])"
      ]
     },
     "execution_count": 44,
     "metadata": {},
     "output_type": "execute_result"
    }
   ],
   "source": [
    "np.percentile(orders['revenue'], [90, 95, 99])"
   ]
  },
  {
   "cell_type": "markdown",
   "id": "d9df0e94",
   "metadata": {},
   "source": [
    "Не более чем у 1% стоимость покупок больше 58 000 рублей, у около 5% пользователей стоимость заказа выше 28 000 рублей. Определим границы в районе 30 000 рублей."
   ]
  },
  {
   "cell_type": "markdown",
   "id": "ab7f0741",
   "metadata": {},
   "source": [
    "### Статистическая значимость различий в среднем количестве заказов на посетителя между группами по «сырым» данным. "
   ]
  },
  {
   "cell_type": "markdown",
   "id": "f7388bf7",
   "metadata": {},
   "source": [
    "Посчитайте статистическую значимость различий в среднем количестве заказов на посетителя между группами по «сырым» данным. Сделайте выводы и предположения.\n"
   ]
  },
  {
   "cell_type": "code",
   "execution_count": 45,
   "id": "a0d712d4",
   "metadata": {},
   "outputs": [
    {
     "data": {
      "text/html": [
       "<div>\n",
       "<style scoped>\n",
       "    .dataframe tbody tr th:only-of-type {\n",
       "        vertical-align: middle;\n",
       "    }\n",
       "\n",
       "    .dataframe tbody tr th {\n",
       "        vertical-align: top;\n",
       "    }\n",
       "\n",
       "    .dataframe thead th {\n",
       "        text-align: right;\n",
       "    }\n",
       "</style>\n",
       "<table border=\"1\" class=\"dataframe\">\n",
       "  <thead>\n",
       "    <tr style=\"text-align: right;\">\n",
       "      <th></th>\n",
       "      <th>date</th>\n",
       "      <th>ordersPerDateA</th>\n",
       "      <th>revenuePerDateA</th>\n",
       "      <th>ordersPerDateB</th>\n",
       "      <th>revenuePerDateB</th>\n",
       "      <th>ordersCummulativeA</th>\n",
       "      <th>revenueCummulativeA</th>\n",
       "      <th>ordersCummulativeB</th>\n",
       "      <th>revenueCummulativeB</th>\n",
       "      <th>visitorsPerDateA</th>\n",
       "      <th>visitorsPerDateB</th>\n",
       "      <th>visitorsCummulativeA</th>\n",
       "      <th>visitorsCummulativeB</th>\n",
       "    </tr>\n",
       "  </thead>\n",
       "  <tbody>\n",
       "    <tr>\n",
       "      <th>0</th>\n",
       "      <td>2019-08-01</td>\n",
       "      <td>24</td>\n",
       "      <td>148579</td>\n",
       "      <td>21</td>\n",
       "      <td>101217</td>\n",
       "      <td>24</td>\n",
       "      <td>148579</td>\n",
       "      <td>21</td>\n",
       "      <td>101217</td>\n",
       "      <td>719</td>\n",
       "      <td>713</td>\n",
       "      <td>719</td>\n",
       "      <td>713</td>\n",
       "    </tr>\n",
       "    <tr>\n",
       "      <th>1</th>\n",
       "      <td>2019-08-02</td>\n",
       "      <td>20</td>\n",
       "      <td>93822</td>\n",
       "      <td>24</td>\n",
       "      <td>165531</td>\n",
       "      <td>44</td>\n",
       "      <td>242401</td>\n",
       "      <td>45</td>\n",
       "      <td>266748</td>\n",
       "      <td>619</td>\n",
       "      <td>581</td>\n",
       "      <td>1338</td>\n",
       "      <td>1294</td>\n",
       "    </tr>\n",
       "    <tr>\n",
       "      <th>2</th>\n",
       "      <td>2019-08-03</td>\n",
       "      <td>24</td>\n",
       "      <td>112473</td>\n",
       "      <td>16</td>\n",
       "      <td>114248</td>\n",
       "      <td>68</td>\n",
       "      <td>354874</td>\n",
       "      <td>61</td>\n",
       "      <td>380996</td>\n",
       "      <td>507</td>\n",
       "      <td>509</td>\n",
       "      <td>1845</td>\n",
       "      <td>1803</td>\n",
       "    </tr>\n",
       "    <tr>\n",
       "      <th>3</th>\n",
       "      <td>2019-08-04</td>\n",
       "      <td>16</td>\n",
       "      <td>70825</td>\n",
       "      <td>17</td>\n",
       "      <td>108571</td>\n",
       "      <td>84</td>\n",
       "      <td>425699</td>\n",
       "      <td>78</td>\n",
       "      <td>489567</td>\n",
       "      <td>717</td>\n",
       "      <td>770</td>\n",
       "      <td>2562</td>\n",
       "      <td>2573</td>\n",
       "    </tr>\n",
       "    <tr>\n",
       "      <th>4</th>\n",
       "      <td>2019-08-05</td>\n",
       "      <td>25</td>\n",
       "      <td>124218</td>\n",
       "      <td>23</td>\n",
       "      <td>92428</td>\n",
       "      <td>109</td>\n",
       "      <td>549917</td>\n",
       "      <td>101</td>\n",
       "      <td>581995</td>\n",
       "      <td>756</td>\n",
       "      <td>707</td>\n",
       "      <td>3318</td>\n",
       "      <td>3280</td>\n",
       "    </tr>\n",
       "  </tbody>\n",
       "</table>\n",
       "</div>"
      ],
      "text/plain": [
       "        date  ordersPerDateA  revenuePerDateA  ordersPerDateB  revenuePerDateB  ordersCummulativeA  revenueCummulativeA  ordersCummulativeB  revenueCummulativeB  visitorsPerDateA  visitorsPerDateB  visitorsCummulativeA  visitorsCummulativeB\n",
       "0 2019-08-01              24           148579              21           101217                  24               148579                  21               101217               719               713                   719                   713\n",
       "1 2019-08-02              20            93822              24           165531                  44               242401                  45               266748               619               581                  1338                  1294\n",
       "2 2019-08-03              24           112473              16           114248                  68               354874                  61               380996               507               509                  1845                  1803\n",
       "3 2019-08-04              16            70825              17           108571                  84               425699                  78               489567               717               770                  2562                  2573\n",
       "4 2019-08-05              25           124218              23            92428                 109               549917                 101               581995               756               707                  3318                  3280"
      ]
     },
     "execution_count": 45,
     "metadata": {},
     "output_type": "execute_result"
    }
   ],
   "source": [
    "# Для анализа создадим таблицу data\n",
    "\n",
    "visitorsADaily = visitors[visitors['group'] == 'A'][['date', 'visitors']]\n",
    "visitorsADaily.columns = ['date', 'visitorsPerDateA']\n",
    "\n",
    "visitorsACummulative = visitorsADaily.apply(\n",
    "    lambda x: visitorsADaily[visitorsADaily['date'] <= x['date']].agg(\n",
    "        {'date': 'max', 'visitorsPerDateA': 'sum'}\n",
    "    ),\n",
    "    axis=1,\n",
    ")\n",
    "visitorsACummulative.columns = ['date', 'visitorsCummulativeA']\n",
    "\n",
    "visitorsBDaily = visitors[visitors['group'] == 'B'][['date', 'visitors']]\n",
    "visitorsBDaily.columns = ['date', 'visitorsPerDateB']\n",
    "\n",
    "visitorsBCummulative = visitorsBDaily.apply(\n",
    "    lambda x: visitorsBDaily[visitorsBDaily['date'] <= x['date']].agg(\n",
    "        {'date': 'max', 'visitorsPerDateB': 'sum'}\n",
    "    ),\n",
    "    axis=1,\n",
    ")\n",
    "visitorsBCummulative.columns = ['date', 'visitorsCummulativeB']\n",
    "\n",
    "ordersADaily = (\n",
    "    orders[orders['group'] == 'A'][['date', 'transaction_id', 'visitor_id', 'revenue']]\n",
    "    .groupby('date', as_index=False)\n",
    "    .agg({'transaction_id': pd.Series.nunique, 'revenue': 'sum'})\n",
    ")\n",
    "ordersADaily.columns = ['date', 'ordersPerDateA', 'revenuePerDateA']\n",
    "\n",
    "ordersACummulative = ordersADaily.apply(\n",
    "    lambda x: ordersADaily[ordersADaily['date'] <= x['date']].agg(\n",
    "        {'date': 'max', 'ordersPerDateA': 'sum', 'revenuePerDateA': 'sum'}\n",
    "    ),\n",
    "    axis=1,\n",
    ").sort_values(by=['date'])\n",
    "ordersACummulative.columns = [\n",
    "    'date',\n",
    "    'ordersCummulativeA',\n",
    "    'revenueCummulativeA',\n",
    "]\n",
    "\n",
    "ordersBDaily = (\n",
    "    orders[orders['group'] == 'B'][['date', 'transaction_id', 'visitor_id', 'revenue']]\n",
    "    .groupby('date', as_index=False)\n",
    "    .agg({'transaction_id': pd.Series.nunique, 'revenue': 'sum'})\n",
    ")\n",
    "ordersBDaily.columns = ['date', 'ordersPerDateB', 'revenuePerDateB']\n",
    "\n",
    "ordersBCummulative = ordersBDaily.apply(\n",
    "    lambda x: ordersBDaily[ordersBDaily['date'] <= x['date']].agg(\n",
    "        {'date': 'max', 'ordersPerDateB': 'sum', 'revenuePerDateB': 'sum'}\n",
    "    ),\n",
    "    axis=1,\n",
    ").sort_values(by=['date'])\n",
    "ordersBCummulative.columns = [\n",
    "    'date',\n",
    "    'ordersCummulativeB',\n",
    "    'revenueCummulativeB',\n",
    "]\n",
    "\n",
    "data = (\n",
    "    ordersADaily.merge(\n",
    "        ordersBDaily, left_on='date', right_on='date', how='left'\n",
    "    )\n",
    "    .merge(ordersACummulative, left_on='date', right_on='date', how='left')\n",
    "    .merge(ordersBCummulative, left_on='date', right_on='date', how='left')\n",
    "    .merge(visitorsADaily, left_on='date', right_on='date', how='left')\n",
    "    .merge(visitorsBDaily, left_on='date', right_on='date', how='left')\n",
    "    .merge(visitorsACummulative, left_on='date', right_on='date', how='left')\n",
    "    .merge(visitorsBCummulative, left_on='date', right_on='date', how='left')\n",
    ")\n",
    "\n",
    "data.head(5)"
   ]
  },
  {
   "cell_type": "code",
   "execution_count": 46,
   "id": "c19ffa9b",
   "metadata": {},
   "outputs": [
    {
     "name": "stdout",
     "output_type": "stream",
     "text": [
      "        user_id  orders\n",
      "0       8300375       1\n",
      "1      11685486       1\n",
      "2      54447517       1\n",
      "3      66685450       1\n",
      "4      78758296       1\n",
      "..          ...     ...\n",
      "498  4243832526       1\n",
      "499  4256040402       7\n",
      "500  4259830713       1\n",
      "501  4266935830       1\n",
      "502  4278982564       1\n",
      "\n",
      "[503 rows x 2 columns]\n",
      "        user_id  orders\n",
      "0       5114589       1\n",
      "1       6958315       1\n",
      "2       8300375       1\n",
      "3      39475350       1\n",
      "4      47206413       1\n",
      "..          ...     ...\n",
      "581  4258103007       1\n",
      "582  4266935830       1\n",
      "583  4279090005       1\n",
      "584  4281247801       1\n",
      "585  4283872382       1\n",
      "\n",
      "[586 rows x 2 columns]\n"
     ]
    },
    {
     "data": {
      "text/plain": [
       "[0      1\n",
       " 1      1\n",
       " 2      1\n",
       " 3      1\n",
       " 4      1\n",
       "       ..\n",
       " 498    1\n",
       " 499    7\n",
       " 500    1\n",
       " 501    1\n",
       " 502    1\n",
       " Name: orders, Length: 503, dtype: int64,\n",
       " 0        0\n",
       " 1        0\n",
       " 2        0\n",
       " 3        0\n",
       " 4        0\n",
       "         ..\n",
       " 18228    0\n",
       " 18229    0\n",
       " 18230    0\n",
       " 18231    0\n",
       " 18232    0\n",
       " Name: orders, Length: 18233, dtype: int64]"
      ]
     },
     "execution_count": 46,
     "metadata": {},
     "output_type": "execute_result"
    }
   ],
   "source": [
    "# Cоздадим переменные ordersByUsersA и ordersByUsersB\n",
    "\n",
    "ordersByUsersA = (\n",
    "    orders[orders['group'] == 'A']\n",
    "    .groupby('visitor_id', as_index=False)\n",
    "    .agg({'transaction_id': pd.Series.nunique})\n",
    ")\n",
    "ordersByUsersA.columns = ['user_id', 'orders']\n",
    "print (ordersByUsersA)\n",
    "\n",
    "\n",
    "ordersByUsersB = (\n",
    "    orders[orders['group'] == 'B']\n",
    "    .groupby('visitor_id', as_index=False)\n",
    "    .agg({'transaction_id': pd.Series.nunique})\n",
    ")\n",
    "ordersByUsersB.columns = ['user_id', 'orders']\n",
    "print (ordersByUsersB)\n",
    "\n",
    "[ordersByUsersA['orders'],pd.Series(0, index=np.arange(data['visitorsPerDateA'].sum() - len(ordersByUsersA['orders'])), name='orders')]"
   ]
  },
  {
   "cell_type": "code",
   "execution_count": 47,
   "id": "3e6f13e5",
   "metadata": {},
   "outputs": [],
   "source": [
    "# Объявим переменные sampleA и sampleB\n",
    "\n",
    "sampleA = pd.concat([ordersByUsersA['orders'],pd.Series(0, index=np.arange(data['visitorsPerDateA'].sum() - len(ordersByUsersA['orders'])), name='orders')],axis=0)\n",
    "\n",
    "sampleB = pd.concat([ordersByUsersB['orders'],pd.Series(0, index=np.arange(data['visitorsPerDateB'].sum() - len(ordersByUsersB['orders'])), name='orders')],axis=0)\n",
    "\n"
   ]
  },
  {
   "cell_type": "code",
   "execution_count": 48,
   "id": "cc34cc51",
   "metadata": {},
   "outputs": [
    {
     "name": "stdout",
     "output_type": "stream",
     "text": [
      "0.01679\n",
      "0.138\n"
     ]
    }
   ],
   "source": [
    "# Посчитаем статистическую значимость различия среднего количества заказов\n",
    "\n",
    "print(\"{0:.5f}\".format(st.mannwhitneyu(sampleA, sampleB)[1]))\n",
    "\n",
    "print(\"{0:.3f}\".format(sampleB.mean() / sampleA.mean() - 1))"
   ]
  },
  {
   "cell_type": "markdown",
   "id": "103bd574",
   "metadata": {},
   "source": [
    "Гипотезы:\n",
    "\n",
    "- H0- cтатистически значимых различий в среднем количестве заказов на посетителя между группами по «сырым» данным нет.\n",
    "- H1- cтатистически значимые различия в среднем количестве заказов на посетителя между группами по «сырым» данным есть."
   ]
  },
  {
   "cell_type": "markdown",
   "id": "4f1e9320",
   "metadata": {},
   "source": [
    "Значение p-value = 0.01679, что меньше 0.05, что может говорить о том, что нулевая гипотеза может быть отвергнута. Среднее кол-во заказов между группами А и В не равны.\n",
    "\n",
    "Относительный прирост среднего группы В к конверсии группы А около 13.8%."
   ]
  },
  {
   "cell_type": "markdown",
   "id": "7374c28e",
   "metadata": {},
   "source": [
    "### Cтатистическая значимость различий в среднем чеке заказа между группами по «сырым» данным. "
   ]
  },
  {
   "cell_type": "markdown",
   "id": "933e5c45",
   "metadata": {},
   "source": [
    "Посчитайте статистическую значимость различий в среднем чеке заказа между группами по «сырым» данным. Сделайте выводы и предположения."
   ]
  },
  {
   "cell_type": "markdown",
   "id": "1d594c6d",
   "metadata": {},
   "source": [
    "Гипотезы:\n",
    "\n",
    "- H0- статистически значимых различий в среднем чеке заказа между группами по «сырым» данным нет.\n",
    "- H1- cтатистически значимые различия в среднем чеке заказа между группами по «сырым» данным есть."
   ]
  },
  {
   "cell_type": "code",
   "execution_count": 49,
   "id": "571144ae",
   "metadata": {},
   "outputs": [
    {
     "name": "stdout",
     "output_type": "stream",
     "text": [
      "0.729\n",
      "0.259\n"
     ]
    }
   ],
   "source": [
    "print('{0:.3f}'.format(st.mannwhitneyu(orders[orders['group']=='A']['revenue'], orders[orders['group']=='B']['revenue'])[1]))\n",
    "print('{0:.3f}'.format(orders[orders['group']=='B']['revenue'].mean()/orders[orders['group']=='A']['revenue'].mean()-1))"
   ]
  },
  {
   "cell_type": "markdown",
   "id": "5e25dda8",
   "metadata": {},
   "source": [
    "P-value = 0.729, что больше 0.05, что может говорить о том, что значимых отличий в средних чеках между группами нет. \n",
    "\n",
    "Однако относительное различие чека между сегментами составляет 25.9%."
   ]
  },
  {
   "cell_type": "markdown",
   "id": "2bddf7d6",
   "metadata": {},
   "source": [
    "### Cтатистическая значимость различий в среднем количестве заказов на посетителя между группами по «очищенным» данным."
   ]
  },
  {
   "cell_type": "markdown",
   "id": "df19c788",
   "metadata": {},
   "source": [
    "Посчитайте статистическую значимость различий в среднем количестве заказов на посетителя между группами по «очищенным» данным. Сделайте выводы и предположения."
   ]
  },
  {
   "cell_type": "markdown",
   "id": "a2b1883e",
   "metadata": {},
   "source": [
    "Ранее мы определили, что аномальной границей станет 4 заказа и заказы на сумму свыше 30 000 рублей. "
   ]
  },
  {
   "cell_type": "code",
   "execution_count": 50,
   "id": "3015e25b",
   "metadata": {},
   "outputs": [
    {
     "name": "stdout",
     "output_type": "stream",
     "text": [
      "1099    148427295\n",
      "18      199603092\n",
      "928     204675465\n",
      "23      237748145\n",
      "684     358944393\n",
      "dtype: int64\n"
     ]
    }
   ],
   "source": [
    "# Сделаем срезы пользователей с числом заказов больше 3 — usersWithManyOrders и пользователей, совершивших заказы дороже 30 000 — usersWithExpensiveOrders\n",
    "\n",
    "\n",
    "usersWithManyOrders = pd.concat(\n",
    "    [\n",
    "        ordersByUsersA[ordersByUsersA['orders'] > 3]['user_id'],\n",
    "        ordersByUsersB[ordersByUsersB['orders'] > 3]['user_id'],\n",
    "    ],\n",
    "    axis=0,\n",
    ")\n",
    "usersWithExpensiveOrders = orders[orders['revenue'] > 30000]['visitor_id']\n",
    "abnormalUsers = (\n",
    "    pd.concat([usersWithManyOrders, usersWithExpensiveOrders], axis=0)\n",
    "    .drop_duplicates()\n",
    "    .sort_values()\n",
    ")\n",
    "print(abnormalUsers.head(5))"
   ]
  },
  {
   "cell_type": "code",
   "execution_count": 51,
   "id": "72a90aea",
   "metadata": {},
   "outputs": [
    {
     "name": "stdout",
     "output_type": "stream",
     "text": [
      "0.01832\n",
      "0.148\n"
     ]
    }
   ],
   "source": [
    "#Создадим переменные sampleAFiltered и sampleBFiltered, в которых сохраним очищенные данные о заказах\n",
    "\n",
    "sampleAFiltered = pd.concat(\n",
    "    [\n",
    "        ordersByUsersA[\n",
    "            np.logical_not(ordersByUsersA['user_id'].isin(abnormalUsers))\n",
    "        ]['orders'],\n",
    "        pd.Series(\n",
    "            0,\n",
    "            index=np.arange(\n",
    "                data['visitorsPerDateA'].sum() - len(ordersByUsersA['orders'])\n",
    "            ),\n",
    "            name='orders',\n",
    "        ),\n",
    "    ],\n",
    "    axis=0,\n",
    ")\n",
    "\n",
    "sampleBFiltered = pd.concat(\n",
    "    [\n",
    "        ordersByUsersB[\n",
    "            np.logical_not(ordersByUsersB['user_id'].isin(abnormalUsers))\n",
    "        ]['orders'],\n",
    "        pd.Series(\n",
    "            0,\n",
    "            index=np.arange(\n",
    "                data['visitorsPerDateB'].sum() - len(ordersByUsersB['orders'])\n",
    "            ),\n",
    "            name='orders',\n",
    "        ),\n",
    "    ],\n",
    "    axis=0,\n",
    ")\n",
    "\n",
    "print('{0:.5f}'.format(st.mannwhitneyu(sampleAFiltered, sampleBFiltered)[1]))\n",
    "print('{0:.3f}'.format(sampleBFiltered.mean()/sampleAFiltered.mean()-1))"
   ]
  },
  {
   "cell_type": "markdown",
   "id": "4c32aef3",
   "metadata": {},
   "source": [
    "Гипотезы:\n",
    "\n",
    "- H0- статистически значимых различий в среднем количестве заказов на посетителя между группами по «очищенным» данным нет.\n",
    "- H1- cтатистически значимые различия в среднем количестве заказов на посетителя между группами по «очищенным» данным есть."
   ]
  },
  {
   "cell_type": "markdown",
   "id": "48f259cf",
   "metadata": {},
   "source": [
    "Значение p-value = 0.01832, что меньше 0.05, что может говорить о том, что нулевая гипотеза может быть отвергнута. Среднее кол-во заказов между группами А и В в очищенных данных не равны.\n",
    "\n",
    "Относительный прирост среднего группы В к конверсии группы А около 14.8%."
   ]
  },
  {
   "cell_type": "markdown",
   "id": "729b113d",
   "metadata": {},
   "source": [
    "### Статистическая значимость различий в среднем чеке заказа между группами по «очищенным» данным. "
   ]
  },
  {
   "cell_type": "markdown",
   "id": "a1a86492",
   "metadata": {},
   "source": [
    "Посчитайте статистическую значимость различий в среднем чеке заказа между группами по «очищенным» данным. Сделайте выводы и предположения."
   ]
  },
  {
   "cell_type": "code",
   "execution_count": 52,
   "id": "70448cb0",
   "metadata": {},
   "outputs": [
    {
     "name": "stdout",
     "output_type": "stream",
     "text": [
      "0.958\n",
      "-0.020\n"
     ]
    }
   ],
   "source": [
    "print(\n",
    "    '{0:.3f}'.format(\n",
    "        st.mannwhitneyu(\n",
    "            orders[\n",
    "                np.logical_and(\n",
    "                    orders['group'] == 'A',\n",
    "                    np.logical_not(orders['visitor_id'].isin(abnormalUsers)),\n",
    "                )\n",
    "            ]['revenue'],\n",
    "            orders[\n",
    "                np.logical_and(\n",
    "                    orders['group'] == 'B',\n",
    "                    np.logical_not(orders['visitor_id'].isin(abnormalUsers)),\n",
    "                )\n",
    "            ]['revenue'],\n",
    "        )[1]\n",
    "    )\n",
    ")\n",
    "\n",
    "print(\n",
    "    \"{0:.3f}\".format(\n",
    "        orders[\n",
    "            np.logical_and(\n",
    "                orders['group'] == 'B',\n",
    "                np.logical_not(orders['visitor_id'].isin(abnormalUsers)),\n",
    "            )\n",
    "        ]['revenue'].mean()\n",
    "        / orders[\n",
    "            np.logical_and(\n",
    "                orders['group'] == 'A',\n",
    "                np.logical_not(orders['visitor_id'].isin(abnormalUsers)),\n",
    "            )\n",
    "        ]['revenue'].mean()\n",
    "        - 1\n",
    "    )\n",
    ")"
   ]
  },
  {
   "cell_type": "markdown",
   "id": "25e3eb9c",
   "metadata": {},
   "source": [
    "Гипотезы:\n",
    "\n",
    "- H0- статистически значимых различий в среднем чеке заказа между группами по «очищенным» данным нет.\n",
    "- H1- cтатистически значимые различия в в среднем чеке заказа между группами по «очищенным» данным есть."
   ]
  },
  {
   "cell_type": "markdown",
   "id": "2f26d2c2",
   "metadata": {},
   "source": [
    "P-value = 0.958, в \"очищенных данных\" увеличился, но средний чек группы B в \"очищенных данных\" оказался ниже среднего чека группы A. и составила 2%."
   ]
  },
  {
   "cell_type": "markdown",
   "id": "31b20a8a",
   "metadata": {},
   "source": [
    "## Вывод."
   ]
  },
  {
   "cell_type": "markdown",
   "id": "f5d1cce4",
   "metadata": {},
   "source": [
    "По итогам приоретизации гипотез и проведения А/В тестирования можно сделать следующие выводы:\n",
    "\n",
    "1.\n",
    "\n",
    "- После применения фреймоворка ICE наиболее наиболее перспективными являются гипотезы под номерами 8,0 и 7.\n",
    "- После применения фреймворка RICE помимо гипотез 7 и 0, появились новые гипотезы 2 и 6.\n",
    "- Основными различиями при приоритезации гипотез между фрейморками ICE и RICE является наличие параметра Reach, который показывает охват пользователей по 10-балльной шкале. Поэтому, после применения фреймоворка RICE. наиболее перспективными гипотезами стали гипотезы под номерами 7,2,0 и 6.\n",
    "\n",
    "2. 2.1  \n",
    "\n",
    "   В A/B тесте участвовали 2 группы.В группах были повторяющиеся пользователи, но их кол-во меньше 5%, поэтому мы их оставили.Тест продолжался 30 дней.\n",
    "\n",
    "\n",
    "2.2  \n",
    "- При анализе кумулятивной выручки по группах, мы обнаружили, что выручка у группы В вышк примерно с середины теста и  лидирует до конца теста. \n",
    "- Анализ кумулятивного среднего чека по группам опять же лидирует группа В, но у нее имеется слишком резкий скачек, что может быть обусловлено аномально высокими покупками (выбросами).\n",
    "- По графику относительного изменения кумулятивного среднего чека группы В к группе А мы также видим аномально высокие значения, что означает выбосы.\n",
    "\n",
    "2.3 \n",
    "- После анализа кумулятивного среднего кол-ва заказов на посетителя по группам, мы видим, что группа В имеет больше заказов.\n",
    "- График относительного прироста среднего кол-ва заказов группы В относительно группы А показывает, что группа В лидирует по среднему кол-ву заказов относительно группы А, прирост почти 20%.\n",
    "\n",
    "2.4\n",
    "- После точеного графика кол-ва заказов по пользователям, мы нашли выбросы.\n",
    "- Около 5% пользователей сделали больше 2х заказов и около 1% сделали больше 4 заказов. Оставим в датафрейме пользователей, которые сделали меньше 4 заказов.\n",
    "- График стоимостей заказов мы также нашли аномально высокие значения.\n",
    "- Не более чем у 1% стоимость покупок больше 58 000 рублей, у около 5% пользователей стоимость заказа выше 28 000 рублей. Определим границы в районе 30 000 рублей.\n",
    "\n",
    "2.5\n",
    "- После анализа статистической значимости различий в среднем количестве заказов на посетителя между группами по «сырым» данным, мы определили, что значение p-value = 0.01679, что меньше 0.05, что может говорить о том, что нулевая гипотеза может быть отвергнута. Среднее кол-во заказов между группами А и В не равны. Относительный прирост среднего кол-ва группы В к конверсии группы А около 13.8%.\n",
    "- После анализа статистической значимости различий в среднем количестве заказов на посетителя между группами по «очищенным» данным, мы получили почти те же значения: p-value = 0.01832, может говорить о том, что нулевая гипотеза может быть отвергнута. Среднее кол-во заказов между группами А и В в очищенных данных не равны. Относительный прирост среднего группы В к конверсии группы А около 14.8%.\n",
    "\n",
    "2.6\n",
    "- Cтатистическая значимость различий в среднем чеке заказа между группами по «сырым» данным дала понять, что значимых отличий в средних чеках между группами нет, т. к P-value = 0.729, что больше 0.05. Однако относительное различие чека между сегментами составляет 25.9%.\n",
    "- На \"очищенных данных\" статистическая значимость различий в среднем чеке заказа между группами показала, что  значение P-value увеличился и составило 0.958, но средний чек группы B в \"очищенных данных\" оказался ниже среднего чека группы A. и составила 2%. Скорее всего это связано с тем, что мы убрали выбросы из группы В, которые влияли на средний чек группы. \n",
    "\n",
    "\n",
    "3. Мы имеем:\n",
    "- Нет статистически значимого различия по среднему количеству заказов между группами ни по «сырым», ни по данным после фильтрации аномалий. Группа В имеет большее среднее кол-во заказов.\n",
    "- Есть статистически значимые различия по среднему чеку между группами ни по «сырым», ни по данным после фильтрации аномалий, в \"сырых\" данных различие в пользу группы В почти 25%, однако после очистки данных, группа А имеет преимущество в 2 %;\n",
    "- По графикам различия среднего количества заказов между группами сообщает, что результаты группы B лучше группы A почти на 20%, однако при анализе кумулятивного среднего кол-во заказов на посетителя по группам и кумулятивного среднего чека по группам (без выбросов), группа А не сильно отстает.\n",
    "\n",
    "Рекомендации:\n",
    "- Продолжить тест, посмотреть на поведение обоих групп, так как в группе В в начале тестирования имеются выбросы. Стоит посмотреть на средние чеки по группам через некоторое время еще раз.\n",
    "\n"
   ]
  }
 ],
 "metadata": {
  "ExecuteTimeLog": [
   {
    "duration": 1217,
    "start_time": "2023-04-18T15:45:28.466Z"
   },
   {
    "duration": 79,
    "start_time": "2023-04-18T15:45:29.685Z"
   },
   {
    "duration": 13,
    "start_time": "2023-04-18T15:45:29.766Z"
   },
   {
    "duration": 121,
    "start_time": "2023-04-18T15:45:29.781Z"
   },
   {
    "duration": 11,
    "start_time": "2023-04-18T15:45:29.904Z"
   },
   {
    "duration": 27,
    "start_time": "2023-04-18T15:45:29.917Z"
   },
   {
    "duration": 28,
    "start_time": "2023-04-18T15:45:29.945Z"
   },
   {
    "duration": 18,
    "start_time": "2023-04-18T15:45:29.975Z"
   },
   {
    "duration": 42,
    "start_time": "2023-04-18T15:45:29.995Z"
   },
   {
    "duration": 10,
    "start_time": "2023-04-18T15:45:30.039Z"
   },
   {
    "duration": 30,
    "start_time": "2023-04-18T15:45:30.050Z"
   },
   {
    "duration": 29,
    "start_time": "2023-04-18T15:45:30.082Z"
   },
   {
    "duration": 23,
    "start_time": "2023-04-18T15:45:30.112Z"
   },
   {
    "duration": 36,
    "start_time": "2023-04-18T15:45:30.137Z"
   },
   {
    "duration": 40,
    "start_time": "2023-04-18T15:45:30.175Z"
   },
   {
    "duration": 34,
    "start_time": "2023-04-18T15:45:30.217Z"
   },
   {
    "duration": 44,
    "start_time": "2023-04-18T15:45:30.253Z"
   },
   {
    "duration": 56,
    "start_time": "2023-04-18T15:45:30.299Z"
   },
   {
    "duration": 29,
    "start_time": "2023-04-18T15:45:30.356Z"
   },
   {
    "duration": 23,
    "start_time": "2023-04-18T15:45:30.387Z"
   },
   {
    "duration": 35,
    "start_time": "2023-04-18T15:45:30.412Z"
   },
   {
    "duration": 23,
    "start_time": "2023-04-18T15:45:30.449Z"
   },
   {
    "duration": 60,
    "start_time": "2023-04-18T15:45:30.474Z"
   },
   {
    "duration": 45,
    "start_time": "2023-04-18T15:45:30.537Z"
   },
   {
    "duration": 36,
    "start_time": "2023-04-18T15:45:30.584Z"
   },
   {
    "duration": 16,
    "start_time": "2023-04-18T15:45:30.621Z"
   },
   {
    "duration": 35,
    "start_time": "2023-04-18T15:45:30.638Z"
   },
   {
    "duration": 20,
    "start_time": "2023-04-18T15:45:30.677Z"
   },
   {
    "duration": 218,
    "start_time": "2023-04-18T15:45:30.698Z"
   },
   {
    "duration": 137,
    "start_time": "2023-04-18T15:45:30.918Z"
   },
   {
    "duration": 18,
    "start_time": "2023-04-18T15:45:31.057Z"
   },
   {
    "duration": 32,
    "start_time": "2023-04-18T15:45:31.076Z"
   },
   {
    "duration": 39,
    "start_time": "2023-04-18T15:45:31.110Z"
   },
   {
    "duration": 313,
    "start_time": "2023-04-18T15:45:31.151Z"
   },
   {
    "duration": 227,
    "start_time": "2023-04-18T15:45:31.466Z"
   },
   {
    "duration": 6,
    "start_time": "2023-04-18T15:45:31.695Z"
   },
   {
    "duration": 407,
    "start_time": "2023-04-18T15:45:31.702Z"
   },
   {
    "duration": 227,
    "start_time": "2023-04-18T15:45:32.111Z"
   },
   {
    "duration": 340,
    "start_time": "2023-04-18T15:45:32.340Z"
   },
   {
    "duration": 13,
    "start_time": "2023-04-18T15:45:32.682Z"
   },
   {
    "duration": 170,
    "start_time": "2023-04-18T15:45:32.697Z"
   },
   {
    "duration": 6,
    "start_time": "2023-04-18T15:45:32.869Z"
   },
   {
    "duration": 185,
    "start_time": "2023-04-18T15:45:32.876Z"
   },
   {
    "duration": 5,
    "start_time": "2023-04-18T15:45:33.062Z"
   },
   {
    "duration": 296,
    "start_time": "2023-04-18T15:45:33.068Z"
   },
   {
    "duration": 171,
    "start_time": "2023-04-18T15:45:33.366Z"
   },
   {
    "duration": 5,
    "start_time": "2023-04-18T15:45:33.539Z"
   },
   {
    "duration": 36,
    "start_time": "2023-04-18T15:45:33.546Z"
   },
   {
    "duration": 114,
    "start_time": "2023-04-18T15:45:33.584Z"
   },
   {
    "duration": 0,
    "start_time": "2023-04-18T15:45:33.699Z"
   },
   {
    "duration": 0,
    "start_time": "2023-04-18T15:45:33.700Z"
   },
   {
    "duration": 0,
    "start_time": "2023-04-18T15:45:33.701Z"
   },
   {
    "duration": 1431,
    "start_time": "2023-04-18T16:07:58.564Z"
   },
   {
    "duration": 84,
    "start_time": "2023-04-18T16:07:59.997Z"
   },
   {
    "duration": 13,
    "start_time": "2023-04-18T16:08:00.082Z"
   },
   {
    "duration": 40,
    "start_time": "2023-04-18T16:08:00.097Z"
   },
   {
    "duration": 18,
    "start_time": "2023-04-18T16:08:00.140Z"
   },
   {
    "duration": 23,
    "start_time": "2023-04-18T16:08:00.160Z"
   },
   {
    "duration": 20,
    "start_time": "2023-04-18T16:08:00.185Z"
   },
   {
    "duration": 15,
    "start_time": "2023-04-18T16:08:00.206Z"
   },
   {
    "duration": 25,
    "start_time": "2023-04-18T16:08:00.223Z"
   },
   {
    "duration": 19,
    "start_time": "2023-04-18T16:08:00.252Z"
   },
   {
    "duration": 32,
    "start_time": "2023-04-18T16:08:00.273Z"
   },
   {
    "duration": 66,
    "start_time": "2023-04-18T16:08:00.307Z"
   },
   {
    "duration": 32,
    "start_time": "2023-04-18T16:08:00.375Z"
   },
   {
    "duration": 37,
    "start_time": "2023-04-18T16:08:00.409Z"
   },
   {
    "duration": 35,
    "start_time": "2023-04-18T16:08:00.448Z"
   },
   {
    "duration": 39,
    "start_time": "2023-04-18T16:08:00.485Z"
   },
   {
    "duration": 40,
    "start_time": "2023-04-18T16:08:00.525Z"
   },
   {
    "duration": 46,
    "start_time": "2023-04-18T16:08:00.567Z"
   },
   {
    "duration": 35,
    "start_time": "2023-04-18T16:08:00.615Z"
   },
   {
    "duration": 53,
    "start_time": "2023-04-18T16:08:00.652Z"
   },
   {
    "duration": 36,
    "start_time": "2023-04-18T16:08:00.707Z"
   },
   {
    "duration": 34,
    "start_time": "2023-04-18T16:08:00.745Z"
   },
   {
    "duration": 48,
    "start_time": "2023-04-18T16:08:00.781Z"
   },
   {
    "duration": 43,
    "start_time": "2023-04-18T16:08:00.831Z"
   },
   {
    "duration": 49,
    "start_time": "2023-04-18T16:08:00.876Z"
   },
   {
    "duration": 23,
    "start_time": "2023-04-18T16:08:00.927Z"
   },
   {
    "duration": 48,
    "start_time": "2023-04-18T16:08:00.952Z"
   },
   {
    "duration": 29,
    "start_time": "2023-04-18T16:08:01.005Z"
   },
   {
    "duration": 187,
    "start_time": "2023-04-18T16:08:01.035Z"
   },
   {
    "duration": 138,
    "start_time": "2023-04-18T16:08:01.223Z"
   },
   {
    "duration": 60,
    "start_time": "2023-04-18T16:08:01.363Z"
   },
   {
    "duration": 47,
    "start_time": "2023-04-18T16:08:01.425Z"
   },
   {
    "duration": 52,
    "start_time": "2023-04-18T16:08:01.474Z"
   },
   {
    "duration": 350,
    "start_time": "2023-04-18T16:08:01.528Z"
   },
   {
    "duration": 228,
    "start_time": "2023-04-18T16:08:01.880Z"
   },
   {
    "duration": 7,
    "start_time": "2023-04-18T16:08:02.110Z"
   },
   {
    "duration": 376,
    "start_time": "2023-04-18T16:08:02.118Z"
   },
   {
    "duration": 225,
    "start_time": "2023-04-18T16:08:02.496Z"
   },
   {
    "duration": 371,
    "start_time": "2023-04-18T16:08:02.722Z"
   },
   {
    "duration": 11,
    "start_time": "2023-04-18T16:08:03.094Z"
   },
   {
    "duration": 174,
    "start_time": "2023-04-18T16:08:03.107Z"
   },
   {
    "duration": 5,
    "start_time": "2023-04-18T16:08:03.282Z"
   },
   {
    "duration": 176,
    "start_time": "2023-04-18T16:08:03.289Z"
   },
   {
    "duration": 4,
    "start_time": "2023-04-18T16:08:03.467Z"
   },
   {
    "duration": 308,
    "start_time": "2023-04-18T16:08:03.473Z"
   },
   {
    "duration": 156,
    "start_time": "2023-04-18T16:08:03.782Z"
   },
   {
    "duration": 5,
    "start_time": "2023-04-18T16:08:03.940Z"
   },
   {
    "duration": 32,
    "start_time": "2023-04-18T16:08:03.947Z"
   },
   {
    "duration": 106,
    "start_time": "2023-04-18T16:08:03.980Z"
   },
   {
    "duration": 0,
    "start_time": "2023-04-18T16:08:04.087Z"
   },
   {
    "duration": 0,
    "start_time": "2023-04-18T16:08:04.088Z"
   },
   {
    "duration": 0,
    "start_time": "2023-04-18T16:08:04.090Z"
   },
   {
    "duration": 14,
    "start_time": "2023-04-18T17:02:08.318Z"
   },
   {
    "duration": 37,
    "start_time": "2023-04-18T17:02:09.913Z"
   },
   {
    "duration": 16,
    "start_time": "2023-04-18T17:02:13.510Z"
   },
   {
    "duration": 72,
    "start_time": "2023-04-19T03:21:59.315Z"
   },
   {
    "duration": 44,
    "start_time": "2023-04-19T03:22:03.306Z"
   },
   {
    "duration": 1440,
    "start_time": "2023-04-19T03:22:15.432Z"
   },
   {
    "duration": 201,
    "start_time": "2023-04-19T03:22:16.874Z"
   },
   {
    "duration": 15,
    "start_time": "2023-04-19T03:22:17.077Z"
   },
   {
    "duration": 11,
    "start_time": "2023-04-19T03:22:17.095Z"
   },
   {
    "duration": 9,
    "start_time": "2023-04-19T03:22:17.108Z"
   },
   {
    "duration": 23,
    "start_time": "2023-04-19T03:22:17.119Z"
   },
   {
    "duration": 17,
    "start_time": "2023-04-19T03:22:17.144Z"
   },
   {
    "duration": 14,
    "start_time": "2023-04-19T03:22:17.162Z"
   },
   {
    "duration": 29,
    "start_time": "2023-04-19T03:22:17.178Z"
   },
   {
    "duration": 13,
    "start_time": "2023-04-19T03:22:17.209Z"
   },
   {
    "duration": 15,
    "start_time": "2023-04-19T03:22:17.224Z"
   },
   {
    "duration": 13,
    "start_time": "2023-04-19T03:22:17.241Z"
   },
   {
    "duration": 13,
    "start_time": "2023-04-19T03:22:17.256Z"
   },
   {
    "duration": 9,
    "start_time": "2023-04-19T03:22:17.270Z"
   },
   {
    "duration": 27,
    "start_time": "2023-04-19T03:22:17.280Z"
   },
   {
    "duration": 10,
    "start_time": "2023-04-19T03:22:17.308Z"
   },
   {
    "duration": 5,
    "start_time": "2023-04-19T03:22:17.319Z"
   },
   {
    "duration": 19,
    "start_time": "2023-04-19T03:22:17.326Z"
   },
   {
    "duration": 10,
    "start_time": "2023-04-19T03:22:17.347Z"
   },
   {
    "duration": 14,
    "start_time": "2023-04-19T03:22:17.358Z"
   },
   {
    "duration": 15,
    "start_time": "2023-04-19T03:22:17.373Z"
   },
   {
    "duration": 13,
    "start_time": "2023-04-19T03:22:17.389Z"
   },
   {
    "duration": 13,
    "start_time": "2023-04-19T03:22:17.404Z"
   },
   {
    "duration": 5,
    "start_time": "2023-04-19T03:22:17.419Z"
   },
   {
    "duration": 9,
    "start_time": "2023-04-19T03:22:17.425Z"
   },
   {
    "duration": 38,
    "start_time": "2023-04-19T03:22:17.436Z"
   },
   {
    "duration": 6,
    "start_time": "2023-04-19T03:22:17.475Z"
   },
   {
    "duration": 6,
    "start_time": "2023-04-19T03:22:17.484Z"
   },
   {
    "duration": 172,
    "start_time": "2023-04-19T03:22:17.491Z"
   },
   {
    "duration": 127,
    "start_time": "2023-04-19T03:22:17.665Z"
   },
   {
    "duration": 17,
    "start_time": "2023-04-19T03:22:17.793Z"
   },
   {
    "duration": 30,
    "start_time": "2023-04-19T03:22:17.811Z"
   },
   {
    "duration": 24,
    "start_time": "2023-04-19T03:22:17.842Z"
   },
   {
    "duration": 297,
    "start_time": "2023-04-19T03:22:17.867Z"
   },
   {
    "duration": 215,
    "start_time": "2023-04-19T03:22:18.165Z"
   },
   {
    "duration": 6,
    "start_time": "2023-04-19T03:22:18.381Z"
   },
   {
    "duration": 385,
    "start_time": "2023-04-19T03:22:18.389Z"
   },
   {
    "duration": 222,
    "start_time": "2023-04-19T03:22:18.776Z"
   },
   {
    "duration": 325,
    "start_time": "2023-04-19T03:22:19.000Z"
   },
   {
    "duration": 14,
    "start_time": "2023-04-19T03:22:19.327Z"
   },
   {
    "duration": 161,
    "start_time": "2023-04-19T03:22:19.342Z"
   },
   {
    "duration": 5,
    "start_time": "2023-04-19T03:22:19.504Z"
   },
   {
    "duration": 264,
    "start_time": "2023-04-19T03:22:19.510Z"
   },
   {
    "duration": 5,
    "start_time": "2023-04-19T03:22:19.776Z"
   },
   {
    "duration": 306,
    "start_time": "2023-04-19T03:22:19.783Z"
   },
   {
    "duration": 181,
    "start_time": "2023-04-19T03:22:20.091Z"
   },
   {
    "duration": 6,
    "start_time": "2023-04-19T03:22:20.273Z"
   },
   {
    "duration": 29,
    "start_time": "2023-04-19T03:22:20.280Z"
   },
   {
    "duration": 126,
    "start_time": "2023-04-19T03:22:20.310Z"
   },
   {
    "duration": 0,
    "start_time": "2023-04-19T03:22:20.438Z"
   },
   {
    "duration": 0,
    "start_time": "2023-04-19T03:22:20.439Z"
   },
   {
    "duration": 0,
    "start_time": "2023-04-19T03:22:20.441Z"
   },
   {
    "duration": 10,
    "start_time": "2023-04-19T03:25:15.796Z"
   },
   {
    "duration": 10,
    "start_time": "2023-04-19T03:25:22.760Z"
   },
   {
    "duration": 10,
    "start_time": "2023-04-19T03:25:26.321Z"
   },
   {
    "duration": 10,
    "start_time": "2023-04-19T03:25:34.030Z"
   },
   {
    "duration": 10,
    "start_time": "2023-04-19T03:25:37.316Z"
   },
   {
    "duration": 9,
    "start_time": "2023-04-19T03:27:18.323Z"
   },
   {
    "duration": 647,
    "start_time": "2023-04-19T03:27:25.987Z"
   },
   {
    "duration": 8,
    "start_time": "2023-04-19T03:27:36.311Z"
   },
   {
    "duration": 45,
    "start_time": "2023-04-19T03:27:39.508Z"
   },
   {
    "duration": 10,
    "start_time": "2023-04-19T03:27:44.723Z"
   },
   {
    "duration": 8,
    "start_time": "2023-04-19T03:28:26.975Z"
   },
   {
    "duration": 9,
    "start_time": "2023-04-19T03:31:12.797Z"
   },
   {
    "duration": 98,
    "start_time": "2023-04-19T04:20:09.303Z"
   },
   {
    "duration": 89,
    "start_time": "2023-04-19T04:20:19.531Z"
   },
   {
    "duration": 82,
    "start_time": "2023-04-19T04:20:23.655Z"
   },
   {
    "duration": 10,
    "start_time": "2023-04-19T04:20:33.023Z"
   },
   {
    "duration": 92,
    "start_time": "2023-04-19T04:21:16.876Z"
   },
   {
    "duration": 77,
    "start_time": "2023-04-19T04:21:25.750Z"
   },
   {
    "duration": 73,
    "start_time": "2023-04-19T04:21:35.244Z"
   },
   {
    "duration": 96,
    "start_time": "2023-04-19T04:21:40.480Z"
   },
   {
    "duration": 98,
    "start_time": "2023-04-19T04:21:54.529Z"
   },
   {
    "duration": 8,
    "start_time": "2023-04-19T04:22:24.920Z"
   },
   {
    "duration": 310,
    "start_time": "2023-04-19T04:24:48.716Z"
   },
   {
    "duration": 228,
    "start_time": "2023-04-19T04:24:59.302Z"
   },
   {
    "duration": 360,
    "start_time": "2023-04-19T04:25:04.754Z"
   },
   {
    "duration": 337,
    "start_time": "2023-04-19T04:25:16.215Z"
   },
   {
    "duration": 238,
    "start_time": "2023-04-19T04:25:22.330Z"
   },
   {
    "duration": 215,
    "start_time": "2023-04-19T04:25:27.568Z"
   },
   {
    "duration": 12,
    "start_time": "2023-04-19T04:27:33.848Z"
   },
   {
    "duration": 227,
    "start_time": "2023-04-19T04:28:11.731Z"
   },
   {
    "duration": 216,
    "start_time": "2023-04-19T04:28:30.241Z"
   },
   {
    "duration": 328,
    "start_time": "2023-04-19T04:28:50.989Z"
   },
   {
    "duration": 218,
    "start_time": "2023-04-19T04:29:07.470Z"
   },
   {
    "duration": 398,
    "start_time": "2023-04-19T04:29:25.459Z"
   },
   {
    "duration": 151,
    "start_time": "2023-04-19T04:29:54.945Z"
   },
   {
    "duration": 166,
    "start_time": "2023-04-19T04:30:18.261Z"
   },
   {
    "duration": 10,
    "start_time": "2023-04-19T04:30:38.613Z"
   },
   {
    "duration": 75,
    "start_time": "2023-04-19T04:36:19.229Z"
   },
   {
    "duration": 11,
    "start_time": "2023-04-19T04:37:41.082Z"
   },
   {
    "duration": 11,
    "start_time": "2023-04-19T04:37:59.248Z"
   },
   {
    "duration": 1124,
    "start_time": "2023-04-19T04:38:11.248Z"
   },
   {
    "duration": 76,
    "start_time": "2023-04-19T04:38:12.374Z"
   },
   {
    "duration": 11,
    "start_time": "2023-04-19T04:38:12.451Z"
   },
   {
    "duration": 21,
    "start_time": "2023-04-19T04:38:12.463Z"
   },
   {
    "duration": 7,
    "start_time": "2023-04-19T04:38:12.486Z"
   },
   {
    "duration": 8,
    "start_time": "2023-04-19T04:38:12.495Z"
   },
   {
    "duration": 6,
    "start_time": "2023-04-19T04:38:12.505Z"
   },
   {
    "duration": 14,
    "start_time": "2023-04-19T04:38:12.513Z"
   },
   {
    "duration": 12,
    "start_time": "2023-04-19T04:38:12.528Z"
   },
   {
    "duration": 7,
    "start_time": "2023-04-19T04:38:12.542Z"
   },
   {
    "duration": 10,
    "start_time": "2023-04-19T04:38:12.572Z"
   },
   {
    "duration": 8,
    "start_time": "2023-04-19T04:38:12.583Z"
   },
   {
    "duration": 6,
    "start_time": "2023-04-19T04:38:12.592Z"
   },
   {
    "duration": 5,
    "start_time": "2023-04-19T04:38:12.599Z"
   },
   {
    "duration": 16,
    "start_time": "2023-04-19T04:38:12.606Z"
   },
   {
    "duration": 8,
    "start_time": "2023-04-19T04:38:12.624Z"
   },
   {
    "duration": 4,
    "start_time": "2023-04-19T04:38:12.633Z"
   },
   {
    "duration": 36,
    "start_time": "2023-04-19T04:38:12.639Z"
   },
   {
    "duration": 5,
    "start_time": "2023-04-19T04:38:12.677Z"
   },
   {
    "duration": 6,
    "start_time": "2023-04-19T04:38:12.683Z"
   },
   {
    "duration": 18,
    "start_time": "2023-04-19T04:38:12.690Z"
   },
   {
    "duration": 10,
    "start_time": "2023-04-19T04:38:12.709Z"
   },
   {
    "duration": 24,
    "start_time": "2023-04-19T04:38:12.720Z"
   },
   {
    "duration": 12,
    "start_time": "2023-04-19T04:38:12.746Z"
   },
   {
    "duration": 15,
    "start_time": "2023-04-19T04:38:12.759Z"
   },
   {
    "duration": 12,
    "start_time": "2023-04-19T04:38:12.775Z"
   },
   {
    "duration": 5,
    "start_time": "2023-04-19T04:38:12.788Z"
   },
   {
    "duration": 6,
    "start_time": "2023-04-19T04:38:12.796Z"
   },
   {
    "duration": 184,
    "start_time": "2023-04-19T04:38:12.803Z"
   },
   {
    "duration": 131,
    "start_time": "2023-04-19T04:38:12.989Z"
   },
   {
    "duration": 13,
    "start_time": "2023-04-19T04:38:13.121Z"
   },
   {
    "duration": 4,
    "start_time": "2023-04-19T04:38:13.135Z"
   },
   {
    "duration": 9,
    "start_time": "2023-04-19T04:38:13.141Z"
   },
   {
    "duration": 376,
    "start_time": "2023-04-19T04:38:13.151Z"
   },
   {
    "duration": 242,
    "start_time": "2023-04-19T04:38:13.528Z"
   },
   {
    "duration": 6,
    "start_time": "2023-04-19T04:38:13.772Z"
   },
   {
    "duration": 361,
    "start_time": "2023-04-19T04:38:13.780Z"
   },
   {
    "duration": 250,
    "start_time": "2023-04-19T04:38:14.142Z"
   },
   {
    "duration": 333,
    "start_time": "2023-04-19T04:38:14.393Z"
   },
   {
    "duration": 10,
    "start_time": "2023-04-19T04:38:14.727Z"
   },
   {
    "duration": 153,
    "start_time": "2023-04-19T04:38:14.738Z"
   },
   {
    "duration": 4,
    "start_time": "2023-04-19T04:38:14.893Z"
   },
   {
    "duration": 164,
    "start_time": "2023-04-19T04:38:14.898Z"
   },
   {
    "duration": 8,
    "start_time": "2023-04-19T04:38:15.064Z"
   },
   {
    "duration": 250,
    "start_time": "2023-04-19T04:38:15.074Z"
   },
   {
    "duration": 160,
    "start_time": "2023-04-19T04:38:15.325Z"
   },
   {
    "duration": 5,
    "start_time": "2023-04-19T04:38:15.487Z"
   },
   {
    "duration": 19,
    "start_time": "2023-04-19T04:38:15.494Z"
   },
   {
    "duration": 9,
    "start_time": "2023-04-19T04:38:15.514Z"
   },
   {
    "duration": 8,
    "start_time": "2023-04-19T04:38:15.525Z"
   },
   {
    "duration": 59,
    "start_time": "2023-04-19T04:38:15.535Z"
   },
   {
    "duration": 13,
    "start_time": "2023-04-19T04:38:15.596Z"
   },
   {
    "duration": 79,
    "start_time": "2023-04-19T04:39:01.257Z"
   },
   {
    "duration": 109,
    "start_time": "2023-04-19T07:58:29.409Z"
   },
   {
    "duration": 5,
    "start_time": "2023-04-19T07:58:57.702Z"
   },
   {
    "duration": 1190,
    "start_time": "2023-04-19T08:00:50.407Z"
   },
   {
    "duration": 128,
    "start_time": "2023-04-19T08:02:33.666Z"
   },
   {
    "duration": 16,
    "start_time": "2023-04-19T08:08:10.186Z"
   },
   {
    "duration": 110,
    "start_time": "2023-04-19T08:08:22.644Z"
   },
   {
    "duration": 16,
    "start_time": "2023-04-19T08:08:25.951Z"
   },
   {
    "duration": 9,
    "start_time": "2023-04-19T08:09:14.939Z"
   },
   {
    "duration": 15,
    "start_time": "2023-04-19T08:09:21.097Z"
   },
   {
    "duration": 33,
    "start_time": "2023-04-19T08:09:32.256Z"
   },
   {
    "duration": 24,
    "start_time": "2023-04-19T08:09:37.571Z"
   },
   {
    "duration": 4,
    "start_time": "2023-04-19T08:09:44.412Z"
   },
   {
    "duration": 1251,
    "start_time": "2023-04-19T13:48:52.669Z"
   },
   {
    "duration": 217,
    "start_time": "2023-04-19T13:48:53.922Z"
   },
   {
    "duration": 12,
    "start_time": "2023-04-19T13:48:54.141Z"
   },
   {
    "duration": 11,
    "start_time": "2023-04-19T13:48:54.155Z"
   },
   {
    "duration": 11,
    "start_time": "2023-04-19T13:48:54.169Z"
   },
   {
    "duration": 16,
    "start_time": "2023-04-19T13:48:54.182Z"
   },
   {
    "duration": 8,
    "start_time": "2023-04-19T13:48:54.200Z"
   },
   {
    "duration": 28,
    "start_time": "2023-04-19T13:48:54.210Z"
   },
   {
    "duration": 22,
    "start_time": "2023-04-19T13:48:54.240Z"
   },
   {
    "duration": 20,
    "start_time": "2023-04-19T13:48:54.264Z"
   },
   {
    "duration": 23,
    "start_time": "2023-04-19T13:48:54.285Z"
   },
   {
    "duration": 6,
    "start_time": "2023-04-19T13:48:54.309Z"
   },
   {
    "duration": 6,
    "start_time": "2023-04-19T13:48:54.317Z"
   },
   {
    "duration": 16,
    "start_time": "2023-04-19T13:48:54.326Z"
   },
   {
    "duration": 21,
    "start_time": "2023-04-19T13:48:54.344Z"
   },
   {
    "duration": 10,
    "start_time": "2023-04-19T13:48:54.367Z"
   },
   {
    "duration": 13,
    "start_time": "2023-04-19T13:48:54.378Z"
   },
   {
    "duration": 13,
    "start_time": "2023-04-19T13:48:54.392Z"
   },
   {
    "duration": 28,
    "start_time": "2023-04-19T13:48:54.407Z"
   },
   {
    "duration": 12,
    "start_time": "2023-04-19T13:48:54.437Z"
   },
   {
    "duration": 22,
    "start_time": "2023-04-19T13:48:54.451Z"
   },
   {
    "duration": 10,
    "start_time": "2023-04-19T13:48:54.475Z"
   },
   {
    "duration": 20,
    "start_time": "2023-04-19T13:48:54.487Z"
   },
   {
    "duration": 25,
    "start_time": "2023-04-19T13:48:54.509Z"
   },
   {
    "duration": 16,
    "start_time": "2023-04-19T13:48:54.536Z"
   },
   {
    "duration": 20,
    "start_time": "2023-04-19T13:48:54.553Z"
   },
   {
    "duration": 20,
    "start_time": "2023-04-19T13:48:54.574Z"
   },
   {
    "duration": 16,
    "start_time": "2023-04-19T13:48:54.596Z"
   },
   {
    "duration": 160,
    "start_time": "2023-04-19T13:48:54.614Z"
   },
   {
    "duration": 128,
    "start_time": "2023-04-19T13:48:54.776Z"
   },
   {
    "duration": 12,
    "start_time": "2023-04-19T13:48:54.905Z"
   },
   {
    "duration": 17,
    "start_time": "2023-04-19T13:48:54.919Z"
   },
   {
    "duration": 4,
    "start_time": "2023-04-19T13:48:54.938Z"
   },
   {
    "duration": 439,
    "start_time": "2023-04-19T13:48:54.944Z"
   },
   {
    "duration": 223,
    "start_time": "2023-04-19T13:48:55.385Z"
   },
   {
    "duration": 7,
    "start_time": "2023-04-19T13:48:55.610Z"
   },
   {
    "duration": 409,
    "start_time": "2023-04-19T13:48:55.619Z"
   },
   {
    "duration": 243,
    "start_time": "2023-04-19T13:48:56.030Z"
   },
   {
    "duration": 337,
    "start_time": "2023-04-19T13:48:56.275Z"
   },
   {
    "duration": 11,
    "start_time": "2023-04-19T13:48:56.614Z"
   },
   {
    "duration": 163,
    "start_time": "2023-04-19T13:48:56.628Z"
   },
   {
    "duration": 5,
    "start_time": "2023-04-19T13:48:56.793Z"
   },
   {
    "duration": 193,
    "start_time": "2023-04-19T13:48:56.800Z"
   },
   {
    "duration": 5,
    "start_time": "2023-04-19T13:48:56.995Z"
   },
   {
    "duration": 298,
    "start_time": "2023-04-19T13:48:57.001Z"
   },
   {
    "duration": 152,
    "start_time": "2023-04-19T13:48:57.301Z"
   },
   {
    "duration": 6,
    "start_time": "2023-04-19T13:48:57.455Z"
   },
   {
    "duration": 34,
    "start_time": "2023-04-19T13:48:57.463Z"
   },
   {
    "duration": 11,
    "start_time": "2023-04-19T13:48:57.499Z"
   },
   {
    "duration": 29,
    "start_time": "2023-04-19T13:48:57.511Z"
   },
   {
    "duration": 35,
    "start_time": "2023-04-19T13:48:57.542Z"
   },
   {
    "duration": 13,
    "start_time": "2023-04-19T13:48:57.578Z"
   }
  ],
  "kernelspec": {
   "display_name": "Python 3 (ipykernel)",
   "language": "python",
   "name": "python3"
  },
  "language_info": {
   "codemirror_mode": {
    "name": "ipython",
    "version": 3
   },
   "file_extension": ".py",
   "mimetype": "text/x-python",
   "name": "python",
   "nbconvert_exporter": "python",
   "pygments_lexer": "ipython3",
   "version": "3.9.13"
  },
  "toc": {
   "base_numbering": 1,
   "nav_menu": {},
   "number_sections": true,
   "sideBar": true,
   "skip_h1_title": true,
   "title_cell": "Table of Contents",
   "title_sidebar": "Contents",
   "toc_cell": true,
   "toc_position": {},
   "toc_section_display": true,
   "toc_window_display": false
  }
 },
 "nbformat": 4,
 "nbformat_minor": 5
}
