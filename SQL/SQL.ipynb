{
 "cells": [
  {
   "cell_type": "markdown",
   "id": "477f5431",
   "metadata": {},
   "source": [
    "# Описание проекта\n",
    "Коронавирус застал мир врасплох, изменив привычный порядок вещей. В свободное время жители городов больше не выходят на улицу, не посещают кафе и торговые центры. Зато стало больше времени для книг. Это заметили стартаперы — и бросились создавать приложения для тех, кто любит читать.\n",
    "\n",
    "Ваша компания решила быть на волне и купила крупный сервис для чтения книг по подписке. Ваша первая задача как аналитика — проанализировать базу данных.\n",
    "В ней — информация о книгах, издательствах, авторах, а также пользовательские обзоры книг. Эти данные помогут сформулировать ценностное предложение для нового продукта.\n",
    "\n",
    "\n",
    "\n",
    "**Описание данных:**\n",
    "\n",
    "**Таблица `books`**\n",
    "\n",
    "Содержит данные о книгах:\n",
    "\n",
    "- `book_id` — идентификатор книги;\n",
    "- `author_id` — идентификатор автора;\n",
    "- `title` — название книги;\n",
    "- `num_pages` — количество страниц;\n",
    "- `publication_date` — дата публикации книги;\n",
    "- `publisher_id` — идентификатор издателя.\n",
    "\n",
    "**Таблица `authors`**\n",
    "\n",
    "Содержит данные об авторах:\n",
    "\n",
    "- `author_id` — идентификатор автора;\n",
    "- `author` — имя автора.\n",
    "\n",
    "**Таблица `publishers`**\n",
    "\n",
    "Содержит данные об издательствах:\n",
    "\n",
    "- `publisher_id` — идентификатор издательства;\n",
    "- `publisher` — название издательства;\n",
    "\n",
    "**Таблица `ratings`**\n",
    "Содержит данные о пользовательских оценках книг:\n",
    "\n",
    "- `rating_id` — идентификатор оценки;\n",
    "- `book_id` — идентификатор книги;\n",
    "- `username` — имя пользователя, оставившего оценку;\n",
    "- `rating` — оценка книги.\n",
    "\n",
    "**Таблица `reviews`**\n",
    "\n",
    "Содержит данные о пользовательских обзорах на книги:\n",
    "\n",
    "- `review_id` — идентификатор обзора;\n",
    "- `book_id` — идентификатор книги;\n",
    "- `username` — имя пользователя, написавшего обзор;\n",
    "- `text` — текст обзора.\n",
    "\n",
    "**Навыки и инструменты:**\n",
    "- pandas\n",
    "- sqlalchemy"
   ]
  },
  {
   "cell_type": "markdown",
   "id": "5e72ea11",
   "metadata": {},
   "source": [
    "## Подключение к базе"
   ]
  },
  {
   "cell_type": "code",
   "execution_count": 1,
   "id": "52b715fc",
   "metadata": {},
   "outputs": [],
   "source": [
    "import pandas as pd\n",
    "from sqlalchemy import text, create_engine"
   ]
  },
  {
   "cell_type": "code",
   "execution_count": 2,
   "id": "3cb5f6d7",
   "metadata": {},
   "outputs": [],
   "source": [
    "# устанавливаем параметры\n",
    "db_config = {'user': 'praktikum_student', # имя пользователя\n",
    "'pwd': 'Sdf4$2;d-d30pp', # пароль\n",
    "'host': 'rc1b-wcoijxj3yxfsf3fs.mdb.yandexcloud.net',\n",
    "'port': 6432, # порт подключения\n",
    "'db': 'data-analyst-final-project-db'} # название базы данных\n",
    "connection_string = 'postgresql://{user}:{pwd}@{host}:{port}/{db}'.format(**db_config)\n",
    "\n",
    "# сохраняем коннектор\n",
    "engine = create_engine(connection_string, connect_args={'sslmode':'require'})\n",
    "con=engine.connect()"
   ]
  },
  {
   "cell_type": "code",
   "execution_count": 3,
   "id": "844dd3fc",
   "metadata": {},
   "outputs": [
    {
     "data": {
      "text/html": [
       "<div>\n",
       "<style scoped>\n",
       "    .dataframe tbody tr th:only-of-type {\n",
       "        vertical-align: middle;\n",
       "    }\n",
       "\n",
       "    .dataframe tbody tr th {\n",
       "        vertical-align: top;\n",
       "    }\n",
       "\n",
       "    .dataframe thead th {\n",
       "        text-align: right;\n",
       "    }\n",
       "</style>\n",
       "<table border=\"1\" class=\"dataframe\">\n",
       "  <thead>\n",
       "    <tr style=\"text-align: right;\">\n",
       "      <th></th>\n",
       "      <th>book_id</th>\n",
       "      <th>author_id</th>\n",
       "      <th>title</th>\n",
       "      <th>num_pages</th>\n",
       "      <th>publication_date</th>\n",
       "      <th>publisher_id</th>\n",
       "    </tr>\n",
       "  </thead>\n",
       "  <tbody>\n",
       "    <tr>\n",
       "      <th>0</th>\n",
       "      <td>1</td>\n",
       "      <td>546</td>\n",
       "      <td>'Salem's Lot</td>\n",
       "      <td>594</td>\n",
       "      <td>2005-11-01</td>\n",
       "      <td>93</td>\n",
       "    </tr>\n",
       "    <tr>\n",
       "      <th>1</th>\n",
       "      <td>2</td>\n",
       "      <td>465</td>\n",
       "      <td>1 000 Places to See Before You Die</td>\n",
       "      <td>992</td>\n",
       "      <td>2003-05-22</td>\n",
       "      <td>336</td>\n",
       "    </tr>\n",
       "    <tr>\n",
       "      <th>2</th>\n",
       "      <td>3</td>\n",
       "      <td>407</td>\n",
       "      <td>13 Little Blue Envelopes (Little Blue Envelope...</td>\n",
       "      <td>322</td>\n",
       "      <td>2010-12-21</td>\n",
       "      <td>135</td>\n",
       "    </tr>\n",
       "    <tr>\n",
       "      <th>3</th>\n",
       "      <td>4</td>\n",
       "      <td>82</td>\n",
       "      <td>1491: New Revelations of the Americas Before C...</td>\n",
       "      <td>541</td>\n",
       "      <td>2006-10-10</td>\n",
       "      <td>309</td>\n",
       "    </tr>\n",
       "    <tr>\n",
       "      <th>4</th>\n",
       "      <td>5</td>\n",
       "      <td>125</td>\n",
       "      <td>1776</td>\n",
       "      <td>386</td>\n",
       "      <td>2006-07-04</td>\n",
       "      <td>268</td>\n",
       "    </tr>\n",
       "    <tr>\n",
       "      <th>...</th>\n",
       "      <td>...</td>\n",
       "      <td>...</td>\n",
       "      <td>...</td>\n",
       "      <td>...</td>\n",
       "      <td>...</td>\n",
       "      <td>...</td>\n",
       "    </tr>\n",
       "    <tr>\n",
       "      <th>995</th>\n",
       "      <td>996</td>\n",
       "      <td>571</td>\n",
       "      <td>Wyrd Sisters (Discworld  #6; Witches #2)</td>\n",
       "      <td>265</td>\n",
       "      <td>2001-02-06</td>\n",
       "      <td>147</td>\n",
       "    </tr>\n",
       "    <tr>\n",
       "      <th>996</th>\n",
       "      <td>997</td>\n",
       "      <td>454</td>\n",
       "      <td>Xenocide (Ender's Saga  #3)</td>\n",
       "      <td>592</td>\n",
       "      <td>1996-07-15</td>\n",
       "      <td>297</td>\n",
       "    </tr>\n",
       "    <tr>\n",
       "      <th>997</th>\n",
       "      <td>998</td>\n",
       "      <td>201</td>\n",
       "      <td>Year of Wonders</td>\n",
       "      <td>358</td>\n",
       "      <td>2002-04-30</td>\n",
       "      <td>212</td>\n",
       "    </tr>\n",
       "    <tr>\n",
       "      <th>998</th>\n",
       "      <td>999</td>\n",
       "      <td>94</td>\n",
       "      <td>You Suck (A Love Story  #2)</td>\n",
       "      <td>328</td>\n",
       "      <td>2007-01-16</td>\n",
       "      <td>331</td>\n",
       "    </tr>\n",
       "    <tr>\n",
       "      <th>999</th>\n",
       "      <td>1000</td>\n",
       "      <td>509</td>\n",
       "      <td>Zen and the Art of Motorcycle Maintenance: An ...</td>\n",
       "      <td>540</td>\n",
       "      <td>2006-04-25</td>\n",
       "      <td>143</td>\n",
       "    </tr>\n",
       "  </tbody>\n",
       "</table>\n",
       "<p>1000 rows × 6 columns</p>\n",
       "</div>"
      ],
      "text/plain": [
       "     book_id  author_id                                              title  \\\n",
       "0          1        546                                       'Salem's Lot   \n",
       "1          2        465                 1 000 Places to See Before You Die   \n",
       "2          3        407  13 Little Blue Envelopes (Little Blue Envelope...   \n",
       "3          4         82  1491: New Revelations of the Americas Before C...   \n",
       "4          5        125                                               1776   \n",
       "..       ...        ...                                                ...   \n",
       "995      996        571           Wyrd Sisters (Discworld  #6; Witches #2)   \n",
       "996      997        454                        Xenocide (Ender's Saga  #3)   \n",
       "997      998        201                                    Year of Wonders   \n",
       "998      999         94                        You Suck (A Love Story  #2)   \n",
       "999     1000        509  Zen and the Art of Motorcycle Maintenance: An ...   \n",
       "\n",
       "     num_pages publication_date  publisher_id  \n",
       "0          594       2005-11-01            93  \n",
       "1          992       2003-05-22           336  \n",
       "2          322       2010-12-21           135  \n",
       "3          541       2006-10-10           309  \n",
       "4          386       2006-07-04           268  \n",
       "..         ...              ...           ...  \n",
       "995        265       2001-02-06           147  \n",
       "996        592       1996-07-15           297  \n",
       "997        358       2002-04-30           212  \n",
       "998        328       2007-01-16           331  \n",
       "999        540       2006-04-25           143  \n",
       "\n",
       "[1000 rows x 6 columns]"
      ]
     },
     "execution_count": 3,
     "metadata": {},
     "output_type": "execute_result"
    }
   ],
   "source": [
    "# чтобы выполнить SQL-запрос, используем Pandas\n",
    "query = '''SELECT * FROM books'''\n",
    "pd.io.sql.read_sql(sql=text(query), con = con)"
   ]
  },
  {
   "cell_type": "markdown",
   "id": "65786f2a",
   "metadata": {},
   "source": [
    "## Исследование таблиц"
   ]
  },
  {
   "cell_type": "markdown",
   "id": "2fb31363",
   "metadata": {},
   "source": [
    "### Таблица books"
   ]
  },
  {
   "cell_type": "code",
   "execution_count": 4,
   "id": "cb3f1037",
   "metadata": {},
   "outputs": [
    {
     "data": {
      "text/html": [
       "<div>\n",
       "<style scoped>\n",
       "    .dataframe tbody tr th:only-of-type {\n",
       "        vertical-align: middle;\n",
       "    }\n",
       "\n",
       "    .dataframe tbody tr th {\n",
       "        vertical-align: top;\n",
       "    }\n",
       "\n",
       "    .dataframe thead th {\n",
       "        text-align: right;\n",
       "    }\n",
       "</style>\n",
       "<table border=\"1\" class=\"dataframe\">\n",
       "  <thead>\n",
       "    <tr style=\"text-align: right;\">\n",
       "      <th></th>\n",
       "      <th>book_id</th>\n",
       "      <th>author_id</th>\n",
       "      <th>title</th>\n",
       "      <th>num_pages</th>\n",
       "      <th>publication_date</th>\n",
       "      <th>publisher_id</th>\n",
       "    </tr>\n",
       "  </thead>\n",
       "  <tbody>\n",
       "    <tr>\n",
       "      <th>0</th>\n",
       "      <td>1</td>\n",
       "      <td>546</td>\n",
       "      <td>'Salem's Lot</td>\n",
       "      <td>594</td>\n",
       "      <td>2005-11-01</td>\n",
       "      <td>93</td>\n",
       "    </tr>\n",
       "    <tr>\n",
       "      <th>1</th>\n",
       "      <td>2</td>\n",
       "      <td>465</td>\n",
       "      <td>1 000 Places to See Before You Die</td>\n",
       "      <td>992</td>\n",
       "      <td>2003-05-22</td>\n",
       "      <td>336</td>\n",
       "    </tr>\n",
       "    <tr>\n",
       "      <th>2</th>\n",
       "      <td>3</td>\n",
       "      <td>407</td>\n",
       "      <td>13 Little Blue Envelopes (Little Blue Envelope...</td>\n",
       "      <td>322</td>\n",
       "      <td>2010-12-21</td>\n",
       "      <td>135</td>\n",
       "    </tr>\n",
       "    <tr>\n",
       "      <th>3</th>\n",
       "      <td>4</td>\n",
       "      <td>82</td>\n",
       "      <td>1491: New Revelations of the Americas Before C...</td>\n",
       "      <td>541</td>\n",
       "      <td>2006-10-10</td>\n",
       "      <td>309</td>\n",
       "    </tr>\n",
       "    <tr>\n",
       "      <th>4</th>\n",
       "      <td>5</td>\n",
       "      <td>125</td>\n",
       "      <td>1776</td>\n",
       "      <td>386</td>\n",
       "      <td>2006-07-04</td>\n",
       "      <td>268</td>\n",
       "    </tr>\n",
       "  </tbody>\n",
       "</table>\n",
       "</div>"
      ],
      "text/plain": [
       "   book_id  author_id                                              title  \\\n",
       "0        1        546                                       'Salem's Lot   \n",
       "1        2        465                 1 000 Places to See Before You Die   \n",
       "2        3        407  13 Little Blue Envelopes (Little Blue Envelope...   \n",
       "3        4         82  1491: New Revelations of the Americas Before C...   \n",
       "4        5        125                                               1776   \n",
       "\n",
       "   num_pages publication_date  publisher_id  \n",
       "0        594       2005-11-01            93  \n",
       "1        992       2003-05-22           336  \n",
       "2        322       2010-12-21           135  \n",
       "3        541       2006-10-10           309  \n",
       "4        386       2006-07-04           268  "
      ]
     },
     "execution_count": 4,
     "metadata": {},
     "output_type": "execute_result"
    }
   ],
   "source": [
    "query = '''\n",
    "            SELECT * \n",
    "            FROM books\n",
    "            LIMIT (5)\n",
    "        '''\n",
    "pd.io.sql.read_sql(sql=text(query), con = con)"
   ]
  },
  {
   "cell_type": "code",
   "execution_count": 5,
   "id": "9a1d9f33",
   "metadata": {},
   "outputs": [
    {
     "data": {
      "text/html": [
       "<div>\n",
       "<style scoped>\n",
       "    .dataframe tbody tr th:only-of-type {\n",
       "        vertical-align: middle;\n",
       "    }\n",
       "\n",
       "    .dataframe tbody tr th {\n",
       "        vertical-align: top;\n",
       "    }\n",
       "\n",
       "    .dataframe thead th {\n",
       "        text-align: right;\n",
       "    }\n",
       "</style>\n",
       "<table border=\"1\" class=\"dataframe\">\n",
       "  <thead>\n",
       "    <tr style=\"text-align: right;\">\n",
       "      <th></th>\n",
       "      <th>count</th>\n",
       "    </tr>\n",
       "  </thead>\n",
       "  <tbody>\n",
       "    <tr>\n",
       "      <th>0</th>\n",
       "      <td>1000</td>\n",
       "    </tr>\n",
       "  </tbody>\n",
       "</table>\n",
       "</div>"
      ],
      "text/plain": [
       "   count\n",
       "0   1000"
      ]
     },
     "execution_count": 5,
     "metadata": {},
     "output_type": "execute_result"
    }
   ],
   "source": [
    "query = '''\n",
    "            SELECT count(*) \n",
    "            FROM books\n",
    "        '''\n",
    "pd.io.sql.read_sql(sql=text(query), con = con)"
   ]
  },
  {
   "cell_type": "markdown",
   "id": "7410fdeb",
   "metadata": {},
   "source": [
    "В таблице `books` 1000 строк. Содержит id книги, id автора, название книги, кол-во страниц, дата публикации и id издателя."
   ]
  },
  {
   "cell_type": "markdown",
   "id": "da4c7b8a",
   "metadata": {},
   "source": [
    "### Таблица authors"
   ]
  },
  {
   "cell_type": "code",
   "execution_count": 6,
   "id": "1980494f",
   "metadata": {},
   "outputs": [
    {
     "data": {
      "text/html": [
       "<div>\n",
       "<style scoped>\n",
       "    .dataframe tbody tr th:only-of-type {\n",
       "        vertical-align: middle;\n",
       "    }\n",
       "\n",
       "    .dataframe tbody tr th {\n",
       "        vertical-align: top;\n",
       "    }\n",
       "\n",
       "    .dataframe thead th {\n",
       "        text-align: right;\n",
       "    }\n",
       "</style>\n",
       "<table border=\"1\" class=\"dataframe\">\n",
       "  <thead>\n",
       "    <tr style=\"text-align: right;\">\n",
       "      <th></th>\n",
       "      <th>author_id</th>\n",
       "      <th>author</th>\n",
       "    </tr>\n",
       "  </thead>\n",
       "  <tbody>\n",
       "    <tr>\n",
       "      <th>0</th>\n",
       "      <td>1</td>\n",
       "      <td>A.S. Byatt</td>\n",
       "    </tr>\n",
       "    <tr>\n",
       "      <th>1</th>\n",
       "      <td>2</td>\n",
       "      <td>Aesop/Laura Harris/Laura Gibbs</td>\n",
       "    </tr>\n",
       "    <tr>\n",
       "      <th>2</th>\n",
       "      <td>3</td>\n",
       "      <td>Agatha Christie</td>\n",
       "    </tr>\n",
       "    <tr>\n",
       "      <th>3</th>\n",
       "      <td>4</td>\n",
       "      <td>Alan Brennert</td>\n",
       "    </tr>\n",
       "    <tr>\n",
       "      <th>4</th>\n",
       "      <td>5</td>\n",
       "      <td>Alan Moore/David   Lloyd</td>\n",
       "    </tr>\n",
       "  </tbody>\n",
       "</table>\n",
       "</div>"
      ],
      "text/plain": [
       "   author_id                          author\n",
       "0          1                      A.S. Byatt\n",
       "1          2  Aesop/Laura Harris/Laura Gibbs\n",
       "2          3                 Agatha Christie\n",
       "3          4                   Alan Brennert\n",
       "4          5        Alan Moore/David   Lloyd"
      ]
     },
     "execution_count": 6,
     "metadata": {},
     "output_type": "execute_result"
    }
   ],
   "source": [
    "query = '''\n",
    "            SELECT * \n",
    "            FROM authors\n",
    "            LIMIT(5)\n",
    "        '''\n",
    "pd.io.sql.read_sql(sql=text(query), con = con)"
   ]
  },
  {
   "cell_type": "code",
   "execution_count": 7,
   "id": "e25f789b",
   "metadata": {},
   "outputs": [
    {
     "data": {
      "text/html": [
       "<div>\n",
       "<style scoped>\n",
       "    .dataframe tbody tr th:only-of-type {\n",
       "        vertical-align: middle;\n",
       "    }\n",
       "\n",
       "    .dataframe tbody tr th {\n",
       "        vertical-align: top;\n",
       "    }\n",
       "\n",
       "    .dataframe thead th {\n",
       "        text-align: right;\n",
       "    }\n",
       "</style>\n",
       "<table border=\"1\" class=\"dataframe\">\n",
       "  <thead>\n",
       "    <tr style=\"text-align: right;\">\n",
       "      <th></th>\n",
       "      <th>count</th>\n",
       "    </tr>\n",
       "  </thead>\n",
       "  <tbody>\n",
       "    <tr>\n",
       "      <th>0</th>\n",
       "      <td>636</td>\n",
       "    </tr>\n",
       "  </tbody>\n",
       "</table>\n",
       "</div>"
      ],
      "text/plain": [
       "   count\n",
       "0    636"
      ]
     },
     "execution_count": 7,
     "metadata": {},
     "output_type": "execute_result"
    }
   ],
   "source": [
    "query = '''\n",
    "            SELECT count(*) \n",
    "            FROM authors\n",
    "        '''\n",
    "pd.io.sql.read_sql(sql=text(query), con = con)"
   ]
  },
  {
   "cell_type": "markdown",
   "id": "6577a591",
   "metadata": {},
   "source": [
    "В таблице authors 636 строк, содержит id автора и данные автора."
   ]
  },
  {
   "cell_type": "markdown",
   "id": "e3dd1566",
   "metadata": {},
   "source": [
    "### Таблица publishers"
   ]
  },
  {
   "cell_type": "code",
   "execution_count": 8,
   "id": "f7bc6b1b",
   "metadata": {},
   "outputs": [
    {
     "data": {
      "text/html": [
       "<div>\n",
       "<style scoped>\n",
       "    .dataframe tbody tr th:only-of-type {\n",
       "        vertical-align: middle;\n",
       "    }\n",
       "\n",
       "    .dataframe tbody tr th {\n",
       "        vertical-align: top;\n",
       "    }\n",
       "\n",
       "    .dataframe thead th {\n",
       "        text-align: right;\n",
       "    }\n",
       "</style>\n",
       "<table border=\"1\" class=\"dataframe\">\n",
       "  <thead>\n",
       "    <tr style=\"text-align: right;\">\n",
       "      <th></th>\n",
       "      <th>publisher_id</th>\n",
       "      <th>publisher</th>\n",
       "    </tr>\n",
       "  </thead>\n",
       "  <tbody>\n",
       "    <tr>\n",
       "      <th>0</th>\n",
       "      <td>1</td>\n",
       "      <td>Ace</td>\n",
       "    </tr>\n",
       "    <tr>\n",
       "      <th>1</th>\n",
       "      <td>2</td>\n",
       "      <td>Ace Book</td>\n",
       "    </tr>\n",
       "    <tr>\n",
       "      <th>2</th>\n",
       "      <td>3</td>\n",
       "      <td>Ace Books</td>\n",
       "    </tr>\n",
       "    <tr>\n",
       "      <th>3</th>\n",
       "      <td>4</td>\n",
       "      <td>Ace Hardcover</td>\n",
       "    </tr>\n",
       "    <tr>\n",
       "      <th>4</th>\n",
       "      <td>5</td>\n",
       "      <td>Addison Wesley Publishing Company</td>\n",
       "    </tr>\n",
       "  </tbody>\n",
       "</table>\n",
       "</div>"
      ],
      "text/plain": [
       "   publisher_id                          publisher\n",
       "0             1                                Ace\n",
       "1             2                           Ace Book\n",
       "2             3                          Ace Books\n",
       "3             4                      Ace Hardcover\n",
       "4             5  Addison Wesley Publishing Company"
      ]
     },
     "execution_count": 8,
     "metadata": {},
     "output_type": "execute_result"
    }
   ],
   "source": [
    "query = '''\n",
    "            SELECT * \n",
    "            FROM publishers\n",
    "            LIMIT(5)\n",
    "        '''\n",
    "pd.io.sql.read_sql(sql=text(query), con = con)\n"
   ]
  },
  {
   "cell_type": "code",
   "execution_count": 9,
   "id": "ceca3396",
   "metadata": {},
   "outputs": [
    {
     "data": {
      "text/html": [
       "<div>\n",
       "<style scoped>\n",
       "    .dataframe tbody tr th:only-of-type {\n",
       "        vertical-align: middle;\n",
       "    }\n",
       "\n",
       "    .dataframe tbody tr th {\n",
       "        vertical-align: top;\n",
       "    }\n",
       "\n",
       "    .dataframe thead th {\n",
       "        text-align: right;\n",
       "    }\n",
       "</style>\n",
       "<table border=\"1\" class=\"dataframe\">\n",
       "  <thead>\n",
       "    <tr style=\"text-align: right;\">\n",
       "      <th></th>\n",
       "      <th>count</th>\n",
       "    </tr>\n",
       "  </thead>\n",
       "  <tbody>\n",
       "    <tr>\n",
       "      <th>0</th>\n",
       "      <td>340</td>\n",
       "    </tr>\n",
       "  </tbody>\n",
       "</table>\n",
       "</div>"
      ],
      "text/plain": [
       "   count\n",
       "0    340"
      ]
     },
     "execution_count": 9,
     "metadata": {},
     "output_type": "execute_result"
    }
   ],
   "source": [
    "query = '''\n",
    "            SELECT count(*) \n",
    "            FROM publishers\n",
    "        '''\n",
    "pd.io.sql.read_sql(sql=text(query), con = con)"
   ]
  },
  {
   "cell_type": "markdown",
   "id": "e4bc8ac2",
   "metadata": {},
   "source": [
    "Датасет содержит 340 строк, также информацию об издателе и его id номера."
   ]
  },
  {
   "cell_type": "markdown",
   "id": "b3abbd95",
   "metadata": {},
   "source": [
    "### Таблица ratings"
   ]
  },
  {
   "cell_type": "code",
   "execution_count": 10,
   "id": "f0660fd2",
   "metadata": {},
   "outputs": [
    {
     "data": {
      "text/html": [
       "<div>\n",
       "<style scoped>\n",
       "    .dataframe tbody tr th:only-of-type {\n",
       "        vertical-align: middle;\n",
       "    }\n",
       "\n",
       "    .dataframe tbody tr th {\n",
       "        vertical-align: top;\n",
       "    }\n",
       "\n",
       "    .dataframe thead th {\n",
       "        text-align: right;\n",
       "    }\n",
       "</style>\n",
       "<table border=\"1\" class=\"dataframe\">\n",
       "  <thead>\n",
       "    <tr style=\"text-align: right;\">\n",
       "      <th></th>\n",
       "      <th>rating_id</th>\n",
       "      <th>book_id</th>\n",
       "      <th>username</th>\n",
       "      <th>rating</th>\n",
       "    </tr>\n",
       "  </thead>\n",
       "  <tbody>\n",
       "    <tr>\n",
       "      <th>0</th>\n",
       "      <td>1</td>\n",
       "      <td>1</td>\n",
       "      <td>ryanfranco</td>\n",
       "      <td>4</td>\n",
       "    </tr>\n",
       "    <tr>\n",
       "      <th>1</th>\n",
       "      <td>2</td>\n",
       "      <td>1</td>\n",
       "      <td>grantpatricia</td>\n",
       "      <td>2</td>\n",
       "    </tr>\n",
       "    <tr>\n",
       "      <th>2</th>\n",
       "      <td>3</td>\n",
       "      <td>1</td>\n",
       "      <td>brandtandrea</td>\n",
       "      <td>5</td>\n",
       "    </tr>\n",
       "    <tr>\n",
       "      <th>3</th>\n",
       "      <td>4</td>\n",
       "      <td>2</td>\n",
       "      <td>lorichen</td>\n",
       "      <td>3</td>\n",
       "    </tr>\n",
       "    <tr>\n",
       "      <th>4</th>\n",
       "      <td>5</td>\n",
       "      <td>2</td>\n",
       "      <td>mariokeller</td>\n",
       "      <td>2</td>\n",
       "    </tr>\n",
       "  </tbody>\n",
       "</table>\n",
       "</div>"
      ],
      "text/plain": [
       "   rating_id  book_id       username  rating\n",
       "0          1        1     ryanfranco       4\n",
       "1          2        1  grantpatricia       2\n",
       "2          3        1   brandtandrea       5\n",
       "3          4        2       lorichen       3\n",
       "4          5        2    mariokeller       2"
      ]
     },
     "execution_count": 10,
     "metadata": {},
     "output_type": "execute_result"
    }
   ],
   "source": [
    "query = '''\n",
    "            SELECT * \n",
    "            FROM ratings\n",
    "            LIMIT(5)\n",
    "        '''\n",
    "pd.io.sql.read_sql(sql=text(query), con = con)"
   ]
  },
  {
   "cell_type": "code",
   "execution_count": 11,
   "id": "58eb1907",
   "metadata": {},
   "outputs": [
    {
     "data": {
      "text/html": [
       "<div>\n",
       "<style scoped>\n",
       "    .dataframe tbody tr th:only-of-type {\n",
       "        vertical-align: middle;\n",
       "    }\n",
       "\n",
       "    .dataframe tbody tr th {\n",
       "        vertical-align: top;\n",
       "    }\n",
       "\n",
       "    .dataframe thead th {\n",
       "        text-align: right;\n",
       "    }\n",
       "</style>\n",
       "<table border=\"1\" class=\"dataframe\">\n",
       "  <thead>\n",
       "    <tr style=\"text-align: right;\">\n",
       "      <th></th>\n",
       "      <th>count</th>\n",
       "    </tr>\n",
       "  </thead>\n",
       "  <tbody>\n",
       "    <tr>\n",
       "      <th>0</th>\n",
       "      <td>6456</td>\n",
       "    </tr>\n",
       "  </tbody>\n",
       "</table>\n",
       "</div>"
      ],
      "text/plain": [
       "   count\n",
       "0   6456"
      ]
     },
     "execution_count": 11,
     "metadata": {},
     "output_type": "execute_result"
    }
   ],
   "source": [
    "query = '''\n",
    "            SELECT count(*) \n",
    "            FROM ratings\n",
    "        '''\n",
    "pd.io.sql.read_sql(sql=text(query), con = con)"
   ]
  },
  {
   "cell_type": "markdown",
   "id": "5a8bebe3",
   "metadata": {},
   "source": [
    "В датасете 6456 строк, содержит информацию о id оценки,id книги,имя пользователя, оставившего оценку и оценку книги."
   ]
  },
  {
   "cell_type": "markdown",
   "id": "47c718ac",
   "metadata": {},
   "source": [
    "### Таблица reviews"
   ]
  },
  {
   "cell_type": "code",
   "execution_count": 12,
   "id": "faaddb4b",
   "metadata": {},
   "outputs": [
    {
     "data": {
      "text/html": [
       "<div>\n",
       "<style scoped>\n",
       "    .dataframe tbody tr th:only-of-type {\n",
       "        vertical-align: middle;\n",
       "    }\n",
       "\n",
       "    .dataframe tbody tr th {\n",
       "        vertical-align: top;\n",
       "    }\n",
       "\n",
       "    .dataframe thead th {\n",
       "        text-align: right;\n",
       "    }\n",
       "</style>\n",
       "<table border=\"1\" class=\"dataframe\">\n",
       "  <thead>\n",
       "    <tr style=\"text-align: right;\">\n",
       "      <th></th>\n",
       "      <th>review_id</th>\n",
       "      <th>book_id</th>\n",
       "      <th>username</th>\n",
       "      <th>text</th>\n",
       "    </tr>\n",
       "  </thead>\n",
       "  <tbody>\n",
       "    <tr>\n",
       "      <th>0</th>\n",
       "      <td>1</td>\n",
       "      <td>1</td>\n",
       "      <td>brandtandrea</td>\n",
       "      <td>Mention society tell send professor analysis. ...</td>\n",
       "    </tr>\n",
       "    <tr>\n",
       "      <th>1</th>\n",
       "      <td>2</td>\n",
       "      <td>1</td>\n",
       "      <td>ryanfranco</td>\n",
       "      <td>Foot glass pretty audience hit themselves. Amo...</td>\n",
       "    </tr>\n",
       "    <tr>\n",
       "      <th>2</th>\n",
       "      <td>3</td>\n",
       "      <td>2</td>\n",
       "      <td>lorichen</td>\n",
       "      <td>Listen treat keep worry. Miss husband tax but ...</td>\n",
       "    </tr>\n",
       "    <tr>\n",
       "      <th>3</th>\n",
       "      <td>4</td>\n",
       "      <td>3</td>\n",
       "      <td>johnsonamanda</td>\n",
       "      <td>Finally month interesting blue could nature cu...</td>\n",
       "    </tr>\n",
       "    <tr>\n",
       "      <th>4</th>\n",
       "      <td>5</td>\n",
       "      <td>3</td>\n",
       "      <td>scotttamara</td>\n",
       "      <td>Nation purpose heavy give wait song will. List...</td>\n",
       "    </tr>\n",
       "  </tbody>\n",
       "</table>\n",
       "</div>"
      ],
      "text/plain": [
       "   review_id  book_id       username  \\\n",
       "0          1        1   brandtandrea   \n",
       "1          2        1     ryanfranco   \n",
       "2          3        2       lorichen   \n",
       "3          4        3  johnsonamanda   \n",
       "4          5        3    scotttamara   \n",
       "\n",
       "                                                text  \n",
       "0  Mention society tell send professor analysis. ...  \n",
       "1  Foot glass pretty audience hit themselves. Amo...  \n",
       "2  Listen treat keep worry. Miss husband tax but ...  \n",
       "3  Finally month interesting blue could nature cu...  \n",
       "4  Nation purpose heavy give wait song will. List...  "
      ]
     },
     "execution_count": 12,
     "metadata": {},
     "output_type": "execute_result"
    }
   ],
   "source": [
    "query = '''\n",
    "            SELECT * \n",
    "            FROM reviews\n",
    "            LIMIT(5)\n",
    "        '''\n",
    "pd.io.sql.read_sql(sql=text(query), con = con)"
   ]
  },
  {
   "cell_type": "code",
   "execution_count": 13,
   "id": "c45aaa19",
   "metadata": {},
   "outputs": [
    {
     "data": {
      "text/html": [
       "<div>\n",
       "<style scoped>\n",
       "    .dataframe tbody tr th:only-of-type {\n",
       "        vertical-align: middle;\n",
       "    }\n",
       "\n",
       "    .dataframe tbody tr th {\n",
       "        vertical-align: top;\n",
       "    }\n",
       "\n",
       "    .dataframe thead th {\n",
       "        text-align: right;\n",
       "    }\n",
       "</style>\n",
       "<table border=\"1\" class=\"dataframe\">\n",
       "  <thead>\n",
       "    <tr style=\"text-align: right;\">\n",
       "      <th></th>\n",
       "      <th>count</th>\n",
       "    </tr>\n",
       "  </thead>\n",
       "  <tbody>\n",
       "    <tr>\n",
       "      <th>0</th>\n",
       "      <td>2793</td>\n",
       "    </tr>\n",
       "  </tbody>\n",
       "</table>\n",
       "</div>"
      ],
      "text/plain": [
       "   count\n",
       "0   2793"
      ]
     },
     "execution_count": 13,
     "metadata": {},
     "output_type": "execute_result"
    }
   ],
   "source": [
    "query = '''\n",
    "            SELECT count(*) \n",
    "            FROM reviews\n",
    "        '''\n",
    "pd.io.sql.read_sql(sql=text(query), con = con)"
   ]
  },
  {
   "cell_type": "markdown",
   "id": "04241aad",
   "metadata": {},
   "source": [
    "Датафрейм содержит 2793 строк, информацию об id обзора, id книги, имя пользователя, написавшего обзор и текст обзора."
   ]
  },
  {
   "cell_type": "markdown",
   "id": "320a5e82",
   "metadata": {},
   "source": [
    "## Cколько книг вышло после 1 января 2000 года"
   ]
  },
  {
   "cell_type": "code",
   "execution_count": 14,
   "id": "f44987a8",
   "metadata": {
    "scrolled": true
   },
   "outputs": [
    {
     "data": {
      "text/html": [
       "<div>\n",
       "<style scoped>\n",
       "    .dataframe tbody tr th:only-of-type {\n",
       "        vertical-align: middle;\n",
       "    }\n",
       "\n",
       "    .dataframe tbody tr th {\n",
       "        vertical-align: top;\n",
       "    }\n",
       "\n",
       "    .dataframe thead th {\n",
       "        text-align: right;\n",
       "    }\n",
       "</style>\n",
       "<table border=\"1\" class=\"dataframe\">\n",
       "  <thead>\n",
       "    <tr style=\"text-align: right;\">\n",
       "      <th></th>\n",
       "      <th>count_of_books</th>\n",
       "    </tr>\n",
       "  </thead>\n",
       "  <tbody>\n",
       "    <tr>\n",
       "      <th>0</th>\n",
       "      <td>819</td>\n",
       "    </tr>\n",
       "  </tbody>\n",
       "</table>\n",
       "</div>"
      ],
      "text/plain": [
       "   count_of_books\n",
       "0             819"
      ]
     },
     "execution_count": 14,
     "metadata": {},
     "output_type": "execute_result"
    }
   ],
   "source": [
    "query = '''\n",
    "            SELECT COUNT(book_id) count_of_books\n",
    "            FROM books \n",
    "            WHERE publication_date > '01-01-2000'\n",
    "        '''\n",
    "pd.io.sql.read_sql(sql=text(query), con = con)"
   ]
  },
  {
   "cell_type": "markdown",
   "id": "f44df1a8",
   "metadata": {},
   "source": [
    "После 1 января 2000 года вышло 819 книг."
   ]
  },
  {
   "cell_type": "markdown",
   "id": "35c2d87a",
   "metadata": {},
   "source": [
    "## Количество обзоров и среднюю оценку"
   ]
  },
  {
   "cell_type": "markdown",
   "id": "e3200f61",
   "metadata": {},
   "source": [
    "Для каждой книги посчитайте количество обзоров и среднюю оценку;"
   ]
  },
  {
   "cell_type": "code",
   "execution_count": 15,
   "id": "a2e020bb",
   "metadata": {},
   "outputs": [
    {
     "data": {
      "text/html": [
       "<div>\n",
       "<style scoped>\n",
       "    .dataframe tbody tr th:only-of-type {\n",
       "        vertical-align: middle;\n",
       "    }\n",
       "\n",
       "    .dataframe tbody tr th {\n",
       "        vertical-align: top;\n",
       "    }\n",
       "\n",
       "    .dataframe thead th {\n",
       "        text-align: right;\n",
       "    }\n",
       "</style>\n",
       "<table border=\"1\" class=\"dataframe\">\n",
       "  <thead>\n",
       "    <tr style=\"text-align: right;\">\n",
       "      <th></th>\n",
       "      <th>title</th>\n",
       "      <th>avg_rating</th>\n",
       "      <th>review_count</th>\n",
       "    </tr>\n",
       "  </thead>\n",
       "  <tbody>\n",
       "    <tr>\n",
       "      <th>0</th>\n",
       "      <td>Pop Goes the Weasel (Alex Cross  #5)</td>\n",
       "      <td>5.00</td>\n",
       "      <td>2.0</td>\n",
       "    </tr>\n",
       "    <tr>\n",
       "      <th>1</th>\n",
       "      <td>The Ghost Map: The Story of London's Most Terrifying Epidemic—and How It Changed Science  Cities  and the Modern World</td>\n",
       "      <td>5.00</td>\n",
       "      <td>2.0</td>\n",
       "    </tr>\n",
       "    <tr>\n",
       "      <th>2</th>\n",
       "      <td>In the Hand of the Goddess (Song of the Lioness  #2)</td>\n",
       "      <td>5.00</td>\n",
       "      <td>2.0</td>\n",
       "    </tr>\n",
       "    <tr>\n",
       "      <th>3</th>\n",
       "      <td>Tai-Pan (Asian Saga  #2)</td>\n",
       "      <td>5.00</td>\n",
       "      <td>2.0</td>\n",
       "    </tr>\n",
       "    <tr>\n",
       "      <th>4</th>\n",
       "      <td>How to Be a Domestic Goddess: Baking and the Art of Comfort Cooking</td>\n",
       "      <td>5.00</td>\n",
       "      <td>1.0</td>\n",
       "    </tr>\n",
       "    <tr>\n",
       "      <th>...</th>\n",
       "      <td>...</td>\n",
       "      <td>...</td>\n",
       "      <td>...</td>\n",
       "    </tr>\n",
       "    <tr>\n",
       "      <th>995</th>\n",
       "      <td>The World Is Flat: A Brief History of the Twenty-first Century</td>\n",
       "      <td>2.25</td>\n",
       "      <td>3.0</td>\n",
       "    </tr>\n",
       "    <tr>\n",
       "      <th>996</th>\n",
       "      <td>Junky</td>\n",
       "      <td>2.00</td>\n",
       "      <td>2.0</td>\n",
       "    </tr>\n",
       "    <tr>\n",
       "      <th>997</th>\n",
       "      <td>His Excellency: George Washington</td>\n",
       "      <td>2.00</td>\n",
       "      <td>2.0</td>\n",
       "    </tr>\n",
       "    <tr>\n",
       "      <th>998</th>\n",
       "      <td>Drowning Ruth</td>\n",
       "      <td>2.00</td>\n",
       "      <td>3.0</td>\n",
       "    </tr>\n",
       "    <tr>\n",
       "      <th>999</th>\n",
       "      <td>Harvesting the Heart</td>\n",
       "      <td>1.50</td>\n",
       "      <td>2.0</td>\n",
       "    </tr>\n",
       "  </tbody>\n",
       "</table>\n",
       "<p>1000 rows × 3 columns</p>\n",
       "</div>"
      ],
      "text/plain": [
       "                                                                                                                      title  avg_rating  review_count\n",
       "0                                                                                      Pop Goes the Weasel (Alex Cross  #5)        5.00           2.0\n",
       "1    The Ghost Map: The Story of London's Most Terrifying Epidemic—and How It Changed Science  Cities  and the Modern World        5.00           2.0\n",
       "2                                                                      In the Hand of the Goddess (Song of the Lioness  #2)        5.00           2.0\n",
       "3                                                                                                  Tai-Pan (Asian Saga  #2)        5.00           2.0\n",
       "4                                                       How to Be a Domestic Goddess: Baking and the Art of Comfort Cooking        5.00           1.0\n",
       "..                                                                                                                      ...         ...           ...\n",
       "995                                                          The World Is Flat: A Brief History of the Twenty-first Century        2.25           3.0\n",
       "996                                                                                                                   Junky        2.00           2.0\n",
       "997                                                                                       His Excellency: George Washington        2.00           2.0\n",
       "998                                                                                                           Drowning Ruth        2.00           3.0\n",
       "999                                                                                                    Harvesting the Heart        1.50           2.0\n",
       "\n",
       "[1000 rows x 3 columns]"
      ]
     },
     "execution_count": 15,
     "metadata": {},
     "output_type": "execute_result"
    }
   ],
   "source": [
    "pd.set_option('max_colwidth', 200)\n",
    "pd.set_option('display.width', 300)\n",
    "query = '''\n",
    "            SELECT b.title, rat.avg_rating, rev.review_count\n",
    "            FROM books b\n",
    "            LEFT JOIN \n",
    "            (SELECT book_id, AVG(rating) avg_rating \n",
    "            FROM ratings \n",
    "            GROUP BY book_id) rat ON b.book_id=rat.book_id\n",
    "            LEFT JOIN \n",
    "            (SELECT book_id, \n",
    "            COUNT(*) review_count \n",
    "            FROM reviews \n",
    "            GROUP BY book_id) rev ON b.book_id=rev.book_id\n",
    "            ORDER BY avg_rating DESC\n",
    "        '''\n",
    "pd.io.sql.read_sql(sql=text(query), con = con)"
   ]
  },
  {
   "cell_type": "markdown",
   "id": "415388f4",
   "metadata": {},
   "source": [
    "По таблице видно, что наименьший рейтинг у книг 1.5, высший бал - 5.0. Также в среднем книги имеют по несколько отзывов.\n",
    "Наиболее высокую оценку получили книги: \n",
    "- Pop Goes the Weasel (Alex Cross #5)\n",
    "- The Ghost Map: The Story of London's Most Terrifying Epidemic—and How It Changed Science Cities and the Modern World\n",
    "- In the Hand of the Goddess (Song of the Lioness #2)\t\n",
    "- Tai-Pan (Asian Saga #2)"
   ]
  },
  {
   "cell_type": "markdown",
   "id": "cbc9c5e5",
   "metadata": {},
   "source": [
    "## Определение издательства, которое выпустило наибольшее число книг толще 50 страниц"
   ]
  },
  {
   "cell_type": "markdown",
   "id": "5acec212",
   "metadata": {},
   "source": [
    "Определите издательство, которое выпустило наибольшее число книг толще 50 страниц — так вы исключите из анализа брошюры;"
   ]
  },
  {
   "cell_type": "code",
   "execution_count": 16,
   "id": "08a92e32",
   "metadata": {},
   "outputs": [
    {
     "data": {
      "text/html": [
       "<div>\n",
       "<style scoped>\n",
       "    .dataframe tbody tr th:only-of-type {\n",
       "        vertical-align: middle;\n",
       "    }\n",
       "\n",
       "    .dataframe tbody tr th {\n",
       "        vertical-align: top;\n",
       "    }\n",
       "\n",
       "    .dataframe thead th {\n",
       "        text-align: right;\n",
       "    }\n",
       "</style>\n",
       "<table border=\"1\" class=\"dataframe\">\n",
       "  <thead>\n",
       "    <tr style=\"text-align: right;\">\n",
       "      <th></th>\n",
       "      <th>publisher_id</th>\n",
       "      <th>publisher</th>\n",
       "      <th>count_books</th>\n",
       "    </tr>\n",
       "  </thead>\n",
       "  <tbody>\n",
       "    <tr>\n",
       "      <th>0</th>\n",
       "      <td>212</td>\n",
       "      <td>Penguin Books</td>\n",
       "      <td>42</td>\n",
       "    </tr>\n",
       "  </tbody>\n",
       "</table>\n",
       "</div>"
      ],
      "text/plain": [
       "   publisher_id      publisher  count_books\n",
       "0           212  Penguin Books           42"
      ]
     },
     "execution_count": 16,
     "metadata": {},
     "output_type": "execute_result"
    }
   ],
   "source": [
    "query = '''\n",
    "            SELECT b.publisher_id, p.publisher, \n",
    "            COUNT(*) count_books\n",
    "            FROM books b\n",
    "            LEFT JOIN publishers p ON b.publisher_id = p.publisher_id\n",
    "            WHERE num_pages > 50\n",
    "            GROUP BY b.publisher_id, p.publisher\n",
    "            ORDER BY COUNT(*) DESC\n",
    "            LIMIT 1\n",
    "        '''\n",
    "pd.io.sql.read_sql(sql=text(query), con = con)"
   ]
  },
  {
   "cell_type": "markdown",
   "id": "6c8efaad",
   "metadata": {},
   "source": [
    "Издательство `Penguin Books` выпустило 42 книги толще 50 страниц."
   ]
  },
  {
   "cell_type": "markdown",
   "id": "2aa94eb0",
   "metadata": {},
   "source": [
    "## Определение автора с самой высокой средней оценкой книг"
   ]
  },
  {
   "cell_type": "markdown",
   "id": "bd535c47",
   "metadata": {},
   "source": [
    "Определите автора с самой высокой средней оценкой книг — учитывайте только книги с 50 и более оценками;"
   ]
  },
  {
   "cell_type": "code",
   "execution_count": 17,
   "id": "2f7f9a8c",
   "metadata": {},
   "outputs": [
    {
     "data": {
      "text/html": [
       "<div>\n",
       "<style scoped>\n",
       "    .dataframe tbody tr th:only-of-type {\n",
       "        vertical-align: middle;\n",
       "    }\n",
       "\n",
       "    .dataframe tbody tr th {\n",
       "        vertical-align: top;\n",
       "    }\n",
       "\n",
       "    .dataframe thead th {\n",
       "        text-align: right;\n",
       "    }\n",
       "</style>\n",
       "<table border=\"1\" class=\"dataframe\">\n",
       "  <thead>\n",
       "    <tr style=\"text-align: right;\">\n",
       "      <th></th>\n",
       "      <th>author</th>\n",
       "      <th>avg</th>\n",
       "    </tr>\n",
       "  </thead>\n",
       "  <tbody>\n",
       "    <tr>\n",
       "      <th>0</th>\n",
       "      <td>J.K. Rowling/Mary GrandPré</td>\n",
       "      <td>4.283844</td>\n",
       "    </tr>\n",
       "    <tr>\n",
       "      <th>1</th>\n",
       "      <td>Markus Zusak/Cao Xuân Việt Khương</td>\n",
       "      <td>4.264151</td>\n",
       "    </tr>\n",
       "    <tr>\n",
       "      <th>2</th>\n",
       "      <td>J.R.R. Tolkien</td>\n",
       "      <td>4.258446</td>\n",
       "    </tr>\n",
       "    <tr>\n",
       "      <th>3</th>\n",
       "      <td>Louisa May Alcott</td>\n",
       "      <td>4.192308</td>\n",
       "    </tr>\n",
       "    <tr>\n",
       "      <th>4</th>\n",
       "      <td>Rick Riordan</td>\n",
       "      <td>4.080645</td>\n",
       "    </tr>\n",
       "  </tbody>\n",
       "</table>\n",
       "</div>"
      ],
      "text/plain": [
       "                              author       avg\n",
       "0         J.K. Rowling/Mary GrandPré  4.283844\n",
       "1  Markus Zusak/Cao Xuân Việt Khương  4.264151\n",
       "2                     J.R.R. Tolkien  4.258446\n",
       "3                  Louisa May Alcott  4.192308\n",
       "4                       Rick Riordan  4.080645"
      ]
     },
     "execution_count": 17,
     "metadata": {},
     "output_type": "execute_result"
    }
   ],
   "source": [
    "query = '''\n",
    "            SELECT a.author, \n",
    "            AVG(ratings)\n",
    "            FROM (\n",
    "            SELECT book_id, AVG(rating) ratings\n",
    "            FROM ratings\n",
    "            GROUP BY book_id\n",
    "            HAVING COUNT(*) > 50\n",
    "            ) r\n",
    "            JOIN (SELECT book_id, author_id FROM books) b ON r.book_id=b.book_id\n",
    "            JOIN (SELECT author_id, author FROM authors) a ON b.author_id=a.author_id\n",
    "            GROUP BY a.author\n",
    "            ORDER BY avg(ratings) DESC\n",
    "            LIMIT 5\n",
    "            \n",
    "        '''\n",
    "pd.io.sql.read_sql(sql=text(query), con = con)"
   ]
  },
  {
   "cell_type": "markdown",
   "id": "963bcc25",
   "metadata": {},
   "source": [
    "Наиболее высокие оценки у авторов J.K. Rowling/Mary GrandPré."
   ]
  },
  {
   "cell_type": "markdown",
   "id": "0784fd20",
   "metadata": {},
   "source": [
    "## Cреднее количество обзоров от пользователей, которые поставили больше 48 оценок."
   ]
  },
  {
   "cell_type": "markdown",
   "id": "dd4bb79d",
   "metadata": {},
   "source": [
    "Посчитайте среднее количество обзоров от пользователей, которые поставили больше 48 оценок."
   ]
  },
  {
   "cell_type": "code",
   "execution_count": 18,
   "id": "f1e7fa38",
   "metadata": {},
   "outputs": [
    {
     "data": {
      "text/html": [
       "<div>\n",
       "<style scoped>\n",
       "    .dataframe tbody tr th:only-of-type {\n",
       "        vertical-align: middle;\n",
       "    }\n",
       "\n",
       "    .dataframe tbody tr th {\n",
       "        vertical-align: top;\n",
       "    }\n",
       "\n",
       "    .dataframe thead th {\n",
       "        text-align: right;\n",
       "    }\n",
       "</style>\n",
       "<table border=\"1\" class=\"dataframe\">\n",
       "  <thead>\n",
       "    <tr style=\"text-align: right;\">\n",
       "      <th></th>\n",
       "      <th>avg</th>\n",
       "    </tr>\n",
       "  </thead>\n",
       "  <tbody>\n",
       "    <tr>\n",
       "      <th>0</th>\n",
       "      <td>24.0</td>\n",
       "    </tr>\n",
       "  </tbody>\n",
       "</table>\n",
       "</div>"
      ],
      "text/plain": [
       "    avg\n",
       "0  24.0"
      ]
     },
     "execution_count": 18,
     "metadata": {},
     "output_type": "execute_result"
    }
   ],
   "source": [
    "query = '''\n",
    "            SELECT AVG(count_reviews)\n",
    "            FROM (\n",
    "            SELECT username, COUNT(*) count_reviews\n",
    "            FROM reviews\n",
    "            WHERE username IN\n",
    "            (\n",
    "            SELECT username--, COUNT(*)\n",
    "            FROM ratings\n",
    "            GROUP BY username\n",
    "            HAVING COUNT(*) > 48\n",
    "            )\n",
    "            GROUP BY username) rev\n",
    "        \n",
    "\n",
    "        '''\n",
    "pd.io.sql.read_sql(sql=text(query), con = con)"
   ]
  },
  {
   "cell_type": "markdown",
   "id": "8bcbca74",
   "metadata": {},
   "source": [
    "Среднее кол-во пользователей, которые поставили больше 48 оценок - 24 пользователя."
   ]
  },
  {
   "cell_type": "markdown",
   "id": "26628a8d",
   "metadata": {},
   "source": [
    "## Доп.задания"
   ]
  },
  {
   "cell_type": "markdown",
   "id": "5da4d021",
   "metadata": {},
   "source": [
    "Выведите таблицу, которая будет содержать по году публикации:\n",
    "\n",
    "- количество издательств,\n",
    "\n",
    "- выпущенных книг и\n",
    "\n",
    "- сколько всего тысяч страниц было в изданных книгах\n",
    "\n",
    "(отобразить только те года, в которых издано более 30 книг)\n",
    "\n"
   ]
  },
  {
   "cell_type": "code",
   "execution_count": 19,
   "id": "bc104da2",
   "metadata": {},
   "outputs": [
    {
     "data": {
      "text/html": [
       "<div>\n",
       "<style scoped>\n",
       "    .dataframe tbody tr th:only-of-type {\n",
       "        vertical-align: middle;\n",
       "    }\n",
       "\n",
       "    .dataframe tbody tr th {\n",
       "        vertical-align: top;\n",
       "    }\n",
       "\n",
       "    .dataframe thead th {\n",
       "        text-align: right;\n",
       "    }\n",
       "</style>\n",
       "<table border=\"1\" class=\"dataframe\">\n",
       "  <thead>\n",
       "    <tr style=\"text-align: right;\">\n",
       "      <th></th>\n",
       "      <th>year</th>\n",
       "      <th>count_publisher</th>\n",
       "      <th>count_books</th>\n",
       "      <th>sum</th>\n",
       "    </tr>\n",
       "  </thead>\n",
       "  <tbody>\n",
       "    <tr>\n",
       "      <th>0</th>\n",
       "      <td>1999</td>\n",
       "      <td>26</td>\n",
       "      <td>41</td>\n",
       "      <td>15763</td>\n",
       "    </tr>\n",
       "    <tr>\n",
       "      <th>1</th>\n",
       "      <td>2000</td>\n",
       "      <td>35</td>\n",
       "      <td>38</td>\n",
       "      <td>13328</td>\n",
       "    </tr>\n",
       "    <tr>\n",
       "      <th>2</th>\n",
       "      <td>2001</td>\n",
       "      <td>41</td>\n",
       "      <td>60</td>\n",
       "      <td>21758</td>\n",
       "    </tr>\n",
       "    <tr>\n",
       "      <th>3</th>\n",
       "      <td>2002</td>\n",
       "      <td>62</td>\n",
       "      <td>94</td>\n",
       "      <td>38597</td>\n",
       "    </tr>\n",
       "    <tr>\n",
       "      <th>4</th>\n",
       "      <td>2003</td>\n",
       "      <td>65</td>\n",
       "      <td>105</td>\n",
       "      <td>41423</td>\n",
       "    </tr>\n",
       "    <tr>\n",
       "      <th>5</th>\n",
       "      <td>2004</td>\n",
       "      <td>88</td>\n",
       "      <td>124</td>\n",
       "      <td>46779</td>\n",
       "    </tr>\n",
       "    <tr>\n",
       "      <th>6</th>\n",
       "      <td>2005</td>\n",
       "      <td>89</td>\n",
       "      <td>139</td>\n",
       "      <td>55967</td>\n",
       "    </tr>\n",
       "    <tr>\n",
       "      <th>7</th>\n",
       "      <td>2006</td>\n",
       "      <td>109</td>\n",
       "      <td>184</td>\n",
       "      <td>68302</td>\n",
       "    </tr>\n",
       "    <tr>\n",
       "      <th>8</th>\n",
       "      <td>2007</td>\n",
       "      <td>38</td>\n",
       "      <td>50</td>\n",
       "      <td>18258</td>\n",
       "    </tr>\n",
       "  </tbody>\n",
       "</table>\n",
       "</div>"
      ],
      "text/plain": [
       "   year  count_publisher  count_books    sum\n",
       "0  1999               26           41  15763\n",
       "1  2000               35           38  13328\n",
       "2  2001               41           60  21758\n",
       "3  2002               62           94  38597\n",
       "4  2003               65          105  41423\n",
       "5  2004               88          124  46779\n",
       "6  2005               89          139  55967\n",
       "7  2006              109          184  68302\n",
       "8  2007               38           50  18258"
      ]
     },
     "execution_count": 19,
     "metadata": {},
     "output_type": "execute_result"
    }
   ],
   "source": [
    "query = '''\n",
    "            SELECT \n",
    "            CAST(EXTRACT(YEAR FROM publication_date) AS int) AS year,\n",
    "            COUNT (DISTINCT(publisher_id)) count_publisher,\n",
    "            COUNT(book_id) count_books,\n",
    "            SUM(num_pages)\n",
    "            FROM books \n",
    "            GROUP BY year\n",
    "            HAVING COUNT(book_id) > 30;\n",
    "        '''\n",
    "pd.io.sql.read_sql(sql=text(query), con = con)"
   ]
  },
  {
   "cell_type": "markdown",
   "id": "c072bcd8",
   "metadata": {},
   "source": [
    "Выведите в одной таблице два числа — среднюю оценку тех книг, на которые написало отзывов более 3 человек и отдельно среднюю оценку остальных книг, сделайте выводы какой рейтинг больше\n"
   ]
  },
  {
   "cell_type": "code",
   "execution_count": 20,
   "id": "4874b7cc",
   "metadata": {},
   "outputs": [
    {
     "data": {
      "text/html": [
       "<div>\n",
       "<style scoped>\n",
       "    .dataframe tbody tr th:only-of-type {\n",
       "        vertical-align: middle;\n",
       "    }\n",
       "\n",
       "    .dataframe tbody tr th {\n",
       "        vertical-align: top;\n",
       "    }\n",
       "\n",
       "    .dataframe thead th {\n",
       "        text-align: right;\n",
       "    }\n",
       "</style>\n",
       "<table border=\"1\" class=\"dataframe\">\n",
       "  <thead>\n",
       "    <tr style=\"text-align: right;\">\n",
       "      <th></th>\n",
       "      <th>avg_rating_3_reviews</th>\n",
       "      <th>avg_rating_other</th>\n",
       "    </tr>\n",
       "  </thead>\n",
       "  <tbody>\n",
       "    <tr>\n",
       "      <th>0</th>\n",
       "      <td>3.949505</td>\n",
       "      <td>3.906279</td>\n",
       "    </tr>\n",
       "  </tbody>\n",
       "</table>\n",
       "</div>"
      ],
      "text/plain": [
       "   avg_rating_3_reviews  avg_rating_other\n",
       "0              3.949505          3.906279"
      ]
     },
     "execution_count": 20,
     "metadata": {},
     "output_type": "execute_result"
    }
   ],
   "source": [
    "query = '''\n",
    "SELECT\n",
    "    (SELECT AVG(rating) \n",
    "     FROM ratings \n",
    "     WHERE book_id IN (\n",
    "         SELECT book_id \n",
    "         FROM reviews \n",
    "         GROUP BY book_id \n",
    "         HAVING COUNT(book_id) > 3\n",
    "     )\n",
    "    ) AS avg_rating_3_reviews,\n",
    "    (SELECT AVG(rating) \n",
    "     FROM ratings \n",
    "     WHERE book_id IN (\n",
    "         SELECT book_id \n",
    "         FROM reviews \n",
    "         GROUP BY book_id \n",
    "         HAVING COUNT(book_id) < 3\n",
    "     )\n",
    "    ) AS avg_rating_other;\n",
    "    \n",
    "'''\n",
    "pd.io.sql.read_sql(sql=text(query), con = con)"
   ]
  },
  {
   "cell_type": "markdown",
   "id": "740cf3cf",
   "metadata": {},
   "source": [
    "Больше средний рейтинг у книг с отзывами больше 3."
   ]
  },
  {
   "cell_type": "markdown",
   "id": "18979b2d",
   "metadata": {},
   "source": [
    "Выведите топ пять пользователей по суммарному показателю написанных ревью и поставленных оценок"
   ]
  },
  {
   "cell_type": "code",
   "execution_count": 21,
   "id": "3f697e72",
   "metadata": {},
   "outputs": [
    {
     "data": {
      "text/html": [
       "<div>\n",
       "<style scoped>\n",
       "    .dataframe tbody tr th:only-of-type {\n",
       "        vertical-align: middle;\n",
       "    }\n",
       "\n",
       "    .dataframe tbody tr th {\n",
       "        vertical-align: top;\n",
       "    }\n",
       "\n",
       "    .dataframe thead th {\n",
       "        text-align: right;\n",
       "    }\n",
       "</style>\n",
       "<table border=\"1\" class=\"dataframe\">\n",
       "  <thead>\n",
       "    <tr style=\"text-align: right;\">\n",
       "      <th></th>\n",
       "      <th>username</th>\n",
       "      <th>count</th>\n",
       "    </tr>\n",
       "  </thead>\n",
       "  <tbody>\n",
       "    <tr>\n",
       "      <th>0</th>\n",
       "      <td>martinadam</td>\n",
       "      <td>83</td>\n",
       "    </tr>\n",
       "    <tr>\n",
       "      <th>1</th>\n",
       "      <td>sfitzgerald</td>\n",
       "      <td>83</td>\n",
       "    </tr>\n",
       "    <tr>\n",
       "      <th>2</th>\n",
       "      <td>richard89</td>\n",
       "      <td>81</td>\n",
       "    </tr>\n",
       "    <tr>\n",
       "      <th>3</th>\n",
       "      <td>susan85</td>\n",
       "      <td>78</td>\n",
       "    </tr>\n",
       "    <tr>\n",
       "      <th>4</th>\n",
       "      <td>jennifermiller</td>\n",
       "      <td>78</td>\n",
       "    </tr>\n",
       "  </tbody>\n",
       "</table>\n",
       "</div>"
      ],
      "text/plain": [
       "         username  count\n",
       "0      martinadam     83\n",
       "1     sfitzgerald     83\n",
       "2       richard89     81\n",
       "3         susan85     78\n",
       "4  jennifermiller     78"
      ]
     },
     "execution_count": 21,
     "metadata": {},
     "output_type": "execute_result"
    }
   ],
   "source": [
    "query = '''\n",
    "            SELECT rat.username,\n",
    "            (ratings + reviews) AS count\n",
    "            FROM (\n",
    "            SELECT username, Count(rating) ratings\n",
    "            FROM ratings\n",
    "            GROUP BY username\n",
    "            ) rat\n",
    "            LEFT JOIN\n",
    "            (SELECT username, Count(reviews) reviews\n",
    "            FROM reviews\n",
    "            GROUP BY username) rev ON rat.username=rev.username\n",
    "            ORDER BY count DESC\n",
    "            LIMIT 5;\n",
    "            \n",
    "        '''\n",
    "pd.io.sql.read_sql(sql=text(query), con = con)"
   ]
  },
  {
   "cell_type": "markdown",
   "id": "71234017",
   "metadata": {},
   "source": [
    "## Вывод:\n",
    "\n",
    "Мы проанализировали табдицы и получили следующие выводы:\n",
    "\n",
    "- После 1 января 2000 года вышло 819 книг.\n",
    "- Наименьший рейтинг у книг 1.5, высший бал - 5.0. Также в среднем книги имеют по несколько отзывов.\n",
    "- Из всех издательств, больше всего книг толще 50 страниц выпустило издательство Penguin Books.\n",
    "- Самые высокие оценки у авторов J.K. Rowling/Mary GrandPré.\n",
    "- Среднее кол-во пользователей, которые поставили больше 48 оценок - 24 пользователя."
   ]
  }
 ],
 "metadata": {
  "ExecuteTimeLog": [
   {
    "duration": 468,
    "start_time": "2023-06-28T04:54:40.161Z"
   },
   {
    "duration": 17265,
    "start_time": "2023-06-28T04:54:40.632Z"
   },
   {
    "duration": 157,
    "start_time": "2023-06-28T04:54:57.899Z"
   },
   {
    "duration": 71,
    "start_time": "2023-06-28T04:54:58.058Z"
   },
   {
    "duration": 71,
    "start_time": "2023-06-28T04:54:58.131Z"
   },
   {
    "duration": 71,
    "start_time": "2023-06-28T04:54:58.203Z"
   },
   {
    "duration": 71,
    "start_time": "2023-06-28T04:54:58.275Z"
   },
   {
    "duration": 69,
    "start_time": "2023-06-28T04:54:58.347Z"
   },
   {
    "duration": 70,
    "start_time": "2023-06-28T04:54:58.418Z"
   },
   {
    "duration": 70,
    "start_time": "2023-06-28T04:54:58.491Z"
   },
   {
    "duration": 72,
    "start_time": "2023-06-28T04:54:58.562Z"
   },
   {
    "duration": 72,
    "start_time": "2023-06-28T04:54:58.635Z"
   },
   {
    "duration": 69,
    "start_time": "2023-06-28T04:54:58.709Z"
   },
   {
    "duration": 92,
    "start_time": "2023-06-28T04:54:58.780Z"
   },
   {
    "duration": 72,
    "start_time": "2023-06-28T04:54:58.873Z"
   },
   {
    "duration": 74,
    "start_time": "2023-06-28T04:54:58.947Z"
   },
   {
    "duration": 73,
    "start_time": "2023-06-28T04:54:59.022Z"
   },
   {
    "duration": 73,
    "start_time": "2023-06-28T07:20:24.009Z"
   },
   {
    "duration": 7,
    "start_time": "2023-06-28T07:23:06.377Z"
   },
   {
    "duration": 8167,
    "start_time": "2023-06-28T07:23:11.109Z"
   },
   {
    "duration": 29,
    "start_time": "2023-06-28T07:23:19.279Z"
   },
   {
    "duration": 63,
    "start_time": "2023-06-28T07:24:11.498Z"
   },
   {
    "duration": 8873,
    "start_time": "2023-06-28T07:24:18.138Z"
   },
   {
    "duration": 21,
    "start_time": "2023-06-28T07:24:27.013Z"
   },
   {
    "duration": 9,
    "start_time": "2023-06-28T07:24:27.036Z"
   },
   {
    "duration": 10,
    "start_time": "2023-06-28T07:24:27.047Z"
   },
   {
    "duration": 10,
    "start_time": "2023-06-28T07:24:27.060Z"
   },
   {
    "duration": 43,
    "start_time": "2023-06-28T07:24:27.072Z"
   },
   {
    "duration": 11,
    "start_time": "2023-06-28T07:24:27.117Z"
   },
   {
    "duration": 29,
    "start_time": "2023-06-28T07:24:27.131Z"
   },
   {
    "duration": 24,
    "start_time": "2023-06-28T07:24:27.165Z"
   },
   {
    "duration": 25,
    "start_time": "2023-06-28T07:24:27.191Z"
   },
   {
    "duration": 11,
    "start_time": "2023-06-28T07:24:27.217Z"
   },
   {
    "duration": 10,
    "start_time": "2023-06-28T07:24:27.230Z"
   },
   {
    "duration": 45,
    "start_time": "2023-06-28T07:24:27.241Z"
   },
   {
    "duration": 23,
    "start_time": "2023-06-28T07:24:27.290Z"
   },
   {
    "duration": 16,
    "start_time": "2023-06-28T07:24:27.315Z"
   },
   {
    "duration": 16,
    "start_time": "2023-06-28T07:24:27.332Z"
   },
   {
    "duration": 8912,
    "start_time": "2023-06-28T07:26:51.326Z"
   },
   {
    "duration": 32,
    "start_time": "2023-06-28T07:27:00.241Z"
   },
   {
    "duration": 14,
    "start_time": "2023-06-28T07:27:00.275Z"
   },
   {
    "duration": 43,
    "start_time": "2023-06-28T07:27:00.291Z"
   },
   {
    "duration": 13,
    "start_time": "2023-06-28T07:27:00.337Z"
   },
   {
    "duration": 28,
    "start_time": "2023-06-28T07:27:00.352Z"
   },
   {
    "duration": 35,
    "start_time": "2023-06-28T07:27:00.382Z"
   },
   {
    "duration": 31,
    "start_time": "2023-06-28T07:27:00.419Z"
   },
   {
    "duration": 15,
    "start_time": "2023-06-28T07:27:00.452Z"
   },
   {
    "duration": 33,
    "start_time": "2023-06-28T07:27:00.469Z"
   },
   {
    "duration": 29,
    "start_time": "2023-06-28T07:27:00.504Z"
   },
   {
    "duration": 38,
    "start_time": "2023-06-28T07:27:00.536Z"
   },
   {
    "duration": 52,
    "start_time": "2023-06-28T07:27:00.577Z"
   },
   {
    "duration": 16,
    "start_time": "2023-06-28T07:27:00.632Z"
   },
   {
    "duration": 50,
    "start_time": "2023-06-28T07:27:00.651Z"
   },
   {
    "duration": 38,
    "start_time": "2023-06-28T07:27:00.702Z"
   },
   {
    "duration": 54,
    "start_time": "2023-06-28T07:29:59.804Z"
   },
   {
    "duration": 14,
    "start_time": "2023-06-28T07:30:57.519Z"
   },
   {
    "duration": 33,
    "start_time": "2023-06-28T07:31:13.707Z"
   },
   {
    "duration": 131,
    "start_time": "2023-06-28T07:37:11.709Z"
   },
   {
    "duration": 34,
    "start_time": "2023-06-28T07:37:26.446Z"
   },
   {
    "duration": 30,
    "start_time": "2023-06-28T07:41:12.306Z"
   },
   {
    "duration": 46,
    "start_time": "2023-06-28T07:44:59.594Z"
   },
   {
    "duration": 42,
    "start_time": "2023-06-28T07:46:02.620Z"
   },
   {
    "duration": 23,
    "start_time": "2023-06-28T07:46:12.152Z"
   },
   {
    "duration": 37,
    "start_time": "2023-06-28T07:46:15.537Z"
   },
   {
    "duration": 24,
    "start_time": "2023-06-28T07:47:14.759Z"
   },
   {
    "duration": 14,
    "start_time": "2023-06-28T07:49:15.758Z"
   },
   {
    "duration": 28,
    "start_time": "2023-06-28T07:49:41.136Z"
   },
   {
    "duration": 46,
    "start_time": "2023-06-28T07:49:46.395Z"
   },
   {
    "duration": 27,
    "start_time": "2023-06-28T07:50:41.171Z"
   },
   {
    "duration": 21,
    "start_time": "2023-06-28T07:51:21.859Z"
   },
   {
    "duration": 29,
    "start_time": "2023-06-28T07:51:39.091Z"
   },
   {
    "duration": 31,
    "start_time": "2023-06-28T07:51:41.796Z"
   },
   {
    "duration": 20,
    "start_time": "2023-06-28T07:51:45.776Z"
   },
   {
    "duration": 28,
    "start_time": "2023-06-28T07:54:18.139Z"
   },
   {
    "duration": 22,
    "start_time": "2023-06-28T07:54:44.446Z"
   },
   {
    "duration": 29,
    "start_time": "2023-06-28T07:55:07.067Z"
   },
   {
    "duration": 102,
    "start_time": "2023-06-28T07:56:07.608Z"
   },
   {
    "duration": 38,
    "start_time": "2023-06-28T07:56:27.792Z"
   },
   {
    "duration": 54,
    "start_time": "2023-06-28T08:00:04.194Z"
   },
   {
    "duration": 10904,
    "start_time": "2023-06-28T08:00:25.410Z"
   },
   {
    "duration": 42,
    "start_time": "2023-06-28T08:00:36.318Z"
   },
   {
    "duration": 10,
    "start_time": "2023-06-28T08:00:36.362Z"
   },
   {
    "duration": 32,
    "start_time": "2023-06-28T08:00:36.375Z"
   },
   {
    "duration": 35,
    "start_time": "2023-06-28T08:00:36.411Z"
   },
   {
    "duration": 11,
    "start_time": "2023-06-28T08:00:36.448Z"
   },
   {
    "duration": 22,
    "start_time": "2023-06-28T08:00:36.461Z"
   },
   {
    "duration": 17,
    "start_time": "2023-06-28T08:00:36.485Z"
   },
   {
    "duration": 16,
    "start_time": "2023-06-28T08:00:36.507Z"
   },
   {
    "duration": 19,
    "start_time": "2023-06-28T08:00:36.526Z"
   },
   {
    "duration": 16,
    "start_time": "2023-06-28T08:00:36.546Z"
   },
   {
    "duration": 20,
    "start_time": "2023-06-28T08:00:36.564Z"
   },
   {
    "duration": 26,
    "start_time": "2023-06-28T08:00:36.585Z"
   },
   {
    "duration": 38,
    "start_time": "2023-06-28T08:00:36.614Z"
   },
   {
    "duration": 14,
    "start_time": "2023-06-28T08:00:36.654Z"
   },
   {
    "duration": 15,
    "start_time": "2023-06-28T08:00:36.669Z"
   },
   {
    "duration": 123,
    "start_time": "2023-06-28T08:00:36.686Z"
   },
   {
    "duration": 0,
    "start_time": "2023-06-28T08:00:36.821Z"
   },
   {
    "duration": 0,
    "start_time": "2023-06-28T08:00:36.822Z"
   },
   {
    "duration": 0,
    "start_time": "2023-06-28T08:00:36.823Z"
   },
   {
    "duration": 18,
    "start_time": "2023-06-28T08:00:54.948Z"
   },
   {
    "duration": 83,
    "start_time": "2023-06-28T08:01:17.495Z"
   },
   {
    "duration": 62,
    "start_time": "2023-06-28T08:01:20.140Z"
   },
   {
    "duration": 19,
    "start_time": "2023-06-28T08:01:52.347Z"
   },
   {
    "duration": 61,
    "start_time": "2023-06-28T08:02:07.111Z"
   },
   {
    "duration": 45,
    "start_time": "2023-06-28T08:02:13.877Z"
   },
   {
    "duration": 29,
    "start_time": "2023-06-28T08:02:24.841Z"
   },
   {
    "duration": 33,
    "start_time": "2023-06-28T08:02:39.906Z"
   },
   {
    "duration": 22,
    "start_time": "2023-06-28T08:02:46.643Z"
   },
   {
    "duration": 28,
    "start_time": "2023-06-28T08:02:50.302Z"
   },
   {
    "duration": 30,
    "start_time": "2023-06-28T08:02:53.251Z"
   },
   {
    "duration": 53,
    "start_time": "2023-06-28T08:03:21.627Z"
   },
   {
    "duration": 42,
    "start_time": "2023-06-28T08:03:23.706Z"
   },
   {
    "duration": 36,
    "start_time": "2023-06-28T08:04:32.840Z"
   },
   {
    "duration": 37,
    "start_time": "2023-06-28T08:04:44.757Z"
   },
   {
    "duration": 34,
    "start_time": "2023-06-28T08:06:06.552Z"
   },
   {
    "duration": 67,
    "start_time": "2023-06-28T08:06:11.609Z"
   },
   {
    "duration": 29,
    "start_time": "2023-06-28T08:06:58.537Z"
   },
   {
    "duration": 31,
    "start_time": "2023-06-28T08:07:13.477Z"
   },
   {
    "duration": 38,
    "start_time": "2023-06-28T08:07:19.872Z"
   },
   {
    "duration": 32,
    "start_time": "2023-06-28T08:07:49.360Z"
   },
   {
    "duration": 34,
    "start_time": "2023-06-28T08:08:03.409Z"
   },
   {
    "duration": 56,
    "start_time": "2023-06-28T08:08:25.209Z"
   },
   {
    "duration": 45,
    "start_time": "2023-06-28T08:08:44.618Z"
   },
   {
    "duration": 23,
    "start_time": "2023-06-28T08:09:15.249Z"
   },
   {
    "duration": 34,
    "start_time": "2023-06-28T08:09:20.648Z"
   },
   {
    "duration": 41,
    "start_time": "2023-06-28T08:09:24.313Z"
   },
   {
    "duration": 46,
    "start_time": "2023-06-28T08:09:56.109Z"
   },
   {
    "duration": 80,
    "start_time": "2023-06-28T08:10:03.608Z"
   },
   {
    "duration": 48,
    "start_time": "2023-06-28T08:10:15.987Z"
   },
   {
    "duration": 40,
    "start_time": "2023-06-28T08:10:41.336Z"
   },
   {
    "duration": 37,
    "start_time": "2023-06-28T08:10:55.063Z"
   },
   {
    "duration": 81,
    "start_time": "2023-06-28T08:11:26.824Z"
   },
   {
    "duration": 26,
    "start_time": "2023-06-28T08:11:38.063Z"
   },
   {
    "duration": 40,
    "start_time": "2023-06-28T08:11:44.269Z"
   },
   {
    "duration": 54,
    "start_time": "2023-06-28T08:12:45.442Z"
   },
   {
    "duration": 80,
    "start_time": "2023-06-28T08:13:10.279Z"
   },
   {
    "duration": 64,
    "start_time": "2023-06-28T08:13:26.129Z"
   },
   {
    "duration": 69,
    "start_time": "2023-06-28T08:14:28.538Z"
   },
   {
    "duration": 24,
    "start_time": "2023-06-28T08:14:39.465Z"
   },
   {
    "duration": 50,
    "start_time": "2023-06-28T08:14:54.450Z"
   },
   {
    "duration": 69,
    "start_time": "2023-06-28T08:14:59.536Z"
   },
   {
    "duration": 23,
    "start_time": "2023-06-28T08:15:32.378Z"
   },
   {
    "duration": 54,
    "start_time": "2023-06-28T08:16:18.366Z"
   },
   {
    "duration": 61,
    "start_time": "2023-06-28T08:17:33.643Z"
   },
   {
    "duration": 58,
    "start_time": "2023-06-28T08:17:38.240Z"
   },
   {
    "duration": 57,
    "start_time": "2023-06-28T08:19:49.642Z"
   },
   {
    "duration": 50,
    "start_time": "2023-06-28T08:20:07.834Z"
   },
   {
    "duration": 34,
    "start_time": "2023-06-28T08:22:26.943Z"
   },
   {
    "duration": 42,
    "start_time": "2023-06-28T08:32:27.096Z"
   },
   {
    "duration": 56,
    "start_time": "2023-06-28T08:32:41.132Z"
   },
   {
    "duration": 62,
    "start_time": "2023-06-28T08:32:47.021Z"
   },
   {
    "duration": 127,
    "start_time": "2023-06-28T08:32:59.690Z"
   },
   {
    "duration": 699,
    "start_time": "2023-06-28T08:33:16.676Z"
   },
   {
    "duration": 13125,
    "start_time": "2023-06-28T08:33:17.377Z"
   },
   {
    "duration": 65,
    "start_time": "2023-06-28T08:33:30.504Z"
   },
   {
    "duration": 25,
    "start_time": "2023-06-28T08:33:30.576Z"
   },
   {
    "duration": 59,
    "start_time": "2023-06-28T08:33:30.604Z"
   },
   {
    "duration": 33,
    "start_time": "2023-06-28T08:33:30.664Z"
   },
   {
    "duration": 87,
    "start_time": "2023-06-28T08:33:30.700Z"
   },
   {
    "duration": 80,
    "start_time": "2023-06-28T08:33:30.789Z"
   },
   {
    "duration": 18,
    "start_time": "2023-06-28T08:33:30.871Z"
   },
   {
    "duration": 74,
    "start_time": "2023-06-28T08:33:30.894Z"
   },
   {
    "duration": 14,
    "start_time": "2023-06-28T08:33:30.971Z"
   },
   {
    "duration": 90,
    "start_time": "2023-06-28T08:33:30.987Z"
   },
   {
    "duration": 25,
    "start_time": "2023-06-28T08:33:31.080Z"
   },
   {
    "duration": 90,
    "start_time": "2023-06-28T08:33:31.107Z"
   },
   {
    "duration": 17,
    "start_time": "2023-06-28T08:33:31.199Z"
   },
   {
    "duration": 66,
    "start_time": "2023-06-28T08:33:31.230Z"
   },
   {
    "duration": 17,
    "start_time": "2023-06-28T08:33:31.298Z"
   },
   {
    "duration": 50,
    "start_time": "2023-06-28T08:33:31.322Z"
   },
   {
    "duration": 116,
    "start_time": "2023-06-28T08:33:31.374Z"
   },
   {
    "duration": 0,
    "start_time": "2023-06-28T08:33:31.492Z"
   },
   {
    "duration": 62,
    "start_time": "2023-06-28T08:34:01.724Z"
   },
   {
    "duration": 47,
    "start_time": "2023-06-28T08:35:12.533Z"
   },
   {
    "duration": 59,
    "start_time": "2023-06-28T08:35:52.219Z"
   },
   {
    "duration": 33,
    "start_time": "2023-06-28T08:36:15.572Z"
   },
   {
    "duration": 75,
    "start_time": "2023-06-28T08:36:40.312Z"
   },
   {
    "duration": 52,
    "start_time": "2023-06-28T08:37:00.409Z"
   },
   {
    "duration": 49,
    "start_time": "2023-06-28T08:37:10.825Z"
   },
   {
    "duration": 64,
    "start_time": "2023-06-28T08:38:12.885Z"
   },
   {
    "duration": 70,
    "start_time": "2023-06-28T08:38:32.440Z"
   },
   {
    "duration": 45,
    "start_time": "2023-06-28T08:38:49.055Z"
   },
   {
    "duration": 15,
    "start_time": "2023-06-28T08:41:59.075Z"
   },
   {
    "duration": 13,
    "start_time": "2023-06-28T08:42:04.775Z"
   },
   {
    "duration": 58,
    "start_time": "2023-06-28T08:42:09.617Z"
   },
   {
    "duration": 64,
    "start_time": "2023-06-28T08:47:33.647Z"
   },
   {
    "duration": 99,
    "start_time": "2023-06-28T08:47:43.316Z"
   },
   {
    "duration": 57,
    "start_time": "2023-06-28T08:49:11.429Z"
   },
   {
    "duration": 36,
    "start_time": "2023-06-28T08:49:43.737Z"
   },
   {
    "duration": 55,
    "start_time": "2023-06-28T08:50:04.913Z"
   },
   {
    "duration": 33,
    "start_time": "2023-06-28T08:51:09.436Z"
   },
   {
    "duration": 76,
    "start_time": "2023-06-28T08:51:32.604Z"
   },
   {
    "duration": 23,
    "start_time": "2023-06-28T08:52:53.545Z"
   },
   {
    "duration": 19,
    "start_time": "2023-06-28T08:53:13.340Z"
   },
   {
    "duration": 21,
    "start_time": "2023-06-28T08:53:44.376Z"
   },
   {
    "duration": 24,
    "start_time": "2023-06-28T08:54:04.632Z"
   },
   {
    "duration": 60,
    "start_time": "2023-06-28T08:58:23.714Z"
   },
   {
    "duration": 39,
    "start_time": "2023-06-28T08:58:46.214Z"
   },
   {
    "duration": 30,
    "start_time": "2023-06-28T08:58:57.648Z"
   },
   {
    "duration": 25,
    "start_time": "2023-06-28T08:59:11.021Z"
   },
   {
    "duration": 29,
    "start_time": "2023-06-28T08:59:22.174Z"
   },
   {
    "duration": 25,
    "start_time": "2023-06-28T08:59:31.534Z"
   },
   {
    "duration": 16,
    "start_time": "2023-06-28T09:00:06.233Z"
   },
   {
    "duration": 21,
    "start_time": "2023-06-28T09:00:18.671Z"
   },
   {
    "duration": 28,
    "start_time": "2023-06-28T09:01:04.201Z"
   },
   {
    "duration": 78,
    "start_time": "2023-06-28T09:01:19.955Z"
   },
   {
    "duration": 22,
    "start_time": "2023-06-28T09:01:36.611Z"
   },
   {
    "duration": 22,
    "start_time": "2023-06-28T09:01:40.812Z"
   },
   {
    "duration": 20,
    "start_time": "2023-06-28T09:01:49.869Z"
   },
   {
    "duration": 18,
    "start_time": "2023-06-28T09:02:05.060Z"
   },
   {
    "duration": 20,
    "start_time": "2023-06-28T09:02:17.908Z"
   },
   {
    "duration": 19,
    "start_time": "2023-06-28T09:02:25.574Z"
   },
   {
    "duration": 43,
    "start_time": "2023-06-28T09:02:39.654Z"
   },
   {
    "duration": 34,
    "start_time": "2023-06-28T09:05:10.050Z"
   },
   {
    "duration": 15,
    "start_time": "2023-06-28T09:06:02.919Z"
   },
   {
    "duration": 21,
    "start_time": "2023-06-28T09:06:07.051Z"
   },
   {
    "duration": 21,
    "start_time": "2023-06-28T09:09:49.929Z"
   },
   {
    "duration": 21,
    "start_time": "2023-06-28T09:10:04.820Z"
   },
   {
    "duration": 32,
    "start_time": "2023-06-28T09:23:25.247Z"
   },
   {
    "duration": 32,
    "start_time": "2023-06-28T09:23:45.004Z"
   },
   {
    "duration": 36,
    "start_time": "2023-06-28T09:24:32.252Z"
   },
   {
    "duration": 45,
    "start_time": "2023-06-28T09:24:59.606Z"
   },
   {
    "duration": 18,
    "start_time": "2023-06-28T09:25:12.940Z"
   },
   {
    "duration": 15,
    "start_time": "2023-06-28T09:25:31.898Z"
   },
   {
    "duration": 25,
    "start_time": "2023-06-28T09:26:09.081Z"
   },
   {
    "duration": 40,
    "start_time": "2023-06-28T09:27:32.438Z"
   },
   {
    "duration": 33,
    "start_time": "2023-06-28T09:27:48.970Z"
   },
   {
    "duration": 32,
    "start_time": "2023-06-28T09:28:01.191Z"
   },
   {
    "duration": 30,
    "start_time": "2023-06-28T09:28:10.990Z"
   },
   {
    "duration": 71,
    "start_time": "2023-06-28T09:28:29.746Z"
   },
   {
    "duration": 47,
    "start_time": "2023-06-28T09:29:04.527Z"
   },
   {
    "duration": 36,
    "start_time": "2023-06-28T09:29:56.778Z"
   },
   {
    "duration": 42,
    "start_time": "2023-06-28T09:30:23.163Z"
   },
   {
    "duration": 47,
    "start_time": "2023-06-28T09:31:28.343Z"
   },
   {
    "duration": 23,
    "start_time": "2023-06-28T09:32:45.445Z"
   },
   {
    "duration": 22,
    "start_time": "2023-06-28T09:33:03.679Z"
   },
   {
    "duration": 15,
    "start_time": "2023-06-28T09:35:46.764Z"
   },
   {
    "duration": 34,
    "start_time": "2023-06-28T09:36:05.109Z"
   },
   {
    "duration": 50,
    "start_time": "2023-06-28T09:37:12.050Z"
   },
   {
    "duration": 30,
    "start_time": "2023-06-28T09:37:42.318Z"
   },
   {
    "duration": 31,
    "start_time": "2023-06-28T09:37:51.308Z"
   },
   {
    "duration": 28,
    "start_time": "2023-06-28T09:38:06.071Z"
   },
   {
    "duration": 30,
    "start_time": "2023-06-28T09:38:13.193Z"
   },
   {
    "duration": 29,
    "start_time": "2023-06-28T09:38:26.040Z"
   },
   {
    "duration": 31,
    "start_time": "2023-06-28T09:38:47.134Z"
   },
   {
    "duration": 30,
    "start_time": "2023-06-28T09:38:53.534Z"
   },
   {
    "duration": 17,
    "start_time": "2023-06-28T09:39:08.335Z"
   },
   {
    "duration": 30,
    "start_time": "2023-06-28T09:39:23.583Z"
   },
   {
    "duration": 30,
    "start_time": "2023-06-28T09:40:00.231Z"
   },
   {
    "duration": 27,
    "start_time": "2023-06-28T09:40:13.610Z"
   },
   {
    "duration": 31,
    "start_time": "2023-06-28T09:40:38.368Z"
   },
   {
    "duration": 41,
    "start_time": "2023-06-28T09:40:58.248Z"
   },
   {
    "duration": 31,
    "start_time": "2023-06-28T09:41:04.893Z"
   },
   {
    "duration": 31,
    "start_time": "2023-06-28T09:41:11.291Z"
   },
   {
    "duration": 31,
    "start_time": "2023-06-28T09:41:25.864Z"
   },
   {
    "duration": 33,
    "start_time": "2023-06-28T09:41:35.399Z"
   },
   {
    "duration": 37,
    "start_time": "2023-06-28T09:41:46.659Z"
   },
   {
    "duration": 32,
    "start_time": "2023-06-28T09:41:51.937Z"
   },
   {
    "duration": 30,
    "start_time": "2023-06-28T09:41:58.676Z"
   },
   {
    "duration": 17,
    "start_time": "2023-06-28T09:42:58.747Z"
   },
   {
    "duration": 14,
    "start_time": "2023-06-28T09:43:18.345Z"
   },
   {
    "duration": 15,
    "start_time": "2023-06-28T09:43:35.760Z"
   },
   {
    "duration": 34,
    "start_time": "2023-06-28T09:44:37.177Z"
   },
   {
    "duration": 30,
    "start_time": "2023-06-28T09:45:48.841Z"
   },
   {
    "duration": 36,
    "start_time": "2023-06-28T09:46:03.173Z"
   },
   {
    "duration": 23,
    "start_time": "2023-06-28T09:46:23.463Z"
   },
   {
    "duration": 46,
    "start_time": "2023-06-28T09:47:33.601Z"
   },
   {
    "duration": 46,
    "start_time": "2023-06-28T09:57:25.175Z"
   },
   {
    "duration": 36,
    "start_time": "2023-06-28T09:58:01.249Z"
   },
   {
    "duration": 51,
    "start_time": "2023-06-28T09:58:43.109Z"
   },
   {
    "duration": 44,
    "start_time": "2023-06-28T09:58:53.654Z"
   },
   {
    "duration": 31,
    "start_time": "2023-06-28T09:58:58.845Z"
   },
   {
    "duration": 34,
    "start_time": "2023-06-28T09:59:04.540Z"
   },
   {
    "duration": 60,
    "start_time": "2023-06-28T10:00:11.596Z"
   },
   {
    "duration": 58,
    "start_time": "2023-06-28T10:00:46.010Z"
   },
   {
    "duration": 41,
    "start_time": "2023-06-28T10:00:54.296Z"
   },
   {
    "duration": 109,
    "start_time": "2023-06-28T10:01:06.446Z"
   },
   {
    "duration": 71,
    "start_time": "2023-06-28T10:01:13.331Z"
   },
   {
    "duration": 16,
    "start_time": "2023-06-28T10:03:06.572Z"
   },
   {
    "duration": 30,
    "start_time": "2023-06-28T10:03:48.177Z"
   },
   {
    "duration": 23,
    "start_time": "2023-06-28T10:05:06.550Z"
   },
   {
    "duration": 37,
    "start_time": "2023-06-28T10:05:18.496Z"
   },
   {
    "duration": 38,
    "start_time": "2023-06-28T10:05:43.262Z"
   },
   {
    "duration": 61,
    "start_time": "2023-06-28T10:05:59.234Z"
   },
   {
    "duration": 31,
    "start_time": "2023-06-28T10:06:14.077Z"
   },
   {
    "duration": 35,
    "start_time": "2023-06-28T10:06:19.149Z"
   },
   {
    "duration": 21,
    "start_time": "2023-06-28T10:08:57.883Z"
   },
   {
    "duration": 32,
    "start_time": "2023-06-28T10:09:11.363Z"
   },
   {
    "duration": 52,
    "start_time": "2023-06-28T10:10:17.936Z"
   },
   {
    "duration": 38,
    "start_time": "2023-06-28T10:10:37.291Z"
   },
   {
    "duration": 34,
    "start_time": "2023-06-28T10:10:47.533Z"
   },
   {
    "duration": 27,
    "start_time": "2023-06-28T10:12:44.066Z"
   },
   {
    "duration": 47,
    "start_time": "2023-06-28T10:12:59.215Z"
   },
   {
    "duration": 35,
    "start_time": "2023-06-28T10:15:03.735Z"
   },
   {
    "duration": 26,
    "start_time": "2023-06-28T10:16:25.452Z"
   },
   {
    "duration": 31,
    "start_time": "2023-06-28T10:29:12.288Z"
   },
   {
    "duration": 42,
    "start_time": "2023-06-28T10:30:32.017Z"
   },
   {
    "duration": 41,
    "start_time": "2023-06-28T10:30:54.330Z"
   },
   {
    "duration": 43,
    "start_time": "2023-06-28T10:31:03.620Z"
   },
   {
    "duration": 43,
    "start_time": "2023-06-28T10:31:45.447Z"
   },
   {
    "duration": 34,
    "start_time": "2023-06-28T10:31:54.004Z"
   },
   {
    "duration": 47,
    "start_time": "2023-06-28T10:33:10.005Z"
   },
   {
    "duration": 29,
    "start_time": "2023-06-28T10:34:05.138Z"
   },
   {
    "duration": 100,
    "start_time": "2023-06-28T10:34:59.575Z"
   },
   {
    "duration": 51,
    "start_time": "2023-06-28T10:35:12.946Z"
   },
   {
    "duration": 39,
    "start_time": "2023-06-28T10:37:02.088Z"
   },
   {
    "duration": 26,
    "start_time": "2023-06-28T10:37:09.596Z"
   },
   {
    "duration": 18,
    "start_time": "2023-06-28T10:37:39.447Z"
   },
   {
    "duration": 24,
    "start_time": "2023-06-28T10:38:16.459Z"
   },
   {
    "duration": 41,
    "start_time": "2023-06-28T10:38:25.146Z"
   },
   {
    "duration": 28,
    "start_time": "2023-06-28T10:39:32.643Z"
   },
   {
    "duration": 15,
    "start_time": "2023-06-28T10:40:01.771Z"
   },
   {
    "duration": 21,
    "start_time": "2023-06-28T10:41:23.785Z"
   },
   {
    "duration": 21,
    "start_time": "2023-06-28T10:41:37.991Z"
   },
   {
    "duration": 21,
    "start_time": "2023-06-28T10:41:45.447Z"
   },
   {
    "duration": 20,
    "start_time": "2023-06-28T10:41:48.390Z"
   },
   {
    "duration": 32,
    "start_time": "2023-06-28T10:41:56.240Z"
   },
   {
    "duration": 14,
    "start_time": "2023-06-28T10:43:40.209Z"
   },
   {
    "duration": 41,
    "start_time": "2023-06-28T10:44:02.426Z"
   },
   {
    "duration": 33,
    "start_time": "2023-06-28T10:44:44.800Z"
   },
   {
    "duration": 33,
    "start_time": "2023-06-28T10:45:09.434Z"
   },
   {
    "duration": 52,
    "start_time": "2023-06-28T10:47:48.027Z"
   },
   {
    "duration": 50,
    "start_time": "2023-06-28T10:47:53.230Z"
   },
   {
    "duration": 69,
    "start_time": "2023-06-28T10:48:02.526Z"
   },
   {
    "duration": 42,
    "start_time": "2023-06-28T10:48:07.258Z"
   },
   {
    "duration": 120,
    "start_time": "2023-06-28T10:48:15.638Z"
   },
   {
    "duration": 21,
    "start_time": "2023-06-28T10:48:37.175Z"
   },
   {
    "duration": 23,
    "start_time": "2023-06-28T10:49:02.380Z"
   },
   {
    "duration": 27,
    "start_time": "2023-06-28T10:49:11.186Z"
   },
   {
    "duration": 30,
    "start_time": "2023-06-28T10:49:18.640Z"
   },
   {
    "duration": 20,
    "start_time": "2023-06-28T10:49:37.586Z"
   },
   {
    "duration": 19,
    "start_time": "2023-06-28T10:51:07.433Z"
   },
   {
    "duration": 30,
    "start_time": "2023-06-28T10:51:52.950Z"
   },
   {
    "duration": 27,
    "start_time": "2023-06-28T10:53:11.374Z"
   },
   {
    "duration": 21,
    "start_time": "2023-06-28T10:53:19.036Z"
   },
   {
    "duration": 25,
    "start_time": "2023-06-28T10:54:15.892Z"
   },
   {
    "duration": 24,
    "start_time": "2023-06-28T10:54:18.895Z"
   },
   {
    "duration": 23,
    "start_time": "2023-06-28T10:54:22.770Z"
   },
   {
    "duration": 25,
    "start_time": "2023-06-28T10:54:46.824Z"
   },
   {
    "duration": 26,
    "start_time": "2023-06-28T10:58:24.668Z"
   },
   {
    "duration": 24,
    "start_time": "2023-06-28T10:58:45.632Z"
   },
   {
    "duration": 22,
    "start_time": "2023-06-28T10:59:36.674Z"
   },
   {
    "duration": 19,
    "start_time": "2023-06-28T10:59:53.231Z"
   },
   {
    "duration": 25,
    "start_time": "2023-06-28T11:03:03.510Z"
   },
   {
    "duration": 14,
    "start_time": "2023-06-28T11:03:35.836Z"
   },
   {
    "duration": 14,
    "start_time": "2023-06-28T11:04:18.055Z"
   },
   {
    "duration": 22,
    "start_time": "2023-06-28T11:05:13.390Z"
   },
   {
    "duration": 23,
    "start_time": "2023-06-28T13:04:34.115Z"
   },
   {
    "duration": 15,
    "start_time": "2023-06-28T13:08:56.884Z"
   },
   {
    "duration": 8475,
    "start_time": "2023-06-28T14:19:41.412Z"
   },
   {
    "duration": 28,
    "start_time": "2023-06-28T14:19:49.891Z"
   },
   {
    "duration": 16,
    "start_time": "2023-06-28T14:19:49.921Z"
   },
   {
    "duration": 9,
    "start_time": "2023-06-28T14:19:49.939Z"
   },
   {
    "duration": 12,
    "start_time": "2023-06-28T14:19:49.950Z"
   },
   {
    "duration": 9,
    "start_time": "2023-06-28T14:19:49.963Z"
   },
   {
    "duration": 8,
    "start_time": "2023-06-28T14:19:49.974Z"
   },
   {
    "duration": 12,
    "start_time": "2023-06-28T14:19:49.983Z"
   },
   {
    "duration": 34,
    "start_time": "2023-06-28T14:19:49.996Z"
   },
   {
    "duration": 12,
    "start_time": "2023-06-28T14:19:50.033Z"
   },
   {
    "duration": 13,
    "start_time": "2023-06-28T14:19:50.046Z"
   },
   {
    "duration": 12,
    "start_time": "2023-06-28T14:19:50.062Z"
   },
   {
    "duration": 25,
    "start_time": "2023-06-28T14:19:50.075Z"
   },
   {
    "duration": 28,
    "start_time": "2023-06-28T14:19:50.101Z"
   },
   {
    "duration": 13,
    "start_time": "2023-06-28T14:19:50.134Z"
   },
   {
    "duration": 28,
    "start_time": "2023-06-28T14:19:50.149Z"
   },
   {
    "duration": 13,
    "start_time": "2023-06-28T14:19:50.179Z"
   },
   {
    "duration": 57,
    "start_time": "2023-06-28T14:19:50.194Z"
   },
   {
    "duration": 58,
    "start_time": "2023-06-28T14:19:50.253Z"
   },
   {
    "duration": 33,
    "start_time": "2023-06-28T14:19:50.316Z"
   },
   {
    "duration": 34,
    "start_time": "2023-06-28T14:19:50.351Z"
   },
   {
    "duration": 48,
    "start_time": "2023-06-28T14:19:50.387Z"
   },
   {
    "duration": 15,
    "start_time": "2023-06-28T14:19:50.436Z"
   },
   {
    "duration": 48,
    "start_time": "2023-06-28T14:19:50.452Z"
   },
   {
    "duration": 45,
    "start_time": "2023-06-28T14:19:50.502Z"
   },
   {
    "duration": 39,
    "start_time": "2023-06-28T14:19:50.548Z"
   },
   {
    "duration": 60,
    "start_time": "2023-06-28T14:19:50.588Z"
   },
   {
    "duration": 18,
    "start_time": "2023-06-28T14:19:50.651Z"
   },
   {
    "duration": 76,
    "start_time": "2023-06-28T14:19:50.671Z"
   },
   {
    "duration": 0,
    "start_time": "2023-06-28T14:19:50.749Z"
   },
   {
    "duration": 0,
    "start_time": "2023-06-28T14:19:50.750Z"
   },
   {
    "duration": 0,
    "start_time": "2023-06-28T14:19:50.751Z"
   },
   {
    "duration": 15,
    "start_time": "2023-06-28T14:21:31.364Z"
   },
   {
    "duration": 3,
    "start_time": "2023-06-28T15:08:09.248Z"
   },
   {
    "duration": 39,
    "start_time": "2023-06-28T15:08:09.549Z"
   },
   {
    "duration": 22,
    "start_time": "2023-06-28T15:08:09.949Z"
   },
   {
    "duration": 86,
    "start_time": "2023-06-28T16:00:49.109Z"
   },
   {
    "duration": 553,
    "start_time": "2023-06-29T03:53:12.238Z"
   },
   {
    "duration": 15102,
    "start_time": "2023-06-29T03:53:12.792Z"
   },
   {
    "duration": 165,
    "start_time": "2023-06-29T03:53:27.896Z"
   },
   {
    "duration": 38,
    "start_time": "2023-06-29T03:53:28.069Z"
   },
   {
    "duration": 62,
    "start_time": "2023-06-29T03:53:28.115Z"
   },
   {
    "duration": 87,
    "start_time": "2023-06-29T03:53:28.179Z"
   },
   {
    "duration": 57,
    "start_time": "2023-06-29T03:53:28.268Z"
   },
   {
    "duration": 56,
    "start_time": "2023-06-29T03:53:28.335Z"
   },
   {
    "duration": 61,
    "start_time": "2023-06-29T03:53:28.393Z"
   },
   {
    "duration": 88,
    "start_time": "2023-06-29T03:53:28.457Z"
   },
   {
    "duration": 40,
    "start_time": "2023-06-29T03:53:28.555Z"
   },
   {
    "duration": 71,
    "start_time": "2023-06-29T03:53:28.597Z"
   },
   {
    "duration": 37,
    "start_time": "2023-06-29T03:53:28.671Z"
   },
   {
    "duration": 46,
    "start_time": "2023-06-29T03:53:28.711Z"
   },
   {
    "duration": 76,
    "start_time": "2023-06-29T03:53:28.761Z"
   },
   {
    "duration": 41,
    "start_time": "2023-06-29T03:53:28.841Z"
   },
   {
    "duration": 69,
    "start_time": "2023-06-29T03:53:28.884Z"
   },
   {
    "duration": 67,
    "start_time": "2023-06-29T03:53:28.970Z"
   },
   {
    "duration": 54,
    "start_time": "2023-06-29T03:53:29.039Z"
   },
   {
    "duration": 77,
    "start_time": "2023-06-29T03:53:29.094Z"
   },
   {
    "duration": 65,
    "start_time": "2023-06-29T03:53:29.173Z"
   },
   {
    "duration": 157,
    "start_time": "2023-06-29T03:56:49.673Z"
   },
   {
    "duration": 54,
    "start_time": "2023-06-29T03:56:53.822Z"
   },
   {
    "duration": 50,
    "start_time": "2023-06-29T03:57:01.975Z"
   },
   {
    "duration": 50,
    "start_time": "2023-06-29T04:48:55.065Z"
   },
   {
    "duration": 694,
    "start_time": "2023-06-29T04:49:02.045Z"
   },
   {
    "duration": 11952,
    "start_time": "2023-06-29T04:49:02.743Z"
   },
   {
    "duration": 112,
    "start_time": "2023-06-29T04:49:14.698Z"
   },
   {
    "duration": 38,
    "start_time": "2023-06-29T04:49:14.812Z"
   },
   {
    "duration": 44,
    "start_time": "2023-06-29T04:49:14.852Z"
   },
   {
    "duration": 32,
    "start_time": "2023-06-29T04:49:14.898Z"
   },
   {
    "duration": 42,
    "start_time": "2023-06-29T04:49:14.932Z"
   },
   {
    "duration": 32,
    "start_time": "2023-06-29T04:49:14.976Z"
   },
   {
    "duration": 63,
    "start_time": "2023-06-29T04:49:15.010Z"
   },
   {
    "duration": 41,
    "start_time": "2023-06-29T04:49:15.075Z"
   },
   {
    "duration": 31,
    "start_time": "2023-06-29T04:49:15.118Z"
   },
   {
    "duration": 42,
    "start_time": "2023-06-29T04:49:15.150Z"
   },
   {
    "duration": 33,
    "start_time": "2023-06-29T04:49:15.194Z"
   },
   {
    "duration": 39,
    "start_time": "2023-06-29T04:49:15.231Z"
   },
   {
    "duration": 50,
    "start_time": "2023-06-29T04:49:15.273Z"
   },
   {
    "duration": 56,
    "start_time": "2023-06-29T04:49:15.325Z"
   },
   {
    "duration": 40,
    "start_time": "2023-06-29T04:49:15.383Z"
   },
   {
    "duration": 49,
    "start_time": "2023-06-29T04:49:15.426Z"
   },
   {
    "duration": 133,
    "start_time": "2023-06-29T04:49:15.477Z"
   },
   {
    "duration": 1,
    "start_time": "2023-06-29T04:49:15.612Z"
   },
   {
    "duration": 0,
    "start_time": "2023-06-29T04:49:15.614Z"
   },
   {
    "duration": 49,
    "start_time": "2023-06-29T04:49:35.116Z"
   },
   {
    "duration": 33,
    "start_time": "2023-06-29T04:51:09.898Z"
   },
   {
    "duration": 61,
    "start_time": "2023-06-29T04:51:30.622Z"
   },
   {
    "duration": 56,
    "start_time": "2023-06-29T04:51:33.314Z"
   },
   {
    "duration": 59,
    "start_time": "2023-06-29T04:51:47.231Z"
   },
   {
    "duration": 64,
    "start_time": "2023-06-29T04:51:54.670Z"
   },
   {
    "duration": 45,
    "start_time": "2023-06-29T04:52:00.198Z"
   },
   {
    "duration": 39,
    "start_time": "2023-06-29T04:54:22.585Z"
   },
   {
    "duration": 60,
    "start_time": "2023-06-29T04:54:58.944Z"
   },
   {
    "duration": 72,
    "start_time": "2023-06-29T04:55:02.052Z"
   },
   {
    "duration": 64,
    "start_time": "2023-06-29T04:55:10.588Z"
   },
   {
    "duration": 68,
    "start_time": "2023-06-29T04:55:21.011Z"
   },
   {
    "duration": 57,
    "start_time": "2023-06-29T04:55:26.215Z"
   },
   {
    "duration": 61,
    "start_time": "2023-06-29T04:57:02.707Z"
   },
   {
    "duration": 68,
    "start_time": "2023-06-29T04:57:26.310Z"
   },
   {
    "duration": 45,
    "start_time": "2023-06-29T04:57:38.676Z"
   },
   {
    "duration": 55,
    "start_time": "2023-06-29T04:58:32.998Z"
   },
   {
    "duration": 51,
    "start_time": "2023-06-29T04:58:38.811Z"
   },
   {
    "duration": 34,
    "start_time": "2023-06-29T04:58:51.516Z"
   },
   {
    "duration": 70,
    "start_time": "2023-06-29T04:59:18.221Z"
   },
   {
    "duration": 52,
    "start_time": "2023-06-29T04:59:24.812Z"
   },
   {
    "duration": 60,
    "start_time": "2023-06-29T05:00:05.944Z"
   },
   {
    "duration": 92,
    "start_time": "2023-06-29T05:00:08.343Z"
   },
   {
    "duration": 54,
    "start_time": "2023-06-29T05:00:13.513Z"
   },
   {
    "duration": 67,
    "start_time": "2023-06-29T05:01:27.840Z"
   },
   {
    "duration": 49,
    "start_time": "2023-06-29T05:02:23.490Z"
   },
   {
    "duration": 34,
    "start_time": "2023-06-29T05:04:23.297Z"
   },
   {
    "duration": 40,
    "start_time": "2023-06-29T05:04:28.381Z"
   },
   {
    "duration": 34,
    "start_time": "2023-06-29T05:04:33.681Z"
   },
   {
    "duration": 57,
    "start_time": "2023-06-29T05:04:58.947Z"
   },
   {
    "duration": 82,
    "start_time": "2023-06-29T05:05:03.041Z"
   },
   {
    "duration": 57,
    "start_time": "2023-06-29T05:05:13.749Z"
   },
   {
    "duration": 54,
    "start_time": "2023-06-29T05:05:20.667Z"
   },
   {
    "duration": 53,
    "start_time": "2023-06-29T05:05:30.765Z"
   },
   {
    "duration": 51,
    "start_time": "2023-06-29T05:08:00.639Z"
   },
   {
    "duration": 64,
    "start_time": "2023-06-29T05:08:45.323Z"
   },
   {
    "duration": 50,
    "start_time": "2023-06-29T05:08:47.561Z"
   },
   {
    "duration": 183,
    "start_time": "2023-06-29T05:09:45.848Z"
   },
   {
    "duration": 93,
    "start_time": "2023-06-29T05:11:23.300Z"
   },
   {
    "duration": 546,
    "start_time": "2023-06-29T05:11:57.266Z"
   },
   {
    "duration": 11350,
    "start_time": "2023-06-29T05:11:57.814Z"
   },
   {
    "duration": 101,
    "start_time": "2023-06-29T05:12:09.166Z"
   },
   {
    "duration": 89,
    "start_time": "2023-06-29T05:12:09.270Z"
   },
   {
    "duration": 32,
    "start_time": "2023-06-29T05:12:09.366Z"
   },
   {
    "duration": 176,
    "start_time": "2023-06-29T05:12:09.399Z"
   },
   {
    "duration": 31,
    "start_time": "2023-06-29T05:12:09.577Z"
   },
   {
    "duration": 31,
    "start_time": "2023-06-29T05:12:09.610Z"
   },
   {
    "duration": 38,
    "start_time": "2023-06-29T05:12:09.643Z"
   },
   {
    "duration": 31,
    "start_time": "2023-06-29T05:12:09.683Z"
   },
   {
    "duration": 32,
    "start_time": "2023-06-29T05:12:09.716Z"
   },
   {
    "duration": 34,
    "start_time": "2023-06-29T05:12:09.750Z"
   },
   {
    "duration": 32,
    "start_time": "2023-06-29T05:12:09.786Z"
   },
   {
    "duration": 43,
    "start_time": "2023-06-29T05:12:09.822Z"
   },
   {
    "duration": 31,
    "start_time": "2023-06-29T05:12:09.867Z"
   },
   {
    "duration": 45,
    "start_time": "2023-06-29T05:12:09.900Z"
   },
   {
    "duration": 38,
    "start_time": "2023-06-29T05:12:09.947Z"
   },
   {
    "duration": 36,
    "start_time": "2023-06-29T05:12:09.987Z"
   },
   {
    "duration": 40,
    "start_time": "2023-06-29T05:12:10.025Z"
   },
   {
    "duration": 35,
    "start_time": "2023-06-29T05:12:10.067Z"
   },
   {
    "duration": 84,
    "start_time": "2023-06-29T05:12:10.104Z"
   },
   {
    "duration": 36,
    "start_time": "2023-06-29T05:12:10.190Z"
   },
   {
    "duration": 44,
    "start_time": "2023-06-29T05:12:10.228Z"
   },
   {
    "duration": 95,
    "start_time": "2023-06-29T05:12:32.982Z"
   },
   {
    "duration": 39,
    "start_time": "2023-06-29T05:13:07.582Z"
   },
   {
    "duration": 141,
    "start_time": "2023-06-29T05:13:11.068Z"
   },
   {
    "duration": 44,
    "start_time": "2023-06-29T05:13:15.185Z"
   },
   {
    "duration": 52,
    "start_time": "2023-06-29T05:24:43.890Z"
   },
   {
    "duration": 46,
    "start_time": "2023-06-29T05:24:55.070Z"
   },
   {
    "duration": 35,
    "start_time": "2023-06-29T05:25:21.203Z"
   },
   {
    "duration": 72,
    "start_time": "2023-06-29T05:32:06.816Z"
   },
   {
    "duration": 45,
    "start_time": "2023-06-29T05:32:16.985Z"
   },
   {
    "duration": 45,
    "start_time": "2023-06-29T05:32:57.729Z"
   },
   {
    "duration": 85,
    "start_time": "2023-06-29T05:35:58.510Z"
   },
   {
    "duration": 49,
    "start_time": "2023-06-29T05:36:28.301Z"
   },
   {
    "duration": 54,
    "start_time": "2023-06-29T05:39:12.076Z"
   },
   {
    "duration": 73,
    "start_time": "2023-06-29T05:39:20.766Z"
   },
   {
    "duration": 89,
    "start_time": "2023-06-29T05:39:38.435Z"
   },
   {
    "duration": 64,
    "start_time": "2023-06-29T05:41:27.083Z"
   },
   {
    "duration": 79,
    "start_time": "2023-06-29T05:42:20.219Z"
   },
   {
    "duration": 63,
    "start_time": "2023-06-29T05:43:04.778Z"
   },
   {
    "duration": 66,
    "start_time": "2023-06-29T05:43:15.423Z"
   },
   {
    "duration": 62,
    "start_time": "2023-06-29T05:43:19.186Z"
   },
   {
    "duration": 73,
    "start_time": "2023-06-29T05:43:27.535Z"
   },
   {
    "duration": 86,
    "start_time": "2023-06-29T05:43:40.842Z"
   },
   {
    "duration": 67,
    "start_time": "2023-06-29T05:44:01.937Z"
   },
   {
    "duration": 35,
    "start_time": "2023-06-29T05:45:22.669Z"
   },
   {
    "duration": 39,
    "start_time": "2023-06-29T05:46:22.258Z"
   },
   {
    "duration": 61,
    "start_time": "2023-06-29T05:46:56.986Z"
   },
   {
    "duration": 62,
    "start_time": "2023-06-29T05:47:39.070Z"
   },
   {
    "duration": 44,
    "start_time": "2023-06-29T05:48:47.074Z"
   },
   {
    "duration": 35,
    "start_time": "2023-06-29T05:49:29.869Z"
   },
   {
    "duration": 34,
    "start_time": "2023-06-29T05:50:17.621Z"
   },
   {
    "duration": 36,
    "start_time": "2023-06-29T05:50:30.722Z"
   },
   {
    "duration": 552,
    "start_time": "2023-06-29T13:16:52.469Z"
   },
   {
    "duration": 37263,
    "start_time": "2023-06-29T13:16:53.023Z"
   },
   {
    "duration": 89,
    "start_time": "2023-06-29T13:17:30.288Z"
   },
   {
    "duration": 36,
    "start_time": "2023-06-29T13:17:30.380Z"
   },
   {
    "duration": 85,
    "start_time": "2023-06-29T13:17:30.418Z"
   },
   {
    "duration": 56,
    "start_time": "2023-06-29T13:17:30.505Z"
   },
   {
    "duration": 82,
    "start_time": "2023-06-29T13:17:30.563Z"
   },
   {
    "duration": 96,
    "start_time": "2023-06-29T13:17:30.648Z"
   },
   {
    "duration": 53,
    "start_time": "2023-06-29T13:17:30.746Z"
   },
   {
    "duration": 66,
    "start_time": "2023-06-29T13:17:30.802Z"
   },
   {
    "duration": 50,
    "start_time": "2023-06-29T13:17:30.870Z"
   },
   {
    "duration": 138,
    "start_time": "2023-06-29T13:17:30.922Z"
   },
   {
    "duration": 255,
    "start_time": "2023-06-29T13:17:31.062Z"
   },
   {
    "duration": 57,
    "start_time": "2023-06-29T13:17:31.319Z"
   },
   {
    "duration": 75,
    "start_time": "2023-06-29T13:17:31.378Z"
   },
   {
    "duration": 35,
    "start_time": "2023-06-29T13:17:31.454Z"
   },
   {
    "duration": 38,
    "start_time": "2023-06-29T13:17:31.491Z"
   },
   {
    "duration": 35,
    "start_time": "2023-06-29T13:17:31.530Z"
   },
   {
    "duration": 39,
    "start_time": "2023-06-29T13:17:31.567Z"
   },
   {
    "duration": 37,
    "start_time": "2023-06-29T13:17:31.608Z"
   },
   {
    "duration": 37,
    "start_time": "2023-06-29T13:17:31.646Z"
   }
  ],
  "kernelspec": {
   "display_name": "Python 3 (ipykernel)",
   "language": "python",
   "name": "python3"
  },
  "language_info": {
   "codemirror_mode": {
    "name": "ipython",
    "version": 3
   },
   "file_extension": ".py",
   "mimetype": "text/x-python",
   "name": "python",
   "nbconvert_exporter": "python",
   "pygments_lexer": "ipython3",
   "version": "3.9.13"
  },
  "toc": {
   "base_numbering": 1,
   "nav_menu": {},
   "number_sections": true,
   "sideBar": true,
   "skip_h1_title": true,
   "title_cell": "Table of Contents",
   "title_sidebar": "Contents",
   "toc_cell": true,
   "toc_position": {},
   "toc_section_display": true,
   "toc_window_display": false
  }
 },
 "nbformat": 4,
 "nbformat_minor": 5
}
