{
 "cells": [
  {
   "cell_type": "markdown",
   "id": "348c1bd1",
   "metadata": {},
   "source": [
    "<div style=\"border:solid Chocolate 2px; padding: 40px\">\n",
    "\n",
    "<b>Анастасия, приветствую!</b>\n",
    "\n",
    "Буду рада с тобой познакомиться. Меня зовут Евгения Маракова и я буду ревьюером твоего проекта. Если ты не против, то предлагаю общаться на \"ты\":) Если удобнее на \"вы\", то нет проблем, только скажи об этом.\n",
    "\n",
    "В процессе работы ты встретишь комментарии <font color='green'>зеленого</font>, <font color='gold'>желтого</font> и <font color='red'>красного</font> цветов. Что они значат, смотри ниже:\n",
    "    <br/>\n",
    "\n",
    "<div class=\"alert alert-success\">\n",
    "<h2> Комментарий ревьюера <a class=\"tocSkip\"> </h2>\n",
    "\n",
    "<b>Отлично!✅:</b> Решение на этом шаге является полностью правильным.\n",
    "</div>\n",
    "\n",
    "<br/>\n",
    "\n",
    "<div class=\"alert alert-warning\">\n",
    "    <h2> Комментарий ревьюера <a class=\"tocSkip\"> </h2>\n",
    "    \n",
    "<b>Можно лучше⚠️:</b> Решение на этом шаге станет еще лучше, если внести небольшие коррективы.\n",
    "</div>\n",
    "\n",
    "\n",
    "<br/>\n",
    "<div class=\"alert alert-block alert-danger\">\n",
    "<h2> Комментарий ревьюера <a class=\"tocSkip\"></h2>\n",
    "\n",
    "    \n",
    "<b>Необходимо исправить❌:</b>\n",
    " Решение на этом шаге требует существенной переработки и внесения правок. Напоминаю, что проект не может быть принят с первого раза, если ревью содержит комментарии, рекомендующие доработать шаги.\n",
    "</div>\n",
    "    \n",
    "Увидев мой комментарий, не удаляй его, он будет очень полезен в случае повторной проверки работы😊\n",
    "    \n",
    "Свой комментарий помечай так, как показано ниже, тогда нам будет легче вести диалог, а мне выполнить повторную проверку проекта.\n",
    "    <div class=\"alert alert-info\"> <b>Комментарий студента: </b> </div>\n",
    "    \n"
   ]
  },
  {
   "cell_type": "markdown",
   "id": "3e9281ac",
   "metadata": {
    "deletable": false,
    "editable": false,
    "id": "c81daeeb"
   },
   "source": [
    "# Исследование надежности заемщиков\n"
   ]
  },
  {
   "cell_type": "markdown",
   "id": "8ae1650c",
   "metadata": {
    "deletable": false,
    "editable": false,
    "id": "827c20bf"
   },
   "source": [
    "Во второй части проекта вы выполните шаги 3 и 4. Их вручную проверит ревьюер.\n",
    "Чтобы вам не пришлось писать код заново для шагов 1 и 2, мы добавили авторские решения в ячейки с кодом. \n",
    "\n"
   ]
  },
  {
   "cell_type": "markdown",
   "id": "b50b3674",
   "metadata": {
    "deletable": false,
    "editable": false,
    "id": "744d7639"
   },
   "source": [
    "## Откройте таблицу и изучите общую информацию о данных"
   ]
  },
  {
   "cell_type": "markdown",
   "id": "7cfadda4",
   "metadata": {
    "deletable": false,
    "editable": false,
    "id": "e7a14c31"
   },
   "source": [
    "**Задание 1. Импортируйте библиотеку pandas. Считайте данные из csv-файла в датафрейм и сохраните в переменную `data`. Путь к файлу:**\n",
    "\n",
    "`/datasets/data.csv`"
   ]
  },
  {
   "cell_type": "code",
   "execution_count": 1,
   "id": "19078dda",
   "metadata": {
    "deletable": false,
    "id": "7bcf75c9"
   },
   "outputs": [],
   "source": [
    "import pandas as pd\n",
    "\n",
    "try:\n",
    "    data = pd.read_csv('/datasets/data.csv')\n",
    "except:\n",
    "    data = pd.read_csv('https://code.s3.yandex.net/datasets/data.csv')"
   ]
  },
  {
   "cell_type": "markdown",
   "id": "2b061062",
   "metadata": {
    "deletable": false,
    "editable": false,
    "id": "b8038fe3"
   },
   "source": [
    "**Задание 2. Выведите первые 20 строчек датафрейма `data` на экран.**"
   ]
  },
  {
   "cell_type": "code",
   "execution_count": 2,
   "id": "05027a19",
   "metadata": {
    "deletable": false,
    "id": "2a7cab99",
    "outputId": "1a8f3ef2-d323-4ec2-ddf7-89670b5944c4"
   },
   "outputs": [
    {
     "data": {
      "text/html": [
       "<div>\n",
       "<style scoped>\n",
       "    .dataframe tbody tr th:only-of-type {\n",
       "        vertical-align: middle;\n",
       "    }\n",
       "\n",
       "    .dataframe tbody tr th {\n",
       "        vertical-align: top;\n",
       "    }\n",
       "\n",
       "    .dataframe thead th {\n",
       "        text-align: right;\n",
       "    }\n",
       "</style>\n",
       "<table border=\"1\" class=\"dataframe\">\n",
       "  <thead>\n",
       "    <tr style=\"text-align: right;\">\n",
       "      <th></th>\n",
       "      <th>children</th>\n",
       "      <th>days_employed</th>\n",
       "      <th>dob_years</th>\n",
       "      <th>education</th>\n",
       "      <th>education_id</th>\n",
       "      <th>family_status</th>\n",
       "      <th>family_status_id</th>\n",
       "      <th>gender</th>\n",
       "      <th>income_type</th>\n",
       "      <th>debt</th>\n",
       "      <th>total_income</th>\n",
       "      <th>purpose</th>\n",
       "    </tr>\n",
       "  </thead>\n",
       "  <tbody>\n",
       "    <tr>\n",
       "      <th>0</th>\n",
       "      <td>1</td>\n",
       "      <td>-8437.673028</td>\n",
       "      <td>42</td>\n",
       "      <td>высшее</td>\n",
       "      <td>0</td>\n",
       "      <td>женат / замужем</td>\n",
       "      <td>0</td>\n",
       "      <td>F</td>\n",
       "      <td>сотрудник</td>\n",
       "      <td>0</td>\n",
       "      <td>253875.639453</td>\n",
       "      <td>покупка жилья</td>\n",
       "    </tr>\n",
       "    <tr>\n",
       "      <th>1</th>\n",
       "      <td>1</td>\n",
       "      <td>-4024.803754</td>\n",
       "      <td>36</td>\n",
       "      <td>среднее</td>\n",
       "      <td>1</td>\n",
       "      <td>женат / замужем</td>\n",
       "      <td>0</td>\n",
       "      <td>F</td>\n",
       "      <td>сотрудник</td>\n",
       "      <td>0</td>\n",
       "      <td>112080.014102</td>\n",
       "      <td>приобретение автомобиля</td>\n",
       "    </tr>\n",
       "    <tr>\n",
       "      <th>2</th>\n",
       "      <td>0</td>\n",
       "      <td>-5623.422610</td>\n",
       "      <td>33</td>\n",
       "      <td>Среднее</td>\n",
       "      <td>1</td>\n",
       "      <td>женат / замужем</td>\n",
       "      <td>0</td>\n",
       "      <td>M</td>\n",
       "      <td>сотрудник</td>\n",
       "      <td>0</td>\n",
       "      <td>145885.952297</td>\n",
       "      <td>покупка жилья</td>\n",
       "    </tr>\n",
       "    <tr>\n",
       "      <th>3</th>\n",
       "      <td>3</td>\n",
       "      <td>-4124.747207</td>\n",
       "      <td>32</td>\n",
       "      <td>среднее</td>\n",
       "      <td>1</td>\n",
       "      <td>женат / замужем</td>\n",
       "      <td>0</td>\n",
       "      <td>M</td>\n",
       "      <td>сотрудник</td>\n",
       "      <td>0</td>\n",
       "      <td>267628.550329</td>\n",
       "      <td>дополнительное образование</td>\n",
       "    </tr>\n",
       "    <tr>\n",
       "      <th>4</th>\n",
       "      <td>0</td>\n",
       "      <td>340266.072047</td>\n",
       "      <td>53</td>\n",
       "      <td>среднее</td>\n",
       "      <td>1</td>\n",
       "      <td>гражданский брак</td>\n",
       "      <td>1</td>\n",
       "      <td>F</td>\n",
       "      <td>пенсионер</td>\n",
       "      <td>0</td>\n",
       "      <td>158616.077870</td>\n",
       "      <td>сыграть свадьбу</td>\n",
       "    </tr>\n",
       "    <tr>\n",
       "      <th>5</th>\n",
       "      <td>0</td>\n",
       "      <td>-926.185831</td>\n",
       "      <td>27</td>\n",
       "      <td>высшее</td>\n",
       "      <td>0</td>\n",
       "      <td>гражданский брак</td>\n",
       "      <td>1</td>\n",
       "      <td>M</td>\n",
       "      <td>компаньон</td>\n",
       "      <td>0</td>\n",
       "      <td>255763.565419</td>\n",
       "      <td>покупка жилья</td>\n",
       "    </tr>\n",
       "    <tr>\n",
       "      <th>6</th>\n",
       "      <td>0</td>\n",
       "      <td>-2879.202052</td>\n",
       "      <td>43</td>\n",
       "      <td>высшее</td>\n",
       "      <td>0</td>\n",
       "      <td>женат / замужем</td>\n",
       "      <td>0</td>\n",
       "      <td>F</td>\n",
       "      <td>компаньон</td>\n",
       "      <td>0</td>\n",
       "      <td>240525.971920</td>\n",
       "      <td>операции с жильем</td>\n",
       "    </tr>\n",
       "    <tr>\n",
       "      <th>7</th>\n",
       "      <td>0</td>\n",
       "      <td>-152.779569</td>\n",
       "      <td>50</td>\n",
       "      <td>СРЕДНЕЕ</td>\n",
       "      <td>1</td>\n",
       "      <td>женат / замужем</td>\n",
       "      <td>0</td>\n",
       "      <td>M</td>\n",
       "      <td>сотрудник</td>\n",
       "      <td>0</td>\n",
       "      <td>135823.934197</td>\n",
       "      <td>образование</td>\n",
       "    </tr>\n",
       "    <tr>\n",
       "      <th>8</th>\n",
       "      <td>2</td>\n",
       "      <td>-6929.865299</td>\n",
       "      <td>35</td>\n",
       "      <td>ВЫСШЕЕ</td>\n",
       "      <td>0</td>\n",
       "      <td>гражданский брак</td>\n",
       "      <td>1</td>\n",
       "      <td>F</td>\n",
       "      <td>сотрудник</td>\n",
       "      <td>0</td>\n",
       "      <td>95856.832424</td>\n",
       "      <td>на проведение свадьбы</td>\n",
       "    </tr>\n",
       "    <tr>\n",
       "      <th>9</th>\n",
       "      <td>0</td>\n",
       "      <td>-2188.756445</td>\n",
       "      <td>41</td>\n",
       "      <td>среднее</td>\n",
       "      <td>1</td>\n",
       "      <td>женат / замужем</td>\n",
       "      <td>0</td>\n",
       "      <td>M</td>\n",
       "      <td>сотрудник</td>\n",
       "      <td>0</td>\n",
       "      <td>144425.938277</td>\n",
       "      <td>покупка жилья для семьи</td>\n",
       "    </tr>\n",
       "    <tr>\n",
       "      <th>10</th>\n",
       "      <td>2</td>\n",
       "      <td>-4171.483647</td>\n",
       "      <td>36</td>\n",
       "      <td>высшее</td>\n",
       "      <td>0</td>\n",
       "      <td>женат / замужем</td>\n",
       "      <td>0</td>\n",
       "      <td>M</td>\n",
       "      <td>компаньон</td>\n",
       "      <td>0</td>\n",
       "      <td>113943.491460</td>\n",
       "      <td>покупка недвижимости</td>\n",
       "    </tr>\n",
       "    <tr>\n",
       "      <th>11</th>\n",
       "      <td>0</td>\n",
       "      <td>-792.701887</td>\n",
       "      <td>40</td>\n",
       "      <td>среднее</td>\n",
       "      <td>1</td>\n",
       "      <td>женат / замужем</td>\n",
       "      <td>0</td>\n",
       "      <td>F</td>\n",
       "      <td>сотрудник</td>\n",
       "      <td>0</td>\n",
       "      <td>77069.234271</td>\n",
       "      <td>покупка коммерческой недвижимости</td>\n",
       "    </tr>\n",
       "    <tr>\n",
       "      <th>12</th>\n",
       "      <td>0</td>\n",
       "      <td>NaN</td>\n",
       "      <td>65</td>\n",
       "      <td>среднее</td>\n",
       "      <td>1</td>\n",
       "      <td>гражданский брак</td>\n",
       "      <td>1</td>\n",
       "      <td>M</td>\n",
       "      <td>пенсионер</td>\n",
       "      <td>0</td>\n",
       "      <td>NaN</td>\n",
       "      <td>сыграть свадьбу</td>\n",
       "    </tr>\n",
       "    <tr>\n",
       "      <th>13</th>\n",
       "      <td>0</td>\n",
       "      <td>-1846.641941</td>\n",
       "      <td>54</td>\n",
       "      <td>неоконченное высшее</td>\n",
       "      <td>2</td>\n",
       "      <td>женат / замужем</td>\n",
       "      <td>0</td>\n",
       "      <td>F</td>\n",
       "      <td>сотрудник</td>\n",
       "      <td>0</td>\n",
       "      <td>130458.228857</td>\n",
       "      <td>приобретение автомобиля</td>\n",
       "    </tr>\n",
       "    <tr>\n",
       "      <th>14</th>\n",
       "      <td>0</td>\n",
       "      <td>-1844.956182</td>\n",
       "      <td>56</td>\n",
       "      <td>высшее</td>\n",
       "      <td>0</td>\n",
       "      <td>гражданский брак</td>\n",
       "      <td>1</td>\n",
       "      <td>F</td>\n",
       "      <td>компаньон</td>\n",
       "      <td>1</td>\n",
       "      <td>165127.911772</td>\n",
       "      <td>покупка жилой недвижимости</td>\n",
       "    </tr>\n",
       "    <tr>\n",
       "      <th>15</th>\n",
       "      <td>1</td>\n",
       "      <td>-972.364419</td>\n",
       "      <td>26</td>\n",
       "      <td>среднее</td>\n",
       "      <td>1</td>\n",
       "      <td>женат / замужем</td>\n",
       "      <td>0</td>\n",
       "      <td>F</td>\n",
       "      <td>сотрудник</td>\n",
       "      <td>0</td>\n",
       "      <td>116820.904450</td>\n",
       "      <td>строительство собственной недвижимости</td>\n",
       "    </tr>\n",
       "    <tr>\n",
       "      <th>16</th>\n",
       "      <td>0</td>\n",
       "      <td>-1719.934226</td>\n",
       "      <td>35</td>\n",
       "      <td>среднее</td>\n",
       "      <td>1</td>\n",
       "      <td>женат / замужем</td>\n",
       "      <td>0</td>\n",
       "      <td>F</td>\n",
       "      <td>сотрудник</td>\n",
       "      <td>0</td>\n",
       "      <td>289202.704229</td>\n",
       "      <td>недвижимость</td>\n",
       "    </tr>\n",
       "    <tr>\n",
       "      <th>17</th>\n",
       "      <td>0</td>\n",
       "      <td>-2369.999720</td>\n",
       "      <td>33</td>\n",
       "      <td>высшее</td>\n",
       "      <td>0</td>\n",
       "      <td>гражданский брак</td>\n",
       "      <td>1</td>\n",
       "      <td>M</td>\n",
       "      <td>сотрудник</td>\n",
       "      <td>0</td>\n",
       "      <td>90410.586745</td>\n",
       "      <td>строительство недвижимости</td>\n",
       "    </tr>\n",
       "    <tr>\n",
       "      <th>18</th>\n",
       "      <td>0</td>\n",
       "      <td>400281.136913</td>\n",
       "      <td>53</td>\n",
       "      <td>среднее</td>\n",
       "      <td>1</td>\n",
       "      <td>вдовец / вдова</td>\n",
       "      <td>2</td>\n",
       "      <td>F</td>\n",
       "      <td>пенсионер</td>\n",
       "      <td>0</td>\n",
       "      <td>56823.777243</td>\n",
       "      <td>на покупку подержанного автомобиля</td>\n",
       "    </tr>\n",
       "    <tr>\n",
       "      <th>19</th>\n",
       "      <td>0</td>\n",
       "      <td>-10038.818549</td>\n",
       "      <td>48</td>\n",
       "      <td>СРЕДНЕЕ</td>\n",
       "      <td>1</td>\n",
       "      <td>в разводе</td>\n",
       "      <td>3</td>\n",
       "      <td>F</td>\n",
       "      <td>сотрудник</td>\n",
       "      <td>0</td>\n",
       "      <td>242831.107982</td>\n",
       "      <td>на покупку своего автомобиля</td>\n",
       "    </tr>\n",
       "  </tbody>\n",
       "</table>\n",
       "</div>"
      ],
      "text/plain": [
       "    children  days_employed  dob_years            education  education_id  \\\n",
       "0          1   -8437.673028         42               высшее             0   \n",
       "1          1   -4024.803754         36              среднее             1   \n",
       "2          0   -5623.422610         33              Среднее             1   \n",
       "3          3   -4124.747207         32              среднее             1   \n",
       "4          0  340266.072047         53              среднее             1   \n",
       "5          0    -926.185831         27               высшее             0   \n",
       "6          0   -2879.202052         43               высшее             0   \n",
       "7          0    -152.779569         50              СРЕДНЕЕ             1   \n",
       "8          2   -6929.865299         35               ВЫСШЕЕ             0   \n",
       "9          0   -2188.756445         41              среднее             1   \n",
       "10         2   -4171.483647         36               высшее             0   \n",
       "11         0    -792.701887         40              среднее             1   \n",
       "12         0            NaN         65              среднее             1   \n",
       "13         0   -1846.641941         54  неоконченное высшее             2   \n",
       "14         0   -1844.956182         56               высшее             0   \n",
       "15         1    -972.364419         26              среднее             1   \n",
       "16         0   -1719.934226         35              среднее             1   \n",
       "17         0   -2369.999720         33               высшее             0   \n",
       "18         0  400281.136913         53              среднее             1   \n",
       "19         0  -10038.818549         48              СРЕДНЕЕ             1   \n",
       "\n",
       "       family_status  family_status_id gender income_type  debt  \\\n",
       "0    женат / замужем                 0      F   сотрудник     0   \n",
       "1    женат / замужем                 0      F   сотрудник     0   \n",
       "2    женат / замужем                 0      M   сотрудник     0   \n",
       "3    женат / замужем                 0      M   сотрудник     0   \n",
       "4   гражданский брак                 1      F   пенсионер     0   \n",
       "5   гражданский брак                 1      M   компаньон     0   \n",
       "6    женат / замужем                 0      F   компаньон     0   \n",
       "7    женат / замужем                 0      M   сотрудник     0   \n",
       "8   гражданский брак                 1      F   сотрудник     0   \n",
       "9    женат / замужем                 0      M   сотрудник     0   \n",
       "10   женат / замужем                 0      M   компаньон     0   \n",
       "11   женат / замужем                 0      F   сотрудник     0   \n",
       "12  гражданский брак                 1      M   пенсионер     0   \n",
       "13   женат / замужем                 0      F   сотрудник     0   \n",
       "14  гражданский брак                 1      F   компаньон     1   \n",
       "15   женат / замужем                 0      F   сотрудник     0   \n",
       "16   женат / замужем                 0      F   сотрудник     0   \n",
       "17  гражданский брак                 1      M   сотрудник     0   \n",
       "18    вдовец / вдова                 2      F   пенсионер     0   \n",
       "19         в разводе                 3      F   сотрудник     0   \n",
       "\n",
       "     total_income                                 purpose  \n",
       "0   253875.639453                           покупка жилья  \n",
       "1   112080.014102                 приобретение автомобиля  \n",
       "2   145885.952297                           покупка жилья  \n",
       "3   267628.550329              дополнительное образование  \n",
       "4   158616.077870                         сыграть свадьбу  \n",
       "5   255763.565419                           покупка жилья  \n",
       "6   240525.971920                       операции с жильем  \n",
       "7   135823.934197                             образование  \n",
       "8    95856.832424                   на проведение свадьбы  \n",
       "9   144425.938277                 покупка жилья для семьи  \n",
       "10  113943.491460                    покупка недвижимости  \n",
       "11   77069.234271       покупка коммерческой недвижимости  \n",
       "12            NaN                         сыграть свадьбу  \n",
       "13  130458.228857                 приобретение автомобиля  \n",
       "14  165127.911772              покупка жилой недвижимости  \n",
       "15  116820.904450  строительство собственной недвижимости  \n",
       "16  289202.704229                            недвижимость  \n",
       "17   90410.586745              строительство недвижимости  \n",
       "18   56823.777243      на покупку подержанного автомобиля  \n",
       "19  242831.107982            на покупку своего автомобиля  "
      ]
     },
     "execution_count": 2,
     "metadata": {},
     "output_type": "execute_result"
    }
   ],
   "source": [
    "data.head(20)"
   ]
  },
  {
   "cell_type": "markdown",
   "id": "e71ccefa",
   "metadata": {
    "deletable": false,
    "editable": false,
    "id": "1c12e233"
   },
   "source": [
    "**Задание 3. Выведите основную информацию о датафрейме с помощью метода `info()`.**"
   ]
  },
  {
   "cell_type": "code",
   "execution_count": 3,
   "id": "cf3afc51",
   "metadata": {
    "deletable": false,
    "id": "2b757bca",
    "outputId": "15376089-8dad-46c9-b520-c05248d43158"
   },
   "outputs": [
    {
     "name": "stdout",
     "output_type": "stream",
     "text": [
      "<class 'pandas.core.frame.DataFrame'>\n",
      "RangeIndex: 21525 entries, 0 to 21524\n",
      "Data columns (total 12 columns):\n",
      " #   Column            Non-Null Count  Dtype  \n",
      "---  ------            --------------  -----  \n",
      " 0   children          21525 non-null  int64  \n",
      " 1   days_employed     19351 non-null  float64\n",
      " 2   dob_years         21525 non-null  int64  \n",
      " 3   education         21525 non-null  object \n",
      " 4   education_id      21525 non-null  int64  \n",
      " 5   family_status     21525 non-null  object \n",
      " 6   family_status_id  21525 non-null  int64  \n",
      " 7   gender            21525 non-null  object \n",
      " 8   income_type       21525 non-null  object \n",
      " 9   debt              21525 non-null  int64  \n",
      " 10  total_income      19351 non-null  float64\n",
      " 11  purpose           21525 non-null  object \n",
      "dtypes: float64(2), int64(5), object(5)\n",
      "memory usage: 2.0+ MB\n"
     ]
    }
   ],
   "source": [
    "data.info()"
   ]
  },
  {
   "cell_type": "markdown",
   "id": "d5a45479",
   "metadata": {},
   "source": [
    "<div class=\"alert alert-success\">\n",
    "<h2> Комментарий ревьюера <a class=\"tocSkip\"> </h2>\n",
    "\n",
    "<b>Отлично!✅:</b> Молодец, ты корректно открыла таблицу и вывела общую информацию о файле!\n",
    "\n",
    "</div>"
   ]
  },
  {
   "cell_type": "markdown",
   "id": "d70064a1",
   "metadata": {
    "deletable": false,
    "editable": false,
    "id": "333ec665"
   },
   "source": [
    "## Предобработка данных"
   ]
  },
  {
   "cell_type": "markdown",
   "id": "a783f236",
   "metadata": {
    "deletable": false,
    "editable": false,
    "id": "02d92d53"
   },
   "source": [
    "### Удаление пропусков"
   ]
  },
  {
   "cell_type": "markdown",
   "id": "a0e2ae7c",
   "metadata": {
    "deletable": false,
    "editable": false,
    "id": "cd84967c"
   },
   "source": [
    "**Задание 4. Выведите количество пропущенных значений для каждого столбца. Используйте комбинацию двух методов.**"
   ]
  },
  {
   "cell_type": "code",
   "execution_count": 4,
   "id": "85354f23",
   "metadata": {
    "deletable": false,
    "id": "7f9b2309",
    "outputId": "81f4d817-781c-465c-ed15-91ce4446810d"
   },
   "outputs": [
    {
     "data": {
      "text/plain": [
       "children               0\n",
       "days_employed       2174\n",
       "dob_years              0\n",
       "education              0\n",
       "education_id           0\n",
       "family_status          0\n",
       "family_status_id       0\n",
       "gender                 0\n",
       "income_type            0\n",
       "debt                   0\n",
       "total_income        2174\n",
       "purpose                0\n",
       "dtype: int64"
      ]
     },
     "execution_count": 4,
     "metadata": {},
     "output_type": "execute_result"
    }
   ],
   "source": [
    "data.isna().sum()"
   ]
  },
  {
   "cell_type": "markdown",
   "id": "d17934fb",
   "metadata": {
    "deletable": false,
    "editable": false,
    "id": "db86e27b"
   },
   "source": [
    "**Задание 5. В двух столбцах есть пропущенные значения. Один из них — `days_employed`. Пропуски в этом столбце вы обработаете на следующем этапе. Другой столбец с пропущенными значениями — `total_income` — хранит данные о доходах. На сумму дохода сильнее всего влияет тип занятости, поэтому заполнить пропуски в этом столбце нужно медианным значением по каждому типу из столбца `income_type`. Например, у человека с типом занятости `сотрудник` пропуск в столбце `total_income` должен быть заполнен медианным доходом среди всех записей с тем же типом.**"
   ]
  },
  {
   "cell_type": "code",
   "execution_count": 5,
   "id": "8591ccb1",
   "metadata": {
    "deletable": false,
    "id": "42006a93"
   },
   "outputs": [],
   "source": [
    "for t in data['income_type'].unique():\n",
    "    data.loc[(data['income_type'] == t) & (data['total_income'].isna()), 'total_income'] = \\\n",
    "    data.loc[(data['income_type'] == t), 'total_income'].median()"
   ]
  },
  {
   "cell_type": "markdown",
   "id": "79a6d5aa",
   "metadata": {
    "deletable": false,
    "editable": false,
    "id": "89da5ece"
   },
   "source": [
    "### Обработка аномальных значений"
   ]
  },
  {
   "cell_type": "markdown",
   "id": "f3a8e6ab",
   "metadata": {
    "deletable": false,
    "editable": false,
    "id": "57964554"
   },
   "source": [
    "**Задание 6. В данных могут встречаться артефакты (аномалии) — значения, которые не отражают действительность и появились по какой-то ошибке. таким артефактом будет отрицательное количество дней трудового стажа в столбце `days_employed`. Для реальных данных это нормально. Обработайте значения в этом столбце: замените все отрицательные значения положительными с помощью метода `abs()`.**"
   ]
  },
  {
   "cell_type": "code",
   "execution_count": 6,
   "id": "b38e1f91",
   "metadata": {
    "deletable": false,
    "id": "f6f055bf"
   },
   "outputs": [],
   "source": [
    "data['days_employed'] = data['days_employed'].abs()"
   ]
  },
  {
   "cell_type": "markdown",
   "id": "441b95b0",
   "metadata": {
    "deletable": false,
    "editable": false,
    "id": "6107dd2f"
   },
   "source": [
    "**Задание 7. Для каждого типа занятости выведите медианное значение трудового стажа `days_employed` в днях.**"
   ]
  },
  {
   "cell_type": "code",
   "execution_count": 7,
   "id": "50e374de",
   "metadata": {
    "deletable": false,
    "id": "85a5faf6",
    "outputId": "801ef80e-522b-4668-f34e-565af7432bcf"
   },
   "outputs": [
    {
     "data": {
      "text/plain": [
       "income_type\n",
       "безработный        366413.652744\n",
       "в декрете            3296.759962\n",
       "госслужащий          2689.368353\n",
       "компаньон            1547.382223\n",
       "пенсионер          365213.306266\n",
       "предприниматель       520.848083\n",
       "сотрудник            1574.202821\n",
       "студент               578.751554\n",
       "Name: days_employed, dtype: float64"
      ]
     },
     "execution_count": 7,
     "metadata": {},
     "output_type": "execute_result"
    }
   ],
   "source": [
    "data.groupby('income_type')['days_employed'].agg('median')"
   ]
  },
  {
   "cell_type": "markdown",
   "id": "2be0c9bd",
   "metadata": {
    "deletable": false,
    "editable": false,
    "id": "38d1a030"
   },
   "source": [
    "У двух типов (безработные и пенсионеры) получатся аномально большие значения. Исправить такие значения сложно, поэтому оставьте их как есть. Тем более этот столбец не понадобится вам для исследования."
   ]
  },
  {
   "cell_type": "markdown",
   "id": "129eb160",
   "metadata": {
    "deletable": false,
    "editable": false,
    "id": "d8a9f147"
   },
   "source": [
    "**Задание 8. Выведите перечень уникальных значений столбца `children`.**"
   ]
  },
  {
   "cell_type": "code",
   "execution_count": 8,
   "id": "26002494",
   "metadata": {
    "deletable": false,
    "id": "ef5056eb",
    "outputId": "6975b15c-7f95-4697-d16d-a0c79b657b03"
   },
   "outputs": [
    {
     "data": {
      "text/plain": [
       "array([ 1,  0,  3,  2, -1,  4, 20,  5])"
      ]
     },
     "execution_count": 8,
     "metadata": {},
     "output_type": "execute_result"
    }
   ],
   "source": [
    "data['children'].unique()"
   ]
  },
  {
   "cell_type": "markdown",
   "id": "ed800b68",
   "metadata": {
    "deletable": false,
    "editable": false,
    "id": "40b9ebf2"
   },
   "source": [
    "**Задание 9. В столбце `children` есть два аномальных значения. Удалите строки, в которых встречаются такие аномальные значения из датафрейма `data`.**"
   ]
  },
  {
   "cell_type": "code",
   "execution_count": 9,
   "id": "f0bca221",
   "metadata": {
    "deletable": false,
    "id": "3ff9801d"
   },
   "outputs": [],
   "source": [
    "data = data[(data['children'] != -1) & (data['children'] != 20)]"
   ]
  },
  {
   "cell_type": "markdown",
   "id": "6b819525",
   "metadata": {
    "deletable": false,
    "editable": false,
    "id": "bbc4d0ce"
   },
   "source": [
    "**Задание 10. Ещё раз выведите перечень уникальных значений столбца `children`, чтобы убедиться, что артефакты удалены.**"
   ]
  },
  {
   "cell_type": "code",
   "execution_count": 10,
   "id": "903dfcbf",
   "metadata": {
    "deletable": false,
    "id": "ad4fa8b7",
    "outputId": "b2097101-d49d-44d9-901b-32a65c9463d1"
   },
   "outputs": [
    {
     "data": {
      "text/plain": [
       "array([1, 0, 3, 2, 4, 5])"
      ]
     },
     "execution_count": 10,
     "metadata": {},
     "output_type": "execute_result"
    }
   ],
   "source": [
    "data['children'].unique()"
   ]
  },
  {
   "cell_type": "markdown",
   "id": "00e5a349",
   "metadata": {
    "deletable": false,
    "editable": false,
    "id": "75440b63"
   },
   "source": [
    "### Удаление пропусков (продолжение)"
   ]
  },
  {
   "cell_type": "markdown",
   "id": "6ecfbfe9",
   "metadata": {
    "deletable": false,
    "editable": false,
    "id": "f4ea573f"
   },
   "source": [
    "**Задание 11. Заполните пропуски в столбце `days_employed` медианными значениями по каждого типа занятости `income_type`.**"
   ]
  },
  {
   "cell_type": "code",
   "execution_count": 11,
   "id": "55b99090",
   "metadata": {
    "deletable": false,
    "id": "af6b1a7e"
   },
   "outputs": [],
   "source": [
    "for t in data['income_type'].unique():\n",
    "    data.loc[(data['income_type'] == t) & (data['days_employed'].isna()), 'days_employed'] = \\\n",
    "    data.loc[(data['income_type'] == t), 'days_employed'].median()"
   ]
  },
  {
   "cell_type": "markdown",
   "id": "178dbde3",
   "metadata": {
    "deletable": false,
    "editable": false,
    "id": "2753f40d"
   },
   "source": [
    "**Задание 12. Убедитесь, что все пропуски заполнены. Проверьте себя и ещё раз выведите количество пропущенных значений для каждого столбца с помощью двух методов.**"
   ]
  },
  {
   "cell_type": "code",
   "execution_count": 12,
   "id": "7d9400af",
   "metadata": {
    "deletable": false,
    "id": "55f78bc2",
    "outputId": "8da1e4e1-358e-4e87-98c9-f261bce0a7b2"
   },
   "outputs": [
    {
     "data": {
      "text/plain": [
       "children            0\n",
       "days_employed       0\n",
       "dob_years           0\n",
       "education           0\n",
       "education_id        0\n",
       "family_status       0\n",
       "family_status_id    0\n",
       "gender              0\n",
       "income_type         0\n",
       "debt                0\n",
       "total_income        0\n",
       "purpose             0\n",
       "dtype: int64"
      ]
     },
     "execution_count": 12,
     "metadata": {},
     "output_type": "execute_result"
    }
   ],
   "source": [
    "data.isna().sum()"
   ]
  },
  {
   "cell_type": "markdown",
   "id": "3de6db3e",
   "metadata": {
    "deletable": false,
    "editable": false,
    "id": "ddc81e43"
   },
   "source": [
    "### Изменение типов данных"
   ]
  },
  {
   "cell_type": "markdown",
   "id": "c8b59a1d",
   "metadata": {
    "deletable": false,
    "editable": false,
    "id": "42d19d24"
   },
   "source": [
    "**Задание 13. Замените вещественный тип данных в столбце `total_income` на целочисленный с помощью метода `astype()`.**"
   ]
  },
  {
   "cell_type": "code",
   "execution_count": 13,
   "id": "d94f7732",
   "metadata": {
    "deletable": false,
    "id": "920b65ad"
   },
   "outputs": [],
   "source": [
    "data['total_income'] = data['total_income'].astype(int)"
   ]
  },
  {
   "cell_type": "markdown",
   "id": "49ee3576",
   "metadata": {
    "deletable": false,
    "editable": false,
    "id": "80c420ba"
   },
   "source": [
    "### Обработка дубликатов"
   ]
  },
  {
   "cell_type": "markdown",
   "id": "68821cfd",
   "metadata": {
    "deletable": false,
    "editable": false
   },
   "source": [
    "**Задание 14. Обработайте неявные дубликаты в столбце `education`. В этом столбце есть одни и те же значения, но записанные по-разному: с использованием заглавных и строчных букв. Приведите их к нижнему регистру.**"
   ]
  },
  {
   "cell_type": "code",
   "execution_count": 14,
   "id": "76ddab34",
   "metadata": {
    "deletable": false
   },
   "outputs": [],
   "source": [
    "data['education'] = data['education'].str.lower()"
   ]
  },
  {
   "cell_type": "markdown",
   "id": "899c67af",
   "metadata": {
    "deletable": false,
    "editable": false,
    "id": "dc587695"
   },
   "source": [
    "**Задание 15. Выведите на экран количество строк-дубликатов в данных. Если такие строки присутствуют, удалите их.**"
   ]
  },
  {
   "cell_type": "code",
   "execution_count": 15,
   "id": "54fa6477",
   "metadata": {
    "deletable": false,
    "id": "3ee445e4",
    "outputId": "9684deba-1934-42d1-99e1-cda61740f822"
   },
   "outputs": [
    {
     "data": {
      "text/plain": [
       "71"
      ]
     },
     "execution_count": 15,
     "metadata": {},
     "output_type": "execute_result"
    }
   ],
   "source": [
    "data.duplicated().sum()"
   ]
  },
  {
   "cell_type": "code",
   "execution_count": 16,
   "id": "a8bef61e",
   "metadata": {
    "deletable": false,
    "id": "8575fe05"
   },
   "outputs": [],
   "source": [
    "data = data.drop_duplicates()"
   ]
  },
  {
   "cell_type": "markdown",
   "id": "44692f31",
   "metadata": {
    "deletable": false,
    "editable": false,
    "id": "9904cf55"
   },
   "source": [
    "### Категоризация данных"
   ]
  },
  {
   "cell_type": "markdown",
   "id": "adcc7394",
   "metadata": {
    "deletable": false,
    "editable": false,
    "id": "72fcc8a2"
   },
   "source": [
    "**Задание 16. На основании диапазонов, указанных ниже, создайте в датафрейме `data` столбец `total_income_category` с категориями:**\n",
    "\n",
    "- 0–30000 — `'E'`;\n",
    "- 30001–50000 — `'D'`;\n",
    "- 50001–200000 — `'C'`;\n",
    "- 200001–1000000 — `'B'`;\n",
    "- 1000001 и выше — `'A'`.\n",
    "\n",
    "\n",
    "**Например, кредитополучателю с доходом 25000 нужно назначить категорию `'E'`, а клиенту, получающему 235000, — `'B'`. Используйте собственную функцию с именем `categorize_income()` и метод `apply()`.**"
   ]
  },
  {
   "cell_type": "code",
   "execution_count": 17,
   "id": "4f052de7",
   "metadata": {
    "deletable": false,
    "id": "e1771346"
   },
   "outputs": [],
   "source": [
    "def categorize_income(income):\n",
    "    try:\n",
    "        if 0 <= income <= 30000:\n",
    "            return 'E'\n",
    "        elif 30001 <= income <= 50000:\n",
    "            return 'D'\n",
    "        elif 50001 <= income <= 200000:\n",
    "            return 'C'\n",
    "        elif 200001 <= income <= 1000000:\n",
    "            return 'B'\n",
    "        elif income >= 1000001:\n",
    "            return 'A'\n",
    "    except:\n",
    "        pass"
   ]
  },
  {
   "cell_type": "code",
   "execution_count": 18,
   "id": "79dce5bf",
   "metadata": {
    "deletable": false,
    "id": "d5f3586d"
   },
   "outputs": [],
   "source": [
    "data['total_income_category'] = data['total_income'].apply(categorize_income)"
   ]
  },
  {
   "cell_type": "markdown",
   "id": "6ac362ff",
   "metadata": {
    "deletable": false,
    "editable": false,
    "id": "dde49b5c"
   },
   "source": [
    "**Задание 17. Выведите на экран перечень уникальных целей взятия кредита из столбца `purpose`.**"
   ]
  },
  {
   "cell_type": "code",
   "execution_count": 19,
   "id": "212e31f6",
   "metadata": {
    "deletable": false,
    "id": "f67ce9b3",
    "outputId": "673c12d9-7d7e-4ae0-9812-c622c89dd244"
   },
   "outputs": [
    {
     "data": {
      "text/plain": [
       "array(['покупка жилья', 'приобретение автомобиля',\n",
       "       'дополнительное образование', 'сыграть свадьбу',\n",
       "       'операции с жильем', 'образование', 'на проведение свадьбы',\n",
       "       'покупка жилья для семьи', 'покупка недвижимости',\n",
       "       'покупка коммерческой недвижимости', 'покупка жилой недвижимости',\n",
       "       'строительство собственной недвижимости', 'недвижимость',\n",
       "       'строительство недвижимости', 'на покупку подержанного автомобиля',\n",
       "       'на покупку своего автомобиля',\n",
       "       'операции с коммерческой недвижимостью',\n",
       "       'строительство жилой недвижимости', 'жилье',\n",
       "       'операции со своей недвижимостью', 'автомобили',\n",
       "       'заняться образованием', 'сделка с подержанным автомобилем',\n",
       "       'получение образования', 'автомобиль', 'свадьба',\n",
       "       'получение дополнительного образования', 'покупка своего жилья',\n",
       "       'операции с недвижимостью', 'получение высшего образования',\n",
       "       'свой автомобиль', 'сделка с автомобилем',\n",
       "       'профильное образование', 'высшее образование',\n",
       "       'покупка жилья для сдачи', 'на покупку автомобиля', 'ремонт жилью',\n",
       "       'заняться высшим образованием'], dtype=object)"
      ]
     },
     "execution_count": 19,
     "metadata": {},
     "output_type": "execute_result"
    }
   ],
   "source": [
    "data['purpose'].unique()"
   ]
  },
  {
   "cell_type": "markdown",
   "id": "c0eaa8ba",
   "metadata": {
    "deletable": false,
    "editable": false,
    "id": "85d0aef0"
   },
   "source": [
    "**Задание 18. Создайте функцию, которая на основании данных из столбца `purpose` сформирует новый столбец `purpose_category`, в который войдут следующие категории:**\n",
    "\n",
    "- `'операции с автомобилем'`,\n",
    "- `'операции с недвижимостью'`,\n",
    "- `'проведение свадьбы'`,\n",
    "- `'получение образования'`.\n",
    "\n",
    "**Например, если в столбце `purpose` находится подстрока `'на покупку автомобиля'`, то в столбце `purpose_category` должна появиться строка `'операции с автомобилем'`.**\n",
    "\n",
    "**Используйте собственную функцию с именем `categorize_purpose()` и метод `apply()`. Изучите данные в столбце `purpose` и определите, какие подстроки помогут вам правильно определить категорию.**"
   ]
  },
  {
   "cell_type": "code",
   "execution_count": 20,
   "id": "354443b6",
   "metadata": {
    "deletable": false,
    "id": "e149fab4"
   },
   "outputs": [],
   "source": [
    "def categorize_purpose(row):\n",
    "    try:\n",
    "        if 'автом' in row:\n",
    "            return 'операции с автомобилем'\n",
    "        elif 'жил' in row or 'недвиж' in row:\n",
    "            return 'операции с недвижимостью'\n",
    "        elif 'свад' in row:\n",
    "            return 'проведение свадьбы'\n",
    "        elif 'образов' in row:\n",
    "            return 'получение образования'\n",
    "    except:\n",
    "        return 'нет категории'"
   ]
  },
  {
   "cell_type": "code",
   "execution_count": 21,
   "id": "1dc80cce",
   "metadata": {
    "deletable": false,
    "id": "bf36e69b"
   },
   "outputs": [],
   "source": [
    "data['purpose_category'] = data['purpose'].apply(categorize_purpose)"
   ]
  },
  {
   "cell_type": "markdown",
   "id": "cf1f3ee2",
   "metadata": {},
   "source": [
    "<div class=\"alert alert-success\">\n",
    "<h2> Комментарий ревьюера <a class=\"tocSkip\"> </h2>\n",
    "\n",
    "<b>Отлично!✅:</b> Настя, предобработка данных выполнена превосходно!\n",
    "\n",
    "</div>"
   ]
  },
  {
   "cell_type": "markdown",
   "id": "73e0799c",
   "metadata": {
    "deletable": false,
    "editable": false,
    "id": "09b242bf"
   },
   "source": [
    "### Шаг 3. Исследуйте данные и ответьте на вопросы"
   ]
  },
  {
   "cell_type": "markdown",
   "id": "029094cc",
   "metadata": {
    "deletable": false,
    "editable": false,
    "id": "c5d66278"
   },
   "source": [
    "#### 3.1 Есть ли зависимость между количеством детей и возвратом кредита в срок?"
   ]
  },
  {
   "cell_type": "code",
   "execution_count": 22,
   "id": "6e730d2b",
   "metadata": {
    "deletable": false,
    "id": "2cacfc4a",
    "scrolled": true
   },
   "outputs": [
    {
     "data": {
      "text/html": [
       "<div>\n",
       "<style scoped>\n",
       "    .dataframe tbody tr th:only-of-type {\n",
       "        vertical-align: middle;\n",
       "    }\n",
       "\n",
       "    .dataframe tbody tr th {\n",
       "        vertical-align: top;\n",
       "    }\n",
       "\n",
       "    .dataframe thead tr th {\n",
       "        text-align: left;\n",
       "    }\n",
       "\n",
       "    .dataframe thead tr:last-of-type th {\n",
       "        text-align: right;\n",
       "    }\n",
       "</style>\n",
       "<table border=\"1\" class=\"dataframe\">\n",
       "  <thead>\n",
       "    <tr>\n",
       "      <th></th>\n",
       "      <th colspan=\"3\" halign=\"left\">debt</th>\n",
       "    </tr>\n",
       "    <tr>\n",
       "      <th></th>\n",
       "      <th>count</th>\n",
       "      <th>sum</th>\n",
       "      <th>mean</th>\n",
       "    </tr>\n",
       "    <tr>\n",
       "      <th>children</th>\n",
       "      <th></th>\n",
       "      <th></th>\n",
       "      <th></th>\n",
       "    </tr>\n",
       "  </thead>\n",
       "  <tbody>\n",
       "    <tr>\n",
       "      <th>0</th>\n",
       "      <td>14091</td>\n",
       "      <td>1063</td>\n",
       "      <td>0.075438</td>\n",
       "    </tr>\n",
       "    <tr>\n",
       "      <th>1</th>\n",
       "      <td>4808</td>\n",
       "      <td>444</td>\n",
       "      <td>0.092346</td>\n",
       "    </tr>\n",
       "    <tr>\n",
       "      <th>2</th>\n",
       "      <td>2052</td>\n",
       "      <td>194</td>\n",
       "      <td>0.094542</td>\n",
       "    </tr>\n",
       "    <tr>\n",
       "      <th>3</th>\n",
       "      <td>330</td>\n",
       "      <td>27</td>\n",
       "      <td>0.081818</td>\n",
       "    </tr>\n",
       "    <tr>\n",
       "      <th>4</th>\n",
       "      <td>41</td>\n",
       "      <td>4</td>\n",
       "      <td>0.097561</td>\n",
       "    </tr>\n",
       "    <tr>\n",
       "      <th>5</th>\n",
       "      <td>9</td>\n",
       "      <td>0</td>\n",
       "      <td>0.000000</td>\n",
       "    </tr>\n",
       "  </tbody>\n",
       "</table>\n",
       "</div>"
      ],
      "text/plain": [
       "           debt                \n",
       "          count   sum      mean\n",
       "children                       \n",
       "0         14091  1063  0.075438\n",
       "1          4808   444  0.092346\n",
       "2          2052   194  0.094542\n",
       "3           330    27  0.081818\n",
       "4            41     4  0.097561\n",
       "5             9     0  0.000000"
      ]
     },
     "execution_count": 22,
     "metadata": {},
     "output_type": "execute_result"
    }
   ],
   "source": [
    "data_grouped = data.groupby(['children']).agg({'debt':['count','sum','mean']}) # Сгруппируем исходную таблицу по кол-ву детей в зависимости от наличия задолженности# Установим правило форматирования для float\n",
    "data_grouped"
   ]
  },
  {
   "cell_type": "markdown",
   "id": "6b25172c",
   "metadata": {
    "deletable": false,
    "id": "3a6b99ec"
   },
   "source": [
    "**Вывод:** По полученным данным можно сделать следующие выводы:\n",
    "- В категории от 0 до 2 детей, вероятность не вернуть кредит в срок растет с увеличением кол-ва детей.\n",
    " \n",
    "- В категории от 3 до 5 детей, данных становится сильно меньше, поэтому говорить о прямой зависимости между кол-вом детей и возвратом кредита в срок, в данных категориях сложно.\n",
    "\n",
    "\n"
   ]
  },
  {
   "cell_type": "markdown",
   "id": "64f789f1",
   "metadata": {},
   "source": [
    "<div class=\"alert alert-success\">\n",
    "<h2> Комментарий ревьюера <a class=\"tocSkip\"> </h2>\n",
    "\n",
    "<b>Отлично!✅:</b> Настя, молодец, ты верно вывела сводную таблицу! Действительно, выборки несбалансированны, поэтому для выявления зависимости сравниваются самые многочисленные и сопоставимые по размеру выборки. \n",
    "\n",
    "</div>"
   ]
  },
  {
   "cell_type": "markdown",
   "id": "82706a5b",
   "metadata": {
    "deletable": false,
    "editable": false,
    "id": "97be82ca"
   },
   "source": [
    "#### 3.2 Есть ли зависимость между семейным положением и возвратом кредита в срок?"
   ]
  },
  {
   "cell_type": "code",
   "execution_count": 23,
   "id": "fcc689ac",
   "metadata": {
    "deletable": false,
    "id": "dc3f7ee8"
   },
   "outputs": [
    {
     "data": {
      "text/html": [
       "<div>\n",
       "<style scoped>\n",
       "    .dataframe tbody tr th:only-of-type {\n",
       "        vertical-align: middle;\n",
       "    }\n",
       "\n",
       "    .dataframe tbody tr th {\n",
       "        vertical-align: top;\n",
       "    }\n",
       "\n",
       "    .dataframe thead th {\n",
       "        text-align: right;\n",
       "    }\n",
       "</style>\n",
       "<table border=\"1\" class=\"dataframe\">\n",
       "  <thead>\n",
       "    <tr style=\"text-align: right;\">\n",
       "      <th></th>\n",
       "      <th>count</th>\n",
       "      <th>mean</th>\n",
       "      <th>sum</th>\n",
       "    </tr>\n",
       "    <tr>\n",
       "      <th>family_status</th>\n",
       "      <th></th>\n",
       "      <th></th>\n",
       "      <th></th>\n",
       "    </tr>\n",
       "  </thead>\n",
       "  <tbody>\n",
       "    <tr>\n",
       "      <th>вдовец / вдова</th>\n",
       "      <td>951.0</td>\n",
       "      <td>6.6</td>\n",
       "      <td>63.0</td>\n",
       "    </tr>\n",
       "    <tr>\n",
       "      <th>в разводе</th>\n",
       "      <td>1,189.0</td>\n",
       "      <td>7.1</td>\n",
       "      <td>84.0</td>\n",
       "    </tr>\n",
       "    <tr>\n",
       "      <th>женат / замужем</th>\n",
       "      <td>12,261.0</td>\n",
       "      <td>7.6</td>\n",
       "      <td>927.0</td>\n",
       "    </tr>\n",
       "    <tr>\n",
       "      <th>гражданский брак</th>\n",
       "      <td>4,134.0</td>\n",
       "      <td>9.3</td>\n",
       "      <td>385.0</td>\n",
       "    </tr>\n",
       "    <tr>\n",
       "      <th>Не женат / не замужем</th>\n",
       "      <td>2,796.0</td>\n",
       "      <td>9.8</td>\n",
       "      <td>273.0</td>\n",
       "    </tr>\n",
       "  </tbody>\n",
       "</table>\n",
       "</div>"
      ],
      "text/plain": [
       "                         count  mean   sum\n",
       "family_status                             \n",
       "вдовец / вдова           951.0   6.6  63.0\n",
       "в разводе              1,189.0   7.1  84.0\n",
       "женат / замужем       12,261.0   7.6 927.0\n",
       "гражданский брак       4,134.0   9.3 385.0\n",
       "Не женат / не замужем  2,796.0   9.8 273.0"
      ]
     },
     "execution_count": 23,
     "metadata": {},
     "output_type": "execute_result"
    }
   ],
   "source": [
    "pd.options.display.float_format = '{:,.1f}'.format # Вернем формат отображения 1 знака после запятой\n",
    "data_pivot = data.pivot_table(index=['family_status'], values='debt', aggfunc=('sum','count','mean'))# Построим сводную таблицу зависимости меду семейным положением и возвратом кредита в срок\n",
    "data_pivot['mean']=data_pivot['mean']*100 # Отобразим среднее значние в виде процентов\n",
    "data_pivot.sort_values(by=['mean']) # Отсортируем таблицу по значению mean\n"
   ]
  },
  {
   "cell_type": "markdown",
   "id": "67caec46",
   "metadata": {
    "deletable": false,
    "id": "1cef7837"
   },
   "source": [
    "**Вывод:** \n",
    "- Наибольшую вероятность не вернуть кредит в срок имеют кредиторы со статусами `'Не женат/не замужем' и 'Гражданский брак'`.\n",
    "- Меньше всего не возвращают кредит в срок `'Вдовцы/Вдовы'`.\n",
    "- Кредиторы, которые находятся в статусах `'В разводе'` и`'Женат/Замужем'` имеют средний процент возврата."
   ]
  },
  {
   "cell_type": "markdown",
   "id": "1407437a",
   "metadata": {},
   "source": [
    "<div class=\"alert alert-success\">\n",
    "<h2> Комментарий ревьюера <a class=\"tocSkip\"> </h2>\n",
    "\n",
    "<b>Отлично!✅:</b> Таблица выведена прекрасно! Верно, заемщики состоящие или состоявшие в браке реже допускают просрочку.\n",
    "\n",
    "</div>"
   ]
  },
  {
   "cell_type": "markdown",
   "id": "c5af0f0a",
   "metadata": {
    "deletable": false,
    "editable": false,
    "id": "1e8b2fca"
   },
   "source": [
    "#### 3.3 Есть ли зависимость между уровнем дохода и возвратом кредита в срок?"
   ]
  },
  {
   "cell_type": "code",
   "execution_count": 24,
   "id": "526f6ccf",
   "metadata": {
    "deletable": false,
    "id": "cd7e3720"
   },
   "outputs": [
    {
     "data": {
      "text/html": [
       "<div>\n",
       "<style scoped>\n",
       "    .dataframe tbody tr th:only-of-type {\n",
       "        vertical-align: middle;\n",
       "    }\n",
       "\n",
       "    .dataframe tbody tr th {\n",
       "        vertical-align: top;\n",
       "    }\n",
       "\n",
       "    .dataframe thead th {\n",
       "        text-align: right;\n",
       "    }\n",
       "</style>\n",
       "<table border=\"1\" class=\"dataframe\">\n",
       "  <thead>\n",
       "    <tr style=\"text-align: right;\">\n",
       "      <th></th>\n",
       "      <th>count</th>\n",
       "      <th>mean</th>\n",
       "      <th>sum</th>\n",
       "    </tr>\n",
       "    <tr>\n",
       "      <th>total_income_category</th>\n",
       "      <th></th>\n",
       "      <th></th>\n",
       "      <th></th>\n",
       "    </tr>\n",
       "  </thead>\n",
       "  <tbody>\n",
       "    <tr>\n",
       "      <th>E</th>\n",
       "      <td>22.0</td>\n",
       "      <td>9.1</td>\n",
       "      <td>2.0</td>\n",
       "    </tr>\n",
       "    <tr>\n",
       "      <th>A</th>\n",
       "      <td>25.0</td>\n",
       "      <td>8.0</td>\n",
       "      <td>2.0</td>\n",
       "    </tr>\n",
       "    <tr>\n",
       "      <th>D</th>\n",
       "      <td>349.0</td>\n",
       "      <td>6.0</td>\n",
       "      <td>21.0</td>\n",
       "    </tr>\n",
       "    <tr>\n",
       "      <th>B</th>\n",
       "      <td>5,014.0</td>\n",
       "      <td>7.1</td>\n",
       "      <td>354.0</td>\n",
       "    </tr>\n",
       "    <tr>\n",
       "      <th>C</th>\n",
       "      <td>15,921.0</td>\n",
       "      <td>8.5</td>\n",
       "      <td>1,353.0</td>\n",
       "    </tr>\n",
       "  </tbody>\n",
       "</table>\n",
       "</div>"
      ],
      "text/plain": [
       "                         count  mean     sum\n",
       "total_income_category                       \n",
       "E                         22.0   9.1     2.0\n",
       "A                         25.0   8.0     2.0\n",
       "D                        349.0   6.0    21.0\n",
       "B                      5,014.0   7.1   354.0\n",
       "C                     15,921.0   8.5 1,353.0"
      ]
     },
     "execution_count": 24,
     "metadata": {},
     "output_type": "execute_result"
    }
   ],
   "source": [
    "data_pivot = data.pivot_table(index=['total_income_category'], values='debt', aggfunc=('sum','count','mean'))# Построим сводную таблицу зависимости между уровнем дохода и возвратом кредита в срок\n",
    "data_pivot['mean']=data_pivot['mean']*100# Отобразим среднее значние в виде процентов\n",
    "data_pivot.sort_values(by=['count']) # Отсортируем таблицу по значению count"
   ]
  },
  {
   "cell_type": "markdown",
   "id": "6fc4aed3",
   "metadata": {
    "deletable": false,
    "id": "e8593def"
   },
   "source": [
    "**Вывод:** \n",
    "- Количества значений в категориях `\"A\"`,`\"E\"`,`\"D\"` недостаточно для утверждения зависимости между уровнем дохода и вероятностью возврата кредита в срок.\n",
    "- Среди категорий `\"В\"` и `\"C\"` большую вероятность вернуть кредит в срок имеет категория \"B\". Те, кто зарабатывают больше (от 200001 до 1000000) вероятнее вернут кредит в срок, чем те, кто зарабатывает от 50001 до 200000."
   ]
  },
  {
   "cell_type": "markdown",
   "id": "f5f187df",
   "metadata": {},
   "source": [
    "<div class=\"alert alert-success\">\n",
    "<h2> Комментарий ревьюера <a class=\"tocSkip\"> </h2>\n",
    "\n",
    "<b>Отлично!✅:</b> Действительно, выборки крайне неравнозначны. Ответ верный!\n",
    "\n",
    "</div>"
   ]
  },
  {
   "cell_type": "markdown",
   "id": "0015eb7b",
   "metadata": {
    "deletable": false,
    "editable": false,
    "id": "99ecbd1f"
   },
   "source": [
    "#### 3.4 Как разные цели кредита влияют на его возврат в срок?"
   ]
  },
  {
   "cell_type": "code",
   "execution_count": 25,
   "id": "bdac3d42",
   "metadata": {
    "deletable": false,
    "id": "2b687290"
   },
   "outputs": [
    {
     "data": {
      "text/html": [
       "<div>\n",
       "<style scoped>\n",
       "    .dataframe tbody tr th:only-of-type {\n",
       "        vertical-align: middle;\n",
       "    }\n",
       "\n",
       "    .dataframe tbody tr th {\n",
       "        vertical-align: top;\n",
       "    }\n",
       "\n",
       "    .dataframe thead th {\n",
       "        text-align: right;\n",
       "    }\n",
       "</style>\n",
       "<table border=\"1\" class=\"dataframe\">\n",
       "  <thead>\n",
       "    <tr style=\"text-align: right;\">\n",
       "      <th></th>\n",
       "      <th>count</th>\n",
       "      <th>mean</th>\n",
       "      <th>sum</th>\n",
       "    </tr>\n",
       "    <tr>\n",
       "      <th>purpose_category</th>\n",
       "      <th></th>\n",
       "      <th></th>\n",
       "      <th></th>\n",
       "    </tr>\n",
       "  </thead>\n",
       "  <tbody>\n",
       "    <tr>\n",
       "      <th>операции с недвижимостью</th>\n",
       "      <td>10,751.0</td>\n",
       "      <td>7.3</td>\n",
       "      <td>780.0</td>\n",
       "    </tr>\n",
       "    <tr>\n",
       "      <th>проведение свадьбы</th>\n",
       "      <td>2,313.0</td>\n",
       "      <td>7.9</td>\n",
       "      <td>183.0</td>\n",
       "    </tr>\n",
       "    <tr>\n",
       "      <th>получение образования</th>\n",
       "      <td>3,988.0</td>\n",
       "      <td>9.3</td>\n",
       "      <td>369.0</td>\n",
       "    </tr>\n",
       "    <tr>\n",
       "      <th>операции с автомобилем</th>\n",
       "      <td>4,279.0</td>\n",
       "      <td>9.3</td>\n",
       "      <td>400.0</td>\n",
       "    </tr>\n",
       "  </tbody>\n",
       "</table>\n",
       "</div>"
      ],
      "text/plain": [
       "                            count  mean   sum\n",
       "purpose_category                             \n",
       "операции с недвижимостью 10,751.0   7.3 780.0\n",
       "проведение свадьбы        2,313.0   7.9 183.0\n",
       "получение образования     3,988.0   9.3 369.0\n",
       "операции с автомобилем    4,279.0   9.3 400.0"
      ]
     },
     "execution_count": 25,
     "metadata": {},
     "output_type": "execute_result"
    }
   ],
   "source": [
    "data_pivot = data.pivot_table(index=['purpose_category'], values='debt', aggfunc=('sum','count','mean'))# Построим сводную таблицу зависимости между уровнем дохода и возвратом кредита в срок\n",
    "data_pivot['mean']=data_pivot['mean']*100# Отобразим среднее значние в виде процентов\n",
    "data_pivot.sort_values(by=['mean']) # Отсортируем таблицу по значению mean"
   ]
  },
  {
   "cell_type": "markdown",
   "id": "e1759055",
   "metadata": {
    "deletable": false,
    "id": "b4bb2ce6"
   },
   "source": [
    "**Вывод:** \n",
    "- Больше всего кредиты берут в категории `'операции с недвижимостью'`. Эта же категория имеет большую веростность возврата кредита в срок по сравнению с другими категориями.\n",
    "- Самую меньшую вероятность возврата кредита имеют операции, относящиеся к категориям `'получение образования'` и `'операции с автомобилем'`"
   ]
  },
  {
   "cell_type": "markdown",
   "id": "7aca9b8d",
   "metadata": {},
   "source": [
    "<div class=\"alert alert-success\">\n",
    "<h2> Комментарий ревьюера <a class=\"tocSkip\"> </h2>\n",
    "\n",
    "<b>Отлично!✅:</b> Настя, молодец, шикарный вывод:)\n",
    "\n",
    "</div>"
   ]
  },
  {
   "cell_type": "markdown",
   "id": "785a6282",
   "metadata": {
    "deletable": false,
    "editable": false,
    "id": "09c3ac4c"
   },
   "source": [
    "#### 3.5 Приведите возможные причины появления пропусков в исходных данных."
   ]
  },
  {
   "cell_type": "markdown",
   "id": "c1147d47",
   "metadata": {
    "deletable": false,
    "id": "9da2ceda"
   },
   "source": [
    "*Ответ:* \n",
    "- Человеческий фактор (человек может пропустить случайно или просто не заполнить поля)\n",
    "- Ошибка системы (например, при выгрузке данных)\n",
    "- Ошибка при сборе данных"
   ]
  },
  {
   "cell_type": "markdown",
   "id": "c3d01027",
   "metadata": {},
   "source": [
    "<div class=\"alert alert-success\">\n",
    "<h2> Комментарий ревьюера <a class=\"tocSkip\"> </h2>\n",
    "\n",
    "<b>Отлично!✅:</b> Да, верно. Ошибку в системе по-другому называем техническая ошибка:)\n",
    "\n",
    "</div>"
   ]
  },
  {
   "cell_type": "markdown",
   "id": "9d23bdb7",
   "metadata": {
    "deletable": false,
    "editable": false,
    "id": "7b0487d6"
   },
   "source": [
    "#### 3.6 Объясните, почему заполнить пропуски медианным значением — лучшее решение для количественных переменных."
   ]
  },
  {
   "cell_type": "markdown",
   "id": "bfcf956f",
   "metadata": {
    "deletable": false,
    "id": "7ecf2b8e"
   },
   "source": [
    "*Ответ:* \n",
    "- Заполнение пропусков медианным значением является лучшим решением т.к медиана определяет центр распределения, т.е. область, в которой значения наиболее вероятны."
   ]
  },
  {
   "cell_type": "markdown",
   "id": "cb3dd743",
   "metadata": {},
   "source": [
    "<div class=\"alert alert-warning\">\n",
    "    <h2> Комментарий ревьюера <a class=\"tocSkip\"> </h2>\n",
    "    \n",
    "<b>Можно лучше⚠️:</b> Поясни, пожалуйста, поподробнее, почему медиана предпочтительнее, чем среднее значение?\n",
    "</div>"
   ]
  },
  {
   "cell_type": "markdown",
   "id": "92252252",
   "metadata": {},
   "source": [
    "  <div class=\"alert alert-info\"> <b>Комментарий студента:</b> Медиану использовать предпочтительнее, если есть сомнения в нормальности распределения данных т.е. если значения сильно разнятся. Если в таком случае брать среднее значение, результат будет неверным, поэтому предпочтительнее использовать медиану.  </div>\n",
    "    "
   ]
  },
  {
   "cell_type": "markdown",
   "id": "201a03b3",
   "metadata": {},
   "source": [
    "<div class=\"alert alert-success\">\n",
    "<h2> Комментарий ревьюера <a class=\"tocSkip\"> </h2>\n",
    "\n",
    "<b>Отлично!✅:</b> Отчасти с тобой согласна. Но! Здесь нужно указать, что медиана в отличие от среднего значения, менее чувствительна к выбросам, среднее значение смещается в сторону выбросов:)\n",
    "</div>"
   ]
  },
  {
   "cell_type": "markdown",
   "id": "2b5050c9",
   "metadata": {
    "deletable": false,
    "editable": false,
    "id": "6db5255a"
   },
   "source": [
    "### Шаг 4: общий вывод."
   ]
  },
  {
   "cell_type": "markdown",
   "id": "17638210",
   "metadata": {
    "deletable": false,
    "id": "bad65432"
   },
   "source": [
    "1. Для анализа были даны статистические данные о платежеспособности клиентов кредитного отдела банка. Основной задачей было узнать, влияет ли семейное положение и количество детей клиента на факт погашения кредита в срок. \n",
    "\n",
    "\n",
    "2. Перед началом работы с данными необходимо провести предобработку этих данных на предмет пропусков, дубликатов и аномальных значений.\n",
    "\n",
    "- В заданных данных были выявлены пропущенные значения в столбцах `'days_imployed'` и `'total_income'`. Данные в столбце `'total_income'` были заменены на медианные значения по каждому типу из столбца `'income_type'`, т.к они имеют прямую корреляцию. Данные в столбце `'days_imployed'`были обработаны с помощью метода .abs() и заполнены медианными значениями по каждого типа занятости income_type.\n",
    "- Также аномальные значения были выявлены в столбце `'children'`. Строки с этими аномальными значениями были удалены из датафрейма.\n",
    "- Были обработаны дубликаты в стоблце `'education`' методом .str.lower() (приведение к нижнему регистру) и методом drop_duplicates() (удаление дубликатов)\n",
    "\n",
    "3. Чтобы проще анализировать данные также необходима категоризациия. \n",
    "- В датайфрейм мы добавили новый столбец `'total_income_category`', в котором отражены типы клиентов по заработку, обработанные функцией \"categorize_income\"\n",
    "- Добавлен новый столбец с категоризацией по целям кредита `'purpose_category'`, обработанный функцицей 'categorize_purpose'\n",
    "\n",
    "4. После обработки и исследования данных можно сделать следующие выводы:\n",
    "- Вероятность невозврата кредита растет в зависимости от кол-ва детей в категории от 0 до 2х детей. Т.е клиент, у которого нет детей, вероятнее всего вернет долг в срок. Для клиентов с количеством детей от 3 до 5 сложно говорить о прямой зависимости, в силу маленькой выборки.\n",
    "- Вероятнее всего вернут кредит вовремя клиенты с семейным положением 'Вдовцы/Вдовы'. Наибольшую вероятность не вернуть кредит в срок имеют кредиторы со статусами 'Не женат/не замужем' и 'Гражданский брак'.\n",
    "- Клиенты зарабатывающие от 200 001 до 1 000 000 вернут кредит в срок с большей вероятностью. Клиенты категории \"С\" со средней вероятностью. Для клиентов категорий \"A\",\"E\",\"D\" недостаточно значений для утверждения зависимости.\n",
    "- Больше всего кредиты берут в категории 'операции с недвижимостью'. Эта же категория имеет большую вероятность возврата кредита в срок по сравнению с другими категориями. Самую меньшую вероятность возврата кредита имеют операции, относящиеся к категориям 'получение образования' и 'операции с автомобилем'\n",
    "\n",
    "5. Результаты исследования помогут при построении модели кредитного скоринга.По результатам исследования надежным заемщиком может являться клиент, который имеет: \n",
    "- От 0 до 2 х детей\n",
    "- Состоящий/ состоявший в браке\n",
    "- Заработок от 50 000 у.е.\n",
    "- Берет кредит под цели операций с недвижимостью\n",
    "\n",
    "  Неблагонадежный заемщик:\n",
    "- от 2х детей и более\n",
    "- Холост/ гражданский брак\n",
    "- Заработок до 50 000 у.е.\n",
    "- Берет под цели `\"операции с автомобилем\"`, `\"получение образования\"`\n"
   ]
  },
  {
   "cell_type": "markdown",
   "id": "2f9f5807",
   "metadata": {},
   "source": [
    "<div class=\"alert alert-success\">\n",
    "<h2> Комментарий ревьюера <a class=\"tocSkip\"> </h2>\n",
    "\n",
    "<b>Отлично!✅:</b> Молодец, что добавила такой развернутый вывод!\n",
    "\n",
    "</div>"
   ]
  },
  {
   "cell_type": "markdown",
   "id": "bab03469",
   "metadata": {},
   "source": [
    "<div class=\"alert alert-warning\">\n",
    "    <h2> Комментарий ревьюера <a class=\"tocSkip\"> </h2>\n",
    "    \n",
    "<b>Можно лучше⚠️:</b> Стоит еще добавить: информацию о данных с которыми работала; портреты хорошего и плохого заемщика; рекомендации для заказчика по сбору данных и скорингу.\n",
    "</div>"
   ]
  },
  {
   "cell_type": "markdown",
   "id": "9e255fba",
   "metadata": {},
   "source": [
    "<div class=\"alert alert-info\"> \n",
    "<b>Комментарий студента:</b> \n",
    "        Добавила пункты 1 и 5 в общий вывод.\n",
    "</div>\n",
    "    "
   ]
  },
  {
   "cell_type": "markdown",
   "id": "7371f29a",
   "metadata": {},
   "source": [
    "<div style=\"border:solid Chocolate 2px; padding: 40px\">\n",
    "Настя, давай подведем итоги. Ты молодец, что старалась и проделала такую большую работу. Все шаги выполнены на отлично. Супер, что сразу выводила таблицы полностью и писала развернутые выводы, за это большой плюс:)\n",
    "    \n",
    "    Разберем над чем стоит поработать:\n",
    "\n",
    "    1. Необходимо указать отличие медианы от среднего значения.\n",
    "    \n",
    "    2. Дополнить общий вывод:)\n",
    "    \n",
    "    Пересмотри работу и исправь ошибки. Обязательно пиши, если я могу тебе еще чем-то помочь. Удачи!)\n",
    "  "
   ]
  },
  {
   "cell_type": "markdown",
   "id": "8906b67b",
   "metadata": {},
   "source": [
    "<div class=\"alert alert-success\">\n",
    "<h2> Комментарий ревьюера <a class=\"tocSkip\"> </h2>\n",
    "\n",
    "<b>Отлично!✅:</b> Настя, молодец! Теперь все верно, работа принята:)\n",
    "</div>"
   ]
  }
 ],
 "metadata": {
  "ExecuteTimeLog": [
   {
    "duration": 50,
    "start_time": "2023-01-08T11:27:17.650Z"
   },
   {
    "duration": 6,
    "start_time": "2023-01-08T11:27:22.416Z"
   },
   {
    "duration": 491,
    "start_time": "2023-01-08T11:27:35.051Z"
   },
   {
    "duration": 541,
    "start_time": "2023-01-08T11:27:42.663Z"
   },
   {
    "duration": 24,
    "start_time": "2023-01-08T11:27:43.206Z"
   },
   {
    "duration": 34,
    "start_time": "2023-01-08T11:27:43.232Z"
   },
   {
    "duration": 21,
    "start_time": "2023-01-08T11:27:43.268Z"
   },
   {
    "duration": 58,
    "start_time": "2023-01-08T11:27:43.291Z"
   },
   {
    "duration": 4,
    "start_time": "2023-01-08T11:27:43.351Z"
   },
   {
    "duration": 20,
    "start_time": "2023-01-08T11:27:43.357Z"
   },
   {
    "duration": 14,
    "start_time": "2023-01-08T11:27:43.378Z"
   },
   {
    "duration": 17,
    "start_time": "2023-01-08T11:27:43.393Z"
   },
   {
    "duration": 14,
    "start_time": "2023-01-08T11:27:43.412Z"
   },
   {
    "duration": 51,
    "start_time": "2023-01-08T11:27:43.428Z"
   },
   {
    "duration": 10,
    "start_time": "2023-01-08T11:27:43.481Z"
   },
   {
    "duration": 20,
    "start_time": "2023-01-08T11:27:43.492Z"
   },
   {
    "duration": 31,
    "start_time": "2023-01-08T11:27:43.514Z"
   },
   {
    "duration": 28,
    "start_time": "2023-01-08T11:27:43.547Z"
   },
   {
    "duration": 32,
    "start_time": "2023-01-08T11:27:43.577Z"
   },
   {
    "duration": 14,
    "start_time": "2023-01-08T11:27:43.611Z"
   },
   {
    "duration": 19,
    "start_time": "2023-01-08T11:27:43.627Z"
   },
   {
    "duration": 30,
    "start_time": "2023-01-08T11:27:43.648Z"
   },
   {
    "duration": 23,
    "start_time": "2023-01-08T11:27:43.680Z"
   },
   {
    "duration": 72,
    "start_time": "2023-01-08T11:27:43.705Z"
   },
   {
    "duration": 111,
    "start_time": "2023-01-08T11:27:43.778Z"
   },
   {
    "duration": 0,
    "start_time": "2023-01-08T11:27:43.891Z"
   },
   {
    "duration": 0,
    "start_time": "2023-01-08T11:27:43.892Z"
   },
   {
    "duration": 0,
    "start_time": "2023-01-08T11:27:43.893Z"
   },
   {
    "duration": 11,
    "start_time": "2023-01-08T11:27:59.241Z"
   },
   {
    "duration": 22,
    "start_time": "2023-01-08T11:28:15.004Z"
   },
   {
    "duration": 2,
    "start_time": "2023-01-08T11:28:19.951Z"
   },
   {
    "duration": 26,
    "start_time": "2023-01-08T11:28:26.507Z"
   },
   {
    "duration": 15,
    "start_time": "2023-01-08T11:29:56.903Z"
   },
   {
    "duration": 9,
    "start_time": "2023-01-08T11:30:23.419Z"
   },
   {
    "duration": 8,
    "start_time": "2023-01-08T11:30:48.965Z"
   },
   {
    "duration": 10,
    "start_time": "2023-01-08T11:33:02.665Z"
   },
   {
    "duration": 7,
    "start_time": "2023-01-08T11:33:06.867Z"
   },
   {
    "duration": 74,
    "start_time": "2023-01-08T11:33:13.630Z"
   },
   {
    "duration": 69,
    "start_time": "2023-01-08T11:33:17.466Z"
   },
   {
    "duration": 10,
    "start_time": "2023-01-08T11:33:20.711Z"
   },
   {
    "duration": 14,
    "start_time": "2023-01-08T11:33:32.327Z"
   },
   {
    "duration": 27,
    "start_time": "2023-01-08T11:33:55.387Z"
   },
   {
    "duration": 15,
    "start_time": "2023-01-08T11:35:45.004Z"
   },
   {
    "duration": 11,
    "start_time": "2023-01-08T11:38:25.180Z"
   },
   {
    "duration": 14,
    "start_time": "2023-01-08T11:38:29.170Z"
   },
   {
    "duration": 28,
    "start_time": "2023-01-08T11:41:45.679Z"
   },
   {
    "duration": 13,
    "start_time": "2023-01-08T11:43:31.156Z"
   },
   {
    "duration": 13,
    "start_time": "2023-01-08T11:43:36.934Z"
   },
   {
    "duration": 29,
    "start_time": "2023-01-08T11:45:02.366Z"
   },
   {
    "duration": 11,
    "start_time": "2023-01-08T11:45:29.259Z"
   },
   {
    "duration": 8,
    "start_time": "2023-01-08T11:46:22.202Z"
   },
   {
    "duration": 8,
    "start_time": "2023-01-08T11:46:36.697Z"
   },
   {
    "duration": 8,
    "start_time": "2023-01-08T11:46:47.710Z"
   },
   {
    "duration": 9,
    "start_time": "2023-01-08T11:46:56.819Z"
   },
   {
    "duration": 11,
    "start_time": "2023-01-08T11:47:05.275Z"
   },
   {
    "duration": 10,
    "start_time": "2023-01-08T11:48:35.643Z"
   },
   {
    "duration": 6,
    "start_time": "2023-01-08T11:48:47.166Z"
   },
   {
    "duration": 10,
    "start_time": "2023-01-08T11:48:58.727Z"
   },
   {
    "duration": 8,
    "start_time": "2023-01-08T11:49:16.248Z"
   },
   {
    "duration": 9,
    "start_time": "2023-01-08T11:49:22.335Z"
   },
   {
    "duration": 18,
    "start_time": "2023-01-08T11:49:29.347Z"
   },
   {
    "duration": 7,
    "start_time": "2023-01-08T11:50:26.741Z"
   },
   {
    "duration": 78,
    "start_time": "2023-01-08T11:52:59.475Z"
   },
   {
    "duration": 10,
    "start_time": "2023-01-08T11:53:11.193Z"
   },
   {
    "duration": 90,
    "start_time": "2023-01-08T11:57:35.969Z"
   },
   {
    "duration": 17,
    "start_time": "2023-01-08T11:57:39.124Z"
   },
   {
    "duration": 11,
    "start_time": "2023-01-08T11:57:47.585Z"
   },
   {
    "duration": 12,
    "start_time": "2023-01-08T12:01:41.247Z"
   },
   {
    "duration": 9,
    "start_time": "2023-01-08T12:01:48.488Z"
   },
   {
    "duration": 5,
    "start_time": "2023-01-08T12:01:54.187Z"
   },
   {
    "duration": 5,
    "start_time": "2023-01-08T12:02:01.576Z"
   },
   {
    "duration": 10,
    "start_time": "2023-01-08T12:02:05.920Z"
   },
   {
    "duration": 10,
    "start_time": "2023-01-08T12:02:16.633Z"
   },
   {
    "duration": 10,
    "start_time": "2023-01-08T12:02:25.560Z"
   },
   {
    "duration": 91,
    "start_time": "2023-01-08T12:03:32.018Z"
   },
   {
    "duration": 17,
    "start_time": "2023-01-08T12:03:34.538Z"
   },
   {
    "duration": 10,
    "start_time": "2023-01-08T12:03:38.783Z"
   },
   {
    "duration": 74,
    "start_time": "2023-01-08T12:04:05.085Z"
   },
   {
    "duration": 10,
    "start_time": "2023-01-08T12:05:18.865Z"
   },
   {
    "duration": 71,
    "start_time": "2023-01-08T12:05:24.190Z"
   },
   {
    "duration": 21,
    "start_time": "2023-01-08T12:05:34.307Z"
   },
   {
    "duration": 14,
    "start_time": "2023-01-08T12:06:15.194Z"
   },
   {
    "duration": 11,
    "start_time": "2023-01-08T12:06:38.645Z"
   },
   {
    "duration": 9,
    "start_time": "2023-01-08T12:06:49.428Z"
   },
   {
    "duration": 13,
    "start_time": "2023-01-08T12:07:01.072Z"
   },
   {
    "duration": 14,
    "start_time": "2023-01-08T12:07:09.866Z"
   },
   {
    "duration": 9,
    "start_time": "2023-01-08T12:09:51.124Z"
   },
   {
    "duration": 17,
    "start_time": "2023-01-08T12:10:29.656Z"
   },
   {
    "duration": 15,
    "start_time": "2023-01-08T12:10:38.218Z"
   },
   {
    "duration": 97,
    "start_time": "2023-01-08T12:10:59.557Z"
   },
   {
    "duration": 17,
    "start_time": "2023-01-08T12:11:04.824Z"
   },
   {
    "duration": 75,
    "start_time": "2023-01-08T12:11:24.687Z"
   },
   {
    "duration": 24,
    "start_time": "2023-01-08T12:11:31.421Z"
   },
   {
    "duration": 20,
    "start_time": "2023-01-08T12:12:32.307Z"
   },
   {
    "duration": 20,
    "start_time": "2023-01-08T12:12:41.327Z"
   },
   {
    "duration": 14,
    "start_time": "2023-01-08T12:14:01.012Z"
   },
   {
    "duration": 19,
    "start_time": "2023-01-08T12:14:06.692Z"
   },
   {
    "duration": 23,
    "start_time": "2023-01-08T12:14:22.059Z"
   },
   {
    "duration": 8,
    "start_time": "2023-01-08T12:14:53.467Z"
   },
   {
    "duration": 7,
    "start_time": "2023-01-08T12:15:17.093Z"
   },
   {
    "duration": 9,
    "start_time": "2023-01-08T12:15:51.676Z"
   },
   {
    "duration": 94,
    "start_time": "2023-01-08T12:15:57.616Z"
   },
   {
    "duration": 9,
    "start_time": "2023-01-08T12:16:02.079Z"
   },
   {
    "duration": 73,
    "start_time": "2023-01-08T12:16:51.581Z"
   },
   {
    "duration": 74,
    "start_time": "2023-01-08T12:16:59.144Z"
   },
   {
    "duration": 8,
    "start_time": "2023-01-08T12:17:18.743Z"
   },
   {
    "duration": 22,
    "start_time": "2023-01-08T12:18:37.472Z"
   },
   {
    "duration": 22,
    "start_time": "2023-01-08T12:18:46.554Z"
   },
   {
    "duration": 23,
    "start_time": "2023-01-08T12:18:50.794Z"
   },
   {
    "duration": 19,
    "start_time": "2023-01-08T12:19:14.980Z"
   },
   {
    "duration": 10,
    "start_time": "2023-01-08T12:19:58.430Z"
   },
   {
    "duration": 9,
    "start_time": "2023-01-08T12:21:05.059Z"
   },
   {
    "duration": 12,
    "start_time": "2023-01-08T12:21:10.701Z"
   },
   {
    "duration": 10,
    "start_time": "2023-01-08T12:21:16.051Z"
   },
   {
    "duration": 9,
    "start_time": "2023-01-08T12:21:33.352Z"
   },
   {
    "duration": 14,
    "start_time": "2023-01-08T12:22:27.015Z"
   },
   {
    "duration": 15,
    "start_time": "2023-01-08T12:27:20.425Z"
   },
   {
    "duration": 13,
    "start_time": "2023-01-08T12:27:33.634Z"
   },
   {
    "duration": 12,
    "start_time": "2023-01-08T12:29:17.496Z"
   },
   {
    "duration": 33,
    "start_time": "2023-01-08T12:29:26.944Z"
   },
   {
    "duration": 14,
    "start_time": "2023-01-08T12:32:03.877Z"
   },
   {
    "duration": 13,
    "start_time": "2023-01-08T12:32:22.321Z"
   },
   {
    "duration": 11,
    "start_time": "2023-01-08T12:32:48.535Z"
   },
   {
    "duration": 12,
    "start_time": "2023-01-08T12:33:19.374Z"
   },
   {
    "duration": 1334,
    "start_time": "2023-01-08T12:35:36.600Z"
   },
   {
    "duration": 1137,
    "start_time": "2023-01-08T12:36:26.355Z"
   },
   {
    "duration": 13,
    "start_time": "2023-01-08T12:37:00.658Z"
   },
   {
    "duration": 15,
    "start_time": "2023-01-08T12:37:19.442Z"
   },
   {
    "duration": 1111,
    "start_time": "2023-01-08T12:37:58.022Z"
   },
   {
    "duration": 14,
    "start_time": "2023-01-08T12:38:51.503Z"
   },
   {
    "duration": 16,
    "start_time": "2023-01-08T12:38:59.174Z"
   },
   {
    "duration": 16,
    "start_time": "2023-01-08T12:39:14.194Z"
   },
   {
    "duration": 74,
    "start_time": "2023-01-08T12:39:51.380Z"
   },
   {
    "duration": 14,
    "start_time": "2023-01-08T12:40:18.831Z"
   },
   {
    "duration": 15,
    "start_time": "2023-01-08T12:41:35.317Z"
   },
   {
    "duration": 71,
    "start_time": "2023-01-08T12:41:39.480Z"
   },
   {
    "duration": 16,
    "start_time": "2023-01-08T12:41:42.888Z"
   },
   {
    "duration": 16,
    "start_time": "2023-01-08T12:42:05.049Z"
   },
   {
    "duration": 21,
    "start_time": "2023-01-08T12:43:51.783Z"
   },
   {
    "duration": 17,
    "start_time": "2023-01-08T12:44:14.644Z"
   },
   {
    "duration": 15,
    "start_time": "2023-01-08T12:44:24.071Z"
   },
   {
    "duration": 15,
    "start_time": "2023-01-08T12:48:18.438Z"
   },
   {
    "duration": 21,
    "start_time": "2023-01-08T12:49:33.813Z"
   },
   {
    "duration": 5,
    "start_time": "2023-01-08T12:50:18.385Z"
   },
   {
    "duration": 79,
    "start_time": "2023-01-08T12:50:33.995Z"
   },
   {
    "duration": 6,
    "start_time": "2023-01-08T12:50:38.289Z"
   },
   {
    "duration": 15,
    "start_time": "2023-01-08T12:51:54.536Z"
   },
   {
    "duration": 16,
    "start_time": "2023-01-08T12:52:03.438Z"
   },
   {
    "duration": 22,
    "start_time": "2023-01-08T12:53:23.845Z"
   },
   {
    "duration": 15,
    "start_time": "2023-01-08T12:53:33.717Z"
   },
   {
    "duration": 21,
    "start_time": "2023-01-08T13:29:52.986Z"
   },
   {
    "duration": 21,
    "start_time": "2023-01-08T13:29:57.039Z"
   },
   {
    "duration": 20,
    "start_time": "2023-01-08T13:30:19.867Z"
   },
   {
    "duration": 17,
    "start_time": "2023-01-08T13:31:03.194Z"
   },
   {
    "duration": 16,
    "start_time": "2023-01-08T13:31:06.722Z"
   },
   {
    "duration": 22,
    "start_time": "2023-01-08T13:31:17.332Z"
   },
   {
    "duration": 24,
    "start_time": "2023-01-08T13:31:23.080Z"
   },
   {
    "duration": 23,
    "start_time": "2023-01-08T13:31:28.513Z"
   },
   {
    "duration": 18,
    "start_time": "2023-01-08T13:31:54.947Z"
   },
   {
    "duration": 16,
    "start_time": "2023-01-08T13:32:03.460Z"
   },
   {
    "duration": 91,
    "start_time": "2023-01-08T13:32:27.225Z"
   },
   {
    "duration": 19,
    "start_time": "2023-01-08T13:32:46.328Z"
   },
   {
    "duration": 22,
    "start_time": "2023-01-08T13:33:18.578Z"
   },
   {
    "duration": 20,
    "start_time": "2023-01-08T13:33:34.994Z"
   },
   {
    "duration": 19,
    "start_time": "2023-01-08T13:33:44.489Z"
   },
   {
    "duration": 23,
    "start_time": "2023-01-08T13:34:25.531Z"
   },
   {
    "duration": 21,
    "start_time": "2023-01-08T13:34:32.418Z"
   },
   {
    "duration": 16,
    "start_time": "2023-01-08T13:35:41.236Z"
   },
   {
    "duration": 24,
    "start_time": "2023-01-08T13:35:46.924Z"
   },
   {
    "duration": 19,
    "start_time": "2023-01-08T13:36:31.942Z"
   },
   {
    "duration": 24,
    "start_time": "2023-01-08T13:36:41.185Z"
   },
   {
    "duration": 16,
    "start_time": "2023-01-08T13:36:50.024Z"
   },
   {
    "duration": 23,
    "start_time": "2023-01-08T13:37:22.910Z"
   },
   {
    "duration": 21,
    "start_time": "2023-01-08T13:37:32.105Z"
   },
   {
    "duration": 24,
    "start_time": "2023-01-08T13:37:39.836Z"
   },
   {
    "duration": 22,
    "start_time": "2023-01-08T13:38:10.845Z"
   },
   {
    "duration": 20,
    "start_time": "2023-01-08T13:38:16.819Z"
   },
   {
    "duration": 33,
    "start_time": "2023-01-08T13:39:55.160Z"
   },
   {
    "duration": 22,
    "start_time": "2023-01-08T13:40:47.496Z"
   },
   {
    "duration": 34,
    "start_time": "2023-01-08T13:40:50.568Z"
   },
   {
    "duration": 20,
    "start_time": "2023-01-08T13:41:13.014Z"
   },
   {
    "duration": 33,
    "start_time": "2023-01-08T13:41:22.662Z"
   },
   {
    "duration": 29,
    "start_time": "2023-01-08T13:41:28.752Z"
   },
   {
    "duration": 26,
    "start_time": "2023-01-08T13:42:00.584Z"
   },
   {
    "duration": 25,
    "start_time": "2023-01-08T13:42:05.257Z"
   },
   {
    "duration": 26,
    "start_time": "2023-01-08T13:43:32.029Z"
   },
   {
    "duration": 27,
    "start_time": "2023-01-08T13:45:42.913Z"
   },
   {
    "duration": 110,
    "start_time": "2023-01-08T13:45:46.498Z"
   },
   {
    "duration": 24,
    "start_time": "2023-01-08T13:45:51.499Z"
   },
   {
    "duration": 25,
    "start_time": "2023-01-08T13:46:32.584Z"
   },
   {
    "duration": 25,
    "start_time": "2023-01-08T13:46:38.933Z"
   },
   {
    "duration": 25,
    "start_time": "2023-01-08T13:46:52.546Z"
   },
   {
    "duration": 24,
    "start_time": "2023-01-08T13:47:06.478Z"
   },
   {
    "duration": 22,
    "start_time": "2023-01-08T13:55:52.472Z"
   },
   {
    "duration": 32,
    "start_time": "2023-01-08T13:56:34.058Z"
   },
   {
    "duration": 19,
    "start_time": "2023-01-08T13:56:57.919Z"
   },
   {
    "duration": 21,
    "start_time": "2023-01-08T13:57:03.798Z"
   },
   {
    "duration": 20,
    "start_time": "2023-01-08T13:57:12.343Z"
   },
   {
    "duration": 21,
    "start_time": "2023-01-08T13:57:26.346Z"
   },
   {
    "duration": 22,
    "start_time": "2023-01-08T13:57:57.250Z"
   },
   {
    "duration": 28,
    "start_time": "2023-01-08T13:58:27.278Z"
   },
   {
    "duration": 20,
    "start_time": "2023-01-08T13:58:59.483Z"
   },
   {
    "duration": 24,
    "start_time": "2023-01-08T13:59:03.400Z"
   },
   {
    "duration": 25,
    "start_time": "2023-01-08T13:59:09.108Z"
   },
   {
    "duration": 22,
    "start_time": "2023-01-08T13:59:22.486Z"
   },
   {
    "duration": 25,
    "start_time": "2023-01-08T13:59:34.937Z"
   },
   {
    "duration": 26,
    "start_time": "2023-01-08T13:59:46.904Z"
   },
   {
    "duration": 25,
    "start_time": "2023-01-08T13:59:56.103Z"
   },
   {
    "duration": 22,
    "start_time": "2023-01-08T14:00:06.545Z"
   },
   {
    "duration": 8,
    "start_time": "2023-01-08T14:00:28.451Z"
   },
   {
    "duration": 34,
    "start_time": "2023-01-08T14:00:37.409Z"
   },
   {
    "duration": 24,
    "start_time": "2023-01-08T14:00:58.499Z"
   },
   {
    "duration": 18,
    "start_time": "2023-01-08T14:01:13.292Z"
   },
   {
    "duration": 25,
    "start_time": "2023-01-08T14:01:23.479Z"
   },
   {
    "duration": 21,
    "start_time": "2023-01-08T14:01:32.881Z"
   },
   {
    "duration": 21,
    "start_time": "2023-01-08T14:01:45.393Z"
   },
   {
    "duration": 22,
    "start_time": "2023-01-08T14:01:52.798Z"
   },
   {
    "duration": 21,
    "start_time": "2023-01-08T14:01:56.229Z"
   },
   {
    "duration": 29,
    "start_time": "2023-01-08T14:02:16.998Z"
   },
   {
    "duration": 31,
    "start_time": "2023-01-08T14:02:29.333Z"
   },
   {
    "duration": 26,
    "start_time": "2023-01-08T14:02:33.323Z"
   },
   {
    "duration": 31,
    "start_time": "2023-01-08T14:02:43.611Z"
   },
   {
    "duration": 24,
    "start_time": "2023-01-08T14:06:50.723Z"
   },
   {
    "duration": 5,
    "start_time": "2023-01-08T14:07:14.546Z"
   },
   {
    "duration": 5,
    "start_time": "2023-01-08T14:08:10.767Z"
   },
   {
    "duration": 74,
    "start_time": "2023-01-08T14:08:37.878Z"
   },
   {
    "duration": 76,
    "start_time": "2023-01-08T14:09:46.940Z"
   },
   {
    "duration": 85,
    "start_time": "2023-01-08T14:09:55.033Z"
   },
   {
    "duration": 22,
    "start_time": "2023-01-08T14:10:06.051Z"
   },
   {
    "duration": 35,
    "start_time": "2023-01-08T14:10:25.168Z"
   },
   {
    "duration": 36,
    "start_time": "2023-01-08T14:10:36.932Z"
   },
   {
    "duration": 31,
    "start_time": "2023-01-08T14:10:51.883Z"
   },
   {
    "duration": 33,
    "start_time": "2023-01-08T14:10:56.963Z"
   },
   {
    "duration": 34,
    "start_time": "2023-01-08T14:11:47.789Z"
   },
   {
    "duration": 37,
    "start_time": "2023-01-08T14:12:27.667Z"
   },
   {
    "duration": 25,
    "start_time": "2023-01-08T14:22:24.246Z"
   },
   {
    "duration": 26,
    "start_time": "2023-01-08T14:22:32.446Z"
   },
   {
    "duration": 14,
    "start_time": "2023-01-08T14:28:04.635Z"
   },
   {
    "duration": 15,
    "start_time": "2023-01-08T14:28:18.913Z"
   },
   {
    "duration": 17,
    "start_time": "2023-01-08T14:28:23.088Z"
   },
   {
    "duration": 21,
    "start_time": "2023-01-08T14:28:33.321Z"
   },
   {
    "duration": 15,
    "start_time": "2023-01-08T14:28:40.078Z"
   },
   {
    "duration": 14,
    "start_time": "2023-01-08T14:28:53.351Z"
   },
   {
    "duration": 13,
    "start_time": "2023-01-08T14:28:56.072Z"
   },
   {
    "duration": 14,
    "start_time": "2023-01-08T14:28:59.159Z"
   },
   {
    "duration": 15,
    "start_time": "2023-01-08T14:29:09.093Z"
   },
   {
    "duration": 16,
    "start_time": "2023-01-08T14:29:12.809Z"
   },
   {
    "duration": 14,
    "start_time": "2023-01-08T14:29:17.052Z"
   },
   {
    "duration": 1139,
    "start_time": "2023-01-08T14:29:25.606Z"
   },
   {
    "duration": 13,
    "start_time": "2023-01-08T14:29:37.049Z"
   },
   {
    "duration": 1235,
    "start_time": "2023-01-08T14:29:59.781Z"
   },
   {
    "duration": 14,
    "start_time": "2023-01-08T14:30:10.573Z"
   },
   {
    "duration": 8,
    "start_time": "2023-01-08T14:30:14.216Z"
   },
   {
    "duration": 15,
    "start_time": "2023-01-08T14:30:48.448Z"
   },
   {
    "duration": 14,
    "start_time": "2023-01-08T14:30:51.791Z"
   },
   {
    "duration": 14,
    "start_time": "2023-01-08T14:30:56.822Z"
   },
   {
    "duration": 13,
    "start_time": "2023-01-08T14:31:01.158Z"
   },
   {
    "duration": 17,
    "start_time": "2023-01-08T14:31:18.571Z"
   },
   {
    "duration": 17,
    "start_time": "2023-01-08T14:31:30.651Z"
   },
   {
    "duration": 16,
    "start_time": "2023-01-08T14:31:34.168Z"
   },
   {
    "duration": 13,
    "start_time": "2023-01-08T14:31:46.129Z"
   },
   {
    "duration": 1121,
    "start_time": "2023-01-08T14:32:58.577Z"
   },
   {
    "duration": 14,
    "start_time": "2023-01-08T14:33:11.961Z"
   },
   {
    "duration": 92,
    "start_time": "2023-01-09T13:33:21.203Z"
   },
   {
    "duration": 70,
    "start_time": "2023-01-09T13:33:40.678Z"
   },
   {
    "duration": 86,
    "start_time": "2023-01-09T13:33:51.657Z"
   },
   {
    "duration": 75,
    "start_time": "2023-01-09T13:34:39.601Z"
   },
   {
    "duration": 696,
    "start_time": "2023-01-09T13:34:52.265Z"
   },
   {
    "duration": 24,
    "start_time": "2023-01-09T13:34:52.964Z"
   },
   {
    "duration": 16,
    "start_time": "2023-01-09T13:34:52.991Z"
   },
   {
    "duration": 17,
    "start_time": "2023-01-09T13:34:53.009Z"
   },
   {
    "duration": 56,
    "start_time": "2023-01-09T13:34:53.028Z"
   },
   {
    "duration": 3,
    "start_time": "2023-01-09T13:34:53.085Z"
   },
   {
    "duration": 14,
    "start_time": "2023-01-09T13:34:53.090Z"
   },
   {
    "duration": 4,
    "start_time": "2023-01-09T13:34:53.106Z"
   },
   {
    "duration": 13,
    "start_time": "2023-01-09T13:34:53.112Z"
   },
   {
    "duration": 11,
    "start_time": "2023-01-09T13:34:53.127Z"
   },
   {
    "duration": 40,
    "start_time": "2023-01-09T13:34:53.141Z"
   },
   {
    "duration": 13,
    "start_time": "2023-01-09T13:34:53.183Z"
   },
   {
    "duration": 6,
    "start_time": "2023-01-09T13:34:53.197Z"
   },
   {
    "duration": 40,
    "start_time": "2023-01-09T13:34:53.206Z"
   },
   {
    "duration": 20,
    "start_time": "2023-01-09T13:34:53.248Z"
   },
   {
    "duration": 18,
    "start_time": "2023-01-09T13:34:53.270Z"
   },
   {
    "duration": 4,
    "start_time": "2023-01-09T13:34:53.289Z"
   },
   {
    "duration": 19,
    "start_time": "2023-01-09T13:34:53.295Z"
   },
   {
    "duration": 23,
    "start_time": "2023-01-09T13:34:53.315Z"
   },
   {
    "duration": 3,
    "start_time": "2023-01-09T13:34:53.340Z"
   },
   {
    "duration": 10,
    "start_time": "2023-01-09T13:34:53.345Z"
   },
   {
    "duration": 17,
    "start_time": "2023-01-09T13:34:53.357Z"
   },
   {
    "duration": 26,
    "start_time": "2023-01-09T13:34:53.376Z"
   },
   {
    "duration": 51,
    "start_time": "2023-01-09T13:34:53.404Z"
   },
   {
    "duration": 23,
    "start_time": "2023-01-09T13:34:53.457Z"
   },
   {
    "duration": 79,
    "start_time": "2023-01-09T13:34:53.481Z"
   },
   {
    "duration": 75,
    "start_time": "2023-01-09T13:34:57.176Z"
   },
   {
    "duration": 72,
    "start_time": "2023-01-09T13:35:29.721Z"
   },
   {
    "duration": 75,
    "start_time": "2023-01-09T13:35:49.245Z"
   },
   {
    "duration": 76,
    "start_time": "2023-01-09T13:36:18.455Z"
   },
   {
    "duration": 78,
    "start_time": "2023-01-09T13:36:43.485Z"
   },
   {
    "duration": 70,
    "start_time": "2023-01-09T13:36:58.241Z"
   },
   {
    "duration": 74,
    "start_time": "2023-01-09T13:37:46.883Z"
   },
   {
    "duration": 91,
    "start_time": "2023-01-09T13:38:21.514Z"
   },
   {
    "duration": 81,
    "start_time": "2023-01-09T13:39:24.216Z"
   },
   {
    "duration": 89,
    "start_time": "2023-01-09T15:39:21.958Z"
   },
   {
    "duration": 76,
    "start_time": "2023-01-09T15:39:52.695Z"
   }
  ],
  "colab": {
   "name": "dpp_template_part2.ipynb",
   "provenance": []
  },
  "kernelspec": {
   "display_name": "Python 3 (ipykernel)",
   "language": "python",
   "name": "python3"
  },
  "language_info": {
   "codemirror_mode": {
    "name": "ipython",
    "version": 3
   },
   "file_extension": ".py",
   "mimetype": "text/x-python",
   "name": "python",
   "nbconvert_exporter": "python",
   "pygments_lexer": "ipython3",
   "version": "3.9.5"
  },
  "toc": {
   "base_numbering": 1,
   "nav_menu": {},
   "number_sections": true,
   "sideBar": true,
   "skip_h1_title": true,
   "title_cell": "Table of Contents",
   "title_sidebar": "Contents",
   "toc_cell": false,
   "toc_position": {},
   "toc_section_display": true,
   "toc_window_display": false
  }
 },
 "nbformat": 4,
 "nbformat_minor": 5
}
